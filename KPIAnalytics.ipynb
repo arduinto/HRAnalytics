{
 "cells": [
  {
   "cell_type": "code",
   "execution_count": 1,
   "metadata": {},
   "outputs": [],
   "source": [
    "import pandas as pd\n",
    "import numpy as np\n",
    "import plotly.express as px\n",
    "from plotly.offline import offline, iplot\n",
    "from datetime import datetime\n",
    "from wordcloud import WordCloud, ImageColorGenerator\n",
    "\n",
    "# Set Default Options\n",
    "# pd.set_option(\"display.max_columns\", None)\n",
    "pd.options.display.float_format = '{:,.1f}'.format\n",
    "used_color = [\"#ADA2FF\", \"#C0DEFF\", \"#FCDDB0\", \"#FF9F9F\", \"#EDD2F3\", \"#98EECC\"]"
   ]
  },
  {
   "cell_type": "markdown",
   "metadata": {},
   "source": [
    "### __Custome Visualization Functions__"
   ]
  },
  {
   "cell_type": "code",
   "execution_count": 2,
   "metadata": {},
   "outputs": [],
   "source": [
    "# Adding Line to Plotly Figure\n",
    "def add_line(\n",
    "    x0 = 0, \n",
    "    y0=0,\n",
    "    x1=0, \n",
    "    y1=0, \n",
    "    line_color='#ED1C24', \n",
    "    font_color='000000',\n",
    "    xposition = 'right',\n",
    "    text = 'Text'):\n",
    "    \n",
    "    fig.add_shape(type='line', x0=x0, y0=y0, x1=x1,y1=y1,\n",
    "                  line = {\n",
    "                      'color' : line_color,\n",
    "                      'width' : 3,\n",
    "                      'dash' : 'dashdot'\n",
    "                  },\n",
    "                  label = {\n",
    "                      'text' : f'{text} : {x1: 0.1f}\\t',\n",
    "                      'textposition' : 'end',\n",
    "                      'yanchor' : 'top',\n",
    "                      'xanchor' : xposition,\n",
    "                      'textangle' : 0,\n",
    "                      'font' : {\n",
    "                          'size' : 15,\n",
    "                          'color' : font_color,\n",
    "                          'family' : 'tahoma'\n",
    "                      },\n",
    "                  })"
   ]
  },
  {
   "cell_type": "code",
   "execution_count": 3,
   "metadata": {},
   "outputs": [],
   "source": [
    "def custom_layout(title_size = 28, showlegend = False):\n",
    "    fig.update_layout(\n",
    "        showlegend = showlegend,\n",
    "        title = {\n",
    "            'font' : {\n",
    "                'size' : title_size,\n",
    "                'family' : 'tahoma'\n",
    "            }\n",
    "        },\n",
    "        \n",
    "        hoverlabel = {\n",
    "            'bgcolor' : '#111',\n",
    "            'font_size' : 16,\n",
    "            'font_family' : 'arial'\n",
    "        }\n",
    "    )"
   ]
  },
  {
   "cell_type": "code",
   "execution_count": 4,
   "metadata": {},
   "outputs": [
    {
     "name": "stdout",
     "output_type": "stream",
     "text": [
      "Number of Employess: 90\n",
      "Number of Features: 6\n"
     ]
    }
   ],
   "source": [
    "df_emp = pd.read_excel('./EmployeeInformation.xlsx')\n",
    "print(f'Number of Employess: {df_emp.shape[0]}')\n",
    "print(f'Number of Features: {df_emp.shape[1]}')"
   ]
  },
  {
   "cell_type": "code",
   "execution_count": 5,
   "metadata": {},
   "outputs": [
    {
     "data": {
      "text/html": [
       "<div>\n",
       "<style scoped>\n",
       "    .dataframe tbody tr th:only-of-type {\n",
       "        vertical-align: middle;\n",
       "    }\n",
       "\n",
       "    .dataframe tbody tr th {\n",
       "        vertical-align: top;\n",
       "    }\n",
       "\n",
       "    .dataframe thead th {\n",
       "        text-align: right;\n",
       "    }\n",
       "</style>\n",
       "<table border=\"1\" class=\"dataframe\">\n",
       "  <thead>\n",
       "    <tr style=\"text-align: right;\">\n",
       "      <th></th>\n",
       "      <th>ID</th>\n",
       "      <th>Performance Review</th>\n",
       "      <th>City</th>\n",
       "      <th>Last Promotion Date</th>\n",
       "      <th>Salary</th>\n",
       "      <th>Overdue Vacation?</th>\n",
       "    </tr>\n",
       "  </thead>\n",
       "  <tbody>\n",
       "    <tr>\n",
       "      <th>0</th>\n",
       "      <td>1</td>\n",
       "      <td>10</td>\n",
       "      <td>Alabama</td>\n",
       "      <td>NaT</td>\n",
       "      <td>4539</td>\n",
       "      <td>No</td>\n",
       "    </tr>\n",
       "    <tr>\n",
       "      <th>1</th>\n",
       "      <td>2</td>\n",
       "      <td>10</td>\n",
       "      <td>Arizona</td>\n",
       "      <td>NaT</td>\n",
       "      <td>3698</td>\n",
       "      <td>Yes</td>\n",
       "    </tr>\n",
       "    <tr>\n",
       "      <th>2</th>\n",
       "      <td>3</td>\n",
       "      <td>8</td>\n",
       "      <td>Colorado</td>\n",
       "      <td>NaT</td>\n",
       "      <td>4157</td>\n",
       "      <td>Yes</td>\n",
       "    </tr>\n",
       "    <tr>\n",
       "      <th>3</th>\n",
       "      <td>4</td>\n",
       "      <td>10</td>\n",
       "      <td>Missouri</td>\n",
       "      <td>NaT</td>\n",
       "      <td>4360</td>\n",
       "      <td>Yes</td>\n",
       "    </tr>\n",
       "    <tr>\n",
       "      <th>4</th>\n",
       "      <td>5</td>\n",
       "      <td>7</td>\n",
       "      <td>New York</td>\n",
       "      <td>NaT</td>\n",
       "      <td>4144</td>\n",
       "      <td>Yes</td>\n",
       "    </tr>\n",
       "    <tr>\n",
       "      <th>...</th>\n",
       "      <td>...</td>\n",
       "      <td>...</td>\n",
       "      <td>...</td>\n",
       "      <td>...</td>\n",
       "      <td>...</td>\n",
       "      <td>...</td>\n",
       "    </tr>\n",
       "    <tr>\n",
       "      <th>85</th>\n",
       "      <td>86</td>\n",
       "      <td>10</td>\n",
       "      <td>Alabama</td>\n",
       "      <td>NaT</td>\n",
       "      <td>4430</td>\n",
       "      <td>No</td>\n",
       "    </tr>\n",
       "    <tr>\n",
       "      <th>86</th>\n",
       "      <td>87</td>\n",
       "      <td>9</td>\n",
       "      <td>Arizona</td>\n",
       "      <td>NaT</td>\n",
       "      <td>4183</td>\n",
       "      <td>No</td>\n",
       "    </tr>\n",
       "    <tr>\n",
       "      <th>87</th>\n",
       "      <td>88</td>\n",
       "      <td>10</td>\n",
       "      <td>Colorado</td>\n",
       "      <td>NaT</td>\n",
       "      <td>4308</td>\n",
       "      <td>No</td>\n",
       "    </tr>\n",
       "    <tr>\n",
       "      <th>88</th>\n",
       "      <td>89</td>\n",
       "      <td>7</td>\n",
       "      <td>Maryland</td>\n",
       "      <td>NaT</td>\n",
       "      <td>3920</td>\n",
       "      <td>No</td>\n",
       "    </tr>\n",
       "    <tr>\n",
       "      <th>89</th>\n",
       "      <td>90</td>\n",
       "      <td>7</td>\n",
       "      <td>Hawaii</td>\n",
       "      <td>NaT</td>\n",
       "      <td>4001</td>\n",
       "      <td>Yes</td>\n",
       "    </tr>\n",
       "  </tbody>\n",
       "</table>\n",
       "<p>90 rows × 6 columns</p>\n",
       "</div>"
      ],
      "text/plain": [
       "    ID  Performance Review       City Last Promotion Date  Salary  \\\n",
       "0    1                  10    Alabama                 NaT    4539   \n",
       "1    2                  10    Arizona                 NaT    3698   \n",
       "2    3                   8   Colorado                 NaT    4157   \n",
       "3    4                  10   Missouri                 NaT    4360   \n",
       "4    5                   7   New York                 NaT    4144   \n",
       "..  ..                 ...        ...                 ...     ...   \n",
       "85  86                  10    Alabama                 NaT    4430   \n",
       "86  87                   9    Arizona                 NaT    4183   \n",
       "87  88                  10   Colorado                 NaT    4308   \n",
       "88  89                   7   Maryland                 NaT    3920   \n",
       "89  90                   7     Hawaii                 NaT    4001   \n",
       "\n",
       "   Overdue Vacation?  \n",
       "0                 No  \n",
       "1                Yes  \n",
       "2                Yes  \n",
       "3                Yes  \n",
       "4                Yes  \n",
       "..               ...  \n",
       "85                No  \n",
       "86                No  \n",
       "87                No  \n",
       "88                No  \n",
       "89               Yes  \n",
       "\n",
       "[90 rows x 6 columns]"
      ]
     },
     "execution_count": 5,
     "metadata": {},
     "output_type": "execute_result"
    }
   ],
   "source": [
    "df_emp"
   ]
  },
  {
   "cell_type": "code",
   "execution_count": 6,
   "metadata": {},
   "outputs": [
    {
     "name": "stdout",
     "output_type": "stream",
     "text": [
      "<class 'pandas.core.frame.DataFrame'>\n",
      "RangeIndex: 90 entries, 0 to 89\n",
      "Data columns (total 6 columns):\n",
      " #   Column               Non-Null Count  Dtype         \n",
      "---  ------               --------------  -----         \n",
      " 0   ID                   90 non-null     int64         \n",
      " 1   Performance Review   90 non-null     int64         \n",
      " 2   City                 90 non-null     object        \n",
      " 3   Last Promotion Date  10 non-null     datetime64[ns]\n",
      " 4   Salary               90 non-null     int64         \n",
      " 5   Overdue Vacation?    89 non-null     object        \n",
      "dtypes: datetime64[ns](1), int64(3), object(2)\n",
      "memory usage: 4.3+ KB\n"
     ]
    }
   ],
   "source": [
    "df_emp.info()"
   ]
  },
  {
   "cell_type": "code",
   "execution_count": 7,
   "metadata": {},
   "outputs": [
    {
     "data": {
      "text/html": [
       "<div>\n",
       "<style scoped>\n",
       "    .dataframe tbody tr th:only-of-type {\n",
       "        vertical-align: middle;\n",
       "    }\n",
       "\n",
       "    .dataframe tbody tr th {\n",
       "        vertical-align: top;\n",
       "    }\n",
       "\n",
       "    .dataframe thead th {\n",
       "        text-align: right;\n",
       "    }\n",
       "</style>\n",
       "<table border=\"1\" class=\"dataframe\">\n",
       "  <thead>\n",
       "    <tr style=\"text-align: right;\">\n",
       "      <th></th>\n",
       "      <th>ID</th>\n",
       "      <th>Performance_Review</th>\n",
       "      <th>City</th>\n",
       "      <th>Last_Promotion_Date</th>\n",
       "      <th>Salary</th>\n",
       "      <th>Overdue_Vacation</th>\n",
       "    </tr>\n",
       "  </thead>\n",
       "  <tbody>\n",
       "    <tr>\n",
       "      <th>0</th>\n",
       "      <td>1</td>\n",
       "      <td>10</td>\n",
       "      <td>Alabama</td>\n",
       "      <td>NaT</td>\n",
       "      <td>4539</td>\n",
       "      <td>No</td>\n",
       "    </tr>\n",
       "    <tr>\n",
       "      <th>1</th>\n",
       "      <td>2</td>\n",
       "      <td>10</td>\n",
       "      <td>Arizona</td>\n",
       "      <td>NaT</td>\n",
       "      <td>3698</td>\n",
       "      <td>Yes</td>\n",
       "    </tr>\n",
       "    <tr>\n",
       "      <th>2</th>\n",
       "      <td>3</td>\n",
       "      <td>8</td>\n",
       "      <td>Colorado</td>\n",
       "      <td>NaT</td>\n",
       "      <td>4157</td>\n",
       "      <td>Yes</td>\n",
       "    </tr>\n",
       "    <tr>\n",
       "      <th>3</th>\n",
       "      <td>4</td>\n",
       "      <td>10</td>\n",
       "      <td>Missouri</td>\n",
       "      <td>NaT</td>\n",
       "      <td>4360</td>\n",
       "      <td>Yes</td>\n",
       "    </tr>\n",
       "    <tr>\n",
       "      <th>4</th>\n",
       "      <td>5</td>\n",
       "      <td>7</td>\n",
       "      <td>New York</td>\n",
       "      <td>NaT</td>\n",
       "      <td>4144</td>\n",
       "      <td>Yes</td>\n",
       "    </tr>\n",
       "    <tr>\n",
       "      <th>5</th>\n",
       "      <td>6</td>\n",
       "      <td>5</td>\n",
       "      <td>Ohio</td>\n",
       "      <td>NaT</td>\n",
       "      <td>4257</td>\n",
       "      <td>No</td>\n",
       "    </tr>\n",
       "    <tr>\n",
       "      <th>6</th>\n",
       "      <td>7</td>\n",
       "      <td>8</td>\n",
       "      <td>Oregon</td>\n",
       "      <td>NaT</td>\n",
       "      <td>4534</td>\n",
       "      <td>No</td>\n",
       "    </tr>\n",
       "    <tr>\n",
       "      <th>7</th>\n",
       "      <td>8</td>\n",
       "      <td>9</td>\n",
       "      <td>Arizona</td>\n",
       "      <td>2017-08-12</td>\n",
       "      <td>4094</td>\n",
       "      <td>Yes</td>\n",
       "    </tr>\n",
       "    <tr>\n",
       "      <th>8</th>\n",
       "      <td>9</td>\n",
       "      <td>9</td>\n",
       "      <td>Montana</td>\n",
       "      <td>NaT</td>\n",
       "      <td>4289</td>\n",
       "      <td>Yes</td>\n",
       "    </tr>\n",
       "    <tr>\n",
       "      <th>9</th>\n",
       "      <td>10</td>\n",
       "      <td>9</td>\n",
       "      <td>Missouri</td>\n",
       "      <td>NaT</td>\n",
       "      <td>3834</td>\n",
       "      <td>Yes</td>\n",
       "    </tr>\n",
       "    <tr>\n",
       "      <th>10</th>\n",
       "      <td>11</td>\n",
       "      <td>5</td>\n",
       "      <td>New York</td>\n",
       "      <td>NaT</td>\n",
       "      <td>3917</td>\n",
       "      <td>Yes</td>\n",
       "    </tr>\n",
       "    <tr>\n",
       "      <th>11</th>\n",
       "      <td>12</td>\n",
       "      <td>9</td>\n",
       "      <td>Ohio</td>\n",
       "      <td>NaT</td>\n",
       "      <td>3625</td>\n",
       "      <td>No</td>\n",
       "    </tr>\n",
       "    <tr>\n",
       "      <th>12</th>\n",
       "      <td>13</td>\n",
       "      <td>6</td>\n",
       "      <td>Oregon</td>\n",
       "      <td>NaT</td>\n",
       "      <td>4157</td>\n",
       "      <td>No</td>\n",
       "    </tr>\n",
       "    <tr>\n",
       "      <th>13</th>\n",
       "      <td>14</td>\n",
       "      <td>5</td>\n",
       "      <td>Missouri</td>\n",
       "      <td>NaT</td>\n",
       "      <td>4307</td>\n",
       "      <td>No</td>\n",
       "    </tr>\n",
       "    <tr>\n",
       "      <th>14</th>\n",
       "      <td>15</td>\n",
       "      <td>8</td>\n",
       "      <td>New York</td>\n",
       "      <td>2017-08-12</td>\n",
       "      <td>4008</td>\n",
       "      <td>No</td>\n",
       "    </tr>\n",
       "  </tbody>\n",
       "</table>\n",
       "</div>"
      ],
      "text/plain": [
       "    ID  Performance_Review      City Last_Promotion_Date  Salary  \\\n",
       "0    1                  10   Alabama                 NaT    4539   \n",
       "1    2                  10   Arizona                 NaT    3698   \n",
       "2    3                   8  Colorado                 NaT    4157   \n",
       "3    4                  10  Missouri                 NaT    4360   \n",
       "4    5                   7  New York                 NaT    4144   \n",
       "5    6                   5      Ohio                 NaT    4257   \n",
       "6    7                   8    Oregon                 NaT    4534   \n",
       "7    8                   9   Arizona          2017-08-12    4094   \n",
       "8    9                   9   Montana                 NaT    4289   \n",
       "9   10                   9  Missouri                 NaT    3834   \n",
       "10  11                   5  New York                 NaT    3917   \n",
       "11  12                   9      Ohio                 NaT    3625   \n",
       "12  13                   6    Oregon                 NaT    4157   \n",
       "13  14                   5  Missouri                 NaT    4307   \n",
       "14  15                   8  New York          2017-08-12    4008   \n",
       "\n",
       "   Overdue_Vacation  \n",
       "0                No  \n",
       "1               Yes  \n",
       "2               Yes  \n",
       "3               Yes  \n",
       "4               Yes  \n",
       "5                No  \n",
       "6                No  \n",
       "7               Yes  \n",
       "8               Yes  \n",
       "9               Yes  \n",
       "10              Yes  \n",
       "11               No  \n",
       "12               No  \n",
       "13               No  \n",
       "14               No  "
      ]
     },
     "execution_count": 7,
     "metadata": {},
     "output_type": "execute_result"
    }
   ],
   "source": [
    "# Clean the columns name from any spaces\n",
    "df_emp.columns = df_emp.columns.str.replace(' ','_', regex=False).str.replace('?', '', regex=False)\n",
    "df_emp.head(15)"
   ]
  },
  {
   "cell_type": "markdown",
   "metadata": {},
   "source": [
    "### __Loading Departments Data__"
   ]
  },
  {
   "cell_type": "code",
   "execution_count": 8,
   "metadata": {},
   "outputs": [
    {
     "name": "stdout",
     "output_type": "stream",
     "text": [
      "Number of Departments : 7\n",
      "Number of Columns : 2\n"
     ]
    }
   ],
   "source": [
    "df_dep = pd.read_excel('./DepartmentInformation.xlsx')\n",
    "print(f'Number of Departments : {df_dep.shape[0]}')\n",
    "print(f'Number of Columns : {df_dep.shape[1]}')"
   ]
  },
  {
   "cell_type": "code",
   "execution_count": 9,
   "metadata": {},
   "outputs": [
    {
     "data": {
      "text/html": [
       "<div>\n",
       "<style scoped>\n",
       "    .dataframe tbody tr th:only-of-type {\n",
       "        vertical-align: middle;\n",
       "    }\n",
       "\n",
       "    .dataframe tbody tr th {\n",
       "        vertical-align: top;\n",
       "    }\n",
       "\n",
       "    .dataframe thead th {\n",
       "        text-align: right;\n",
       "    }\n",
       "</style>\n",
       "<table border=\"1\" class=\"dataframe\">\n",
       "  <thead>\n",
       "    <tr style=\"text-align: right;\">\n",
       "      <th></th>\n",
       "      <th>Department</th>\n",
       "      <th>Manager</th>\n",
       "    </tr>\n",
       "  </thead>\n",
       "  <tbody>\n",
       "    <tr>\n",
       "      <th>0</th>\n",
       "      <td>Finance / Accounting</td>\n",
       "      <td>Phelipp</td>\n",
       "    </tr>\n",
       "    <tr>\n",
       "      <th>1</th>\n",
       "      <td>Legal</td>\n",
       "      <td>Anna</td>\n",
       "    </tr>\n",
       "    <tr>\n",
       "      <th>2</th>\n",
       "      <td>Strategy</td>\n",
       "      <td>Antonella</td>\n",
       "    </tr>\n",
       "    <tr>\n",
       "      <th>3</th>\n",
       "      <td>Marketing</td>\n",
       "      <td>Phelipp</td>\n",
       "    </tr>\n",
       "    <tr>\n",
       "      <th>4</th>\n",
       "      <td>Development</td>\n",
       "      <td>Leyla</td>\n",
       "    </tr>\n",
       "    <tr>\n",
       "      <th>5</th>\n",
       "      <td>Sales</td>\n",
       "      <td>Gabriela</td>\n",
       "    </tr>\n",
       "    <tr>\n",
       "      <th>6</th>\n",
       "      <td>Technology and Equipment</td>\n",
       "      <td>Sidney</td>\n",
       "    </tr>\n",
       "  </tbody>\n",
       "</table>\n",
       "</div>"
      ],
      "text/plain": [
       "                 Department    Manager\n",
       "0      Finance / Accounting    Phelipp\n",
       "1                     Legal       Anna\n",
       "2                  Strategy  Antonella\n",
       "3                 Marketing    Phelipp\n",
       "4               Development      Leyla\n",
       "5                     Sales   Gabriela\n",
       "6  Technology and Equipment     Sidney"
      ]
     },
     "execution_count": 9,
     "metadata": {},
     "output_type": "execute_result"
    }
   ],
   "source": [
    "df_dep"
   ]
  },
  {
   "cell_type": "code",
   "execution_count": 10,
   "metadata": {},
   "outputs": [
    {
     "name": "stdout",
     "output_type": "stream",
     "text": [
      "<class 'pandas.core.frame.DataFrame'>\n",
      "RangeIndex: 7 entries, 0 to 6\n",
      "Data columns (total 2 columns):\n",
      " #   Column      Non-Null Count  Dtype \n",
      "---  ------      --------------  ----- \n",
      " 0   Department  7 non-null      object\n",
      " 1   Manager     7 non-null      object\n",
      "dtypes: object(2)\n",
      "memory usage: 244.0+ bytes\n"
     ]
    }
   ],
   "source": [
    "df_dep.info()"
   ]
  },
  {
   "cell_type": "markdown",
   "metadata": {},
   "source": [
    "### __Load HR Fact Data__"
   ]
  },
  {
   "cell_type": "code",
   "execution_count": 11,
   "metadata": {},
   "outputs": [
    {
     "name": "stdout",
     "output_type": "stream",
     "text": [
      "Number of Records: 90\n",
      "Number of Columns: 10\n"
     ]
    }
   ],
   "source": [
    "df_hr = pd.read_excel('./HRDatabase.xlsx')\n",
    "print(f'Number of Records: {df_hr.shape[0]}')\n",
    "print(f'Number of Columns: {df_hr.shape[1]}')"
   ]
  },
  {
   "cell_type": "code",
   "execution_count": 12,
   "metadata": {},
   "outputs": [
    {
     "data": {
      "text/html": [
       "<div>\n",
       "<style scoped>\n",
       "    .dataframe tbody tr th:only-of-type {\n",
       "        vertical-align: middle;\n",
       "    }\n",
       "\n",
       "    .dataframe tbody tr th {\n",
       "        vertical-align: top;\n",
       "    }\n",
       "\n",
       "    .dataframe thead th {\n",
       "        text-align: right;\n",
       "    }\n",
       "</style>\n",
       "<table border=\"1\" class=\"dataframe\">\n",
       "  <thead>\n",
       "    <tr style=\"text-align: right;\">\n",
       "      <th></th>\n",
       "      <th>ID</th>\n",
       "      <th>Employee</th>\n",
       "      <th>Gender</th>\n",
       "      <th>Birth Date</th>\n",
       "      <th>Hire Date</th>\n",
       "      <th>Termination Date</th>\n",
       "      <th>Termination Reason</th>\n",
       "      <th>Education</th>\n",
       "      <th>Position</th>\n",
       "      <th>Department</th>\n",
       "    </tr>\n",
       "  </thead>\n",
       "  <tbody>\n",
       "    <tr>\n",
       "      <th>0</th>\n",
       "      <td>1</td>\n",
       "      <td>Harley Matthews</td>\n",
       "      <td>Female</td>\n",
       "      <td>1989-08-17</td>\n",
       "      <td>2011-10-02</td>\n",
       "      <td>NaT</td>\n",
       "      <td>NaN</td>\n",
       "      <td>Higher Certificate</td>\n",
       "      <td>Administrator</td>\n",
       "      <td>Finance / Accounting</td>\n",
       "    </tr>\n",
       "    <tr>\n",
       "      <th>1</th>\n",
       "      <td>2</td>\n",
       "      <td>Aliyah Thomas</td>\n",
       "      <td>Female</td>\n",
       "      <td>1988-03-27</td>\n",
       "      <td>2012-03-22</td>\n",
       "      <td>2015-05-01</td>\n",
       "      <td>Unfair Dismissal</td>\n",
       "      <td>Higher Certificate</td>\n",
       "      <td>Lawyer</td>\n",
       "      <td>Legal</td>\n",
       "    </tr>\n",
       "    <tr>\n",
       "      <th>2</th>\n",
       "      <td>3</td>\n",
       "      <td>Madeleine Bradley</td>\n",
       "      <td>Female</td>\n",
       "      <td>1981-04-18</td>\n",
       "      <td>2012-08-24</td>\n",
       "      <td>2016-06-19</td>\n",
       "      <td>Resignation</td>\n",
       "      <td>Bachelor's Incompleted</td>\n",
       "      <td>Administrative Analyst</td>\n",
       "      <td>Finance / Accounting</td>\n",
       "    </tr>\n",
       "    <tr>\n",
       "      <th>3</th>\n",
       "      <td>4</td>\n",
       "      <td>Gabrielle Gardner</td>\n",
       "      <td>Female</td>\n",
       "      <td>2002-10-31</td>\n",
       "      <td>2012-11-12</td>\n",
       "      <td>NaT</td>\n",
       "      <td>NaN</td>\n",
       "      <td>Bachelor's Completed</td>\n",
       "      <td>Accounting Analyst</td>\n",
       "      <td>Finance / Accounting</td>\n",
       "    </tr>\n",
       "    <tr>\n",
       "      <th>4</th>\n",
       "      <td>5</td>\n",
       "      <td>Molly Owen</td>\n",
       "      <td>Female</td>\n",
       "      <td>1979-10-22</td>\n",
       "      <td>2013-09-18</td>\n",
       "      <td>NaT</td>\n",
       "      <td>NaN</td>\n",
       "      <td>Bachelor's Completed</td>\n",
       "      <td>Database Analyst</td>\n",
       "      <td>Strategy</td>\n",
       "    </tr>\n",
       "    <tr>\n",
       "      <th>...</th>\n",
       "      <td>...</td>\n",
       "      <td>...</td>\n",
       "      <td>...</td>\n",
       "      <td>...</td>\n",
       "      <td>...</td>\n",
       "      <td>...</td>\n",
       "      <td>...</td>\n",
       "      <td>...</td>\n",
       "      <td>...</td>\n",
       "      <td>...</td>\n",
       "    </tr>\n",
       "    <tr>\n",
       "      <th>85</th>\n",
       "      <td>86</td>\n",
       "      <td>Aryan Reynolds</td>\n",
       "      <td>Male</td>\n",
       "      <td>1963-11-21</td>\n",
       "      <td>2018-12-17</td>\n",
       "      <td>2019-03-17</td>\n",
       "      <td>Resignation</td>\n",
       "      <td>Higher Certificate</td>\n",
       "      <td>Commercial Assistant</td>\n",
       "      <td>Sales</td>\n",
       "    </tr>\n",
       "    <tr>\n",
       "      <th>86</th>\n",
       "      <td>87</td>\n",
       "      <td>Grayson Lowe</td>\n",
       "      <td>Male</td>\n",
       "      <td>1986-04-15</td>\n",
       "      <td>2019-05-05</td>\n",
       "      <td>NaT</td>\n",
       "      <td>NaN</td>\n",
       "      <td>Bachelor's Incompleted</td>\n",
       "      <td>Developer</td>\n",
       "      <td>Development</td>\n",
       "    </tr>\n",
       "    <tr>\n",
       "      <th>87</th>\n",
       "      <td>88</td>\n",
       "      <td>Antonio Ball</td>\n",
       "      <td>Male</td>\n",
       "      <td>1984-08-17</td>\n",
       "      <td>2019-07-25</td>\n",
       "      <td>NaT</td>\n",
       "      <td>NaN</td>\n",
       "      <td>Bachelor's Completed</td>\n",
       "      <td>Pogrammer Analyst</td>\n",
       "      <td>Development</td>\n",
       "    </tr>\n",
       "    <tr>\n",
       "      <th>88</th>\n",
       "      <td>89</td>\n",
       "      <td>Ethan Simpson</td>\n",
       "      <td>Male</td>\n",
       "      <td>1969-07-14</td>\n",
       "      <td>2019-08-04</td>\n",
       "      <td>NaT</td>\n",
       "      <td>NaN</td>\n",
       "      <td>Bachelor's Completed</td>\n",
       "      <td>Salesperson</td>\n",
       "      <td>Sales</td>\n",
       "    </tr>\n",
       "    <tr>\n",
       "      <th>89</th>\n",
       "      <td>90</td>\n",
       "      <td>Blake Barker</td>\n",
       "      <td>Male</td>\n",
       "      <td>1982-06-13</td>\n",
       "      <td>2019-10-10</td>\n",
       "      <td>NaT</td>\n",
       "      <td>NaN</td>\n",
       "      <td>Doctoral</td>\n",
       "      <td>Developer</td>\n",
       "      <td>Development</td>\n",
       "    </tr>\n",
       "  </tbody>\n",
       "</table>\n",
       "<p>90 rows × 10 columns</p>\n",
       "</div>"
      ],
      "text/plain": [
       "    ID           Employee  Gender Birth Date  Hire Date Termination Date  \\\n",
       "0    1    Harley Matthews  Female 1989-08-17 2011-10-02              NaT   \n",
       "1    2      Aliyah Thomas  Female 1988-03-27 2012-03-22       2015-05-01   \n",
       "2    3  Madeleine Bradley  Female 1981-04-18 2012-08-24       2016-06-19   \n",
       "3    4  Gabrielle Gardner  Female 2002-10-31 2012-11-12              NaT   \n",
       "4    5         Molly Owen  Female 1979-10-22 2013-09-18              NaT   \n",
       "..  ..                ...     ...        ...        ...              ...   \n",
       "85  86     Aryan Reynolds    Male 1963-11-21 2018-12-17       2019-03-17   \n",
       "86  87       Grayson Lowe    Male 1986-04-15 2019-05-05              NaT   \n",
       "87  88       Antonio Ball    Male 1984-08-17 2019-07-25              NaT   \n",
       "88  89      Ethan Simpson    Male 1969-07-14 2019-08-04              NaT   \n",
       "89  90       Blake Barker    Male 1982-06-13 2019-10-10              NaT   \n",
       "\n",
       "   Termination Reason               Education                Position  \\\n",
       "0                 NaN      Higher Certificate           Administrator   \n",
       "1    Unfair Dismissal      Higher Certificate                  Lawyer   \n",
       "2         Resignation  Bachelor's Incompleted  Administrative Analyst   \n",
       "3                 NaN    Bachelor's Completed      Accounting Analyst   \n",
       "4                 NaN    Bachelor's Completed        Database Analyst   \n",
       "..                ...                     ...                     ...   \n",
       "85        Resignation      Higher Certificate    Commercial Assistant   \n",
       "86                NaN  Bachelor's Incompleted               Developer   \n",
       "87                NaN    Bachelor's Completed       Pogrammer Analyst   \n",
       "88                NaN    Bachelor's Completed             Salesperson   \n",
       "89                NaN                Doctoral               Developer   \n",
       "\n",
       "              Department  \n",
       "0   Finance / Accounting  \n",
       "1                  Legal  \n",
       "2   Finance / Accounting  \n",
       "3   Finance / Accounting  \n",
       "4               Strategy  \n",
       "..                   ...  \n",
       "85                 Sales  \n",
       "86           Development  \n",
       "87           Development  \n",
       "88                 Sales  \n",
       "89           Development  \n",
       "\n",
       "[90 rows x 10 columns]"
      ]
     },
     "execution_count": 12,
     "metadata": {},
     "output_type": "execute_result"
    }
   ],
   "source": [
    "df_hr"
   ]
  },
  {
   "cell_type": "code",
   "execution_count": 13,
   "metadata": {},
   "outputs": [
    {
     "name": "stdout",
     "output_type": "stream",
     "text": [
      "<class 'pandas.core.frame.DataFrame'>\n",
      "RangeIndex: 90 entries, 0 to 89\n",
      "Data columns (total 10 columns):\n",
      " #   Column              Non-Null Count  Dtype         \n",
      "---  ------              --------------  -----         \n",
      " 0   ID                  90 non-null     int64         \n",
      " 1   Employee            90 non-null     object        \n",
      " 2   Gender              90 non-null     object        \n",
      " 3   Birth Date          90 non-null     datetime64[ns]\n",
      " 4   Hire Date           90 non-null     datetime64[ns]\n",
      " 5   Termination Date    26 non-null     datetime64[ns]\n",
      " 6   Termination Reason  26 non-null     object        \n",
      " 7   Education           90 non-null     object        \n",
      " 8   Position            90 non-null     object        \n",
      " 9   Department          90 non-null     object        \n",
      "dtypes: datetime64[ns](3), int64(1), object(6)\n",
      "memory usage: 7.2+ KB\n"
     ]
    }
   ],
   "source": [
    "df_hr.info()"
   ]
  },
  {
   "cell_type": "code",
   "execution_count": 14,
   "metadata": {},
   "outputs": [],
   "source": [
    "df_hr.columns = df_hr.columns.str.replace(' ','_', regex=False)"
   ]
  },
  {
   "cell_type": "code",
   "execution_count": 15,
   "metadata": {},
   "outputs": [
    {
     "data": {
      "text/html": [
       "<div>\n",
       "<style scoped>\n",
       "    .dataframe tbody tr th:only-of-type {\n",
       "        vertical-align: middle;\n",
       "    }\n",
       "\n",
       "    .dataframe tbody tr th {\n",
       "        vertical-align: top;\n",
       "    }\n",
       "\n",
       "    .dataframe thead th {\n",
       "        text-align: right;\n",
       "    }\n",
       "</style>\n",
       "<table border=\"1\" class=\"dataframe\">\n",
       "  <thead>\n",
       "    <tr style=\"text-align: right;\">\n",
       "      <th></th>\n",
       "      <th>ID</th>\n",
       "      <th>Employee</th>\n",
       "      <th>Gender</th>\n",
       "      <th>Birth_Date</th>\n",
       "      <th>Hire_Date</th>\n",
       "      <th>Termination_Date</th>\n",
       "      <th>Termination_Reason</th>\n",
       "      <th>Education</th>\n",
       "      <th>Position</th>\n",
       "      <th>Department</th>\n",
       "    </tr>\n",
       "  </thead>\n",
       "  <tbody>\n",
       "    <tr>\n",
       "      <th>0</th>\n",
       "      <td>1</td>\n",
       "      <td>Harley Matthews</td>\n",
       "      <td>Female</td>\n",
       "      <td>1989-08-17</td>\n",
       "      <td>2011-10-02</td>\n",
       "      <td>NaT</td>\n",
       "      <td>NaN</td>\n",
       "      <td>Higher Certificate</td>\n",
       "      <td>Administrator</td>\n",
       "      <td>Finance / Accounting</td>\n",
       "    </tr>\n",
       "    <tr>\n",
       "      <th>1</th>\n",
       "      <td>2</td>\n",
       "      <td>Aliyah Thomas</td>\n",
       "      <td>Female</td>\n",
       "      <td>1988-03-27</td>\n",
       "      <td>2012-03-22</td>\n",
       "      <td>2015-05-01</td>\n",
       "      <td>Unfair Dismissal</td>\n",
       "      <td>Higher Certificate</td>\n",
       "      <td>Lawyer</td>\n",
       "      <td>Legal</td>\n",
       "    </tr>\n",
       "    <tr>\n",
       "      <th>2</th>\n",
       "      <td>3</td>\n",
       "      <td>Madeleine Bradley</td>\n",
       "      <td>Female</td>\n",
       "      <td>1981-04-18</td>\n",
       "      <td>2012-08-24</td>\n",
       "      <td>2016-06-19</td>\n",
       "      <td>Resignation</td>\n",
       "      <td>Bachelor's Incompleted</td>\n",
       "      <td>Administrative Analyst</td>\n",
       "      <td>Finance / Accounting</td>\n",
       "    </tr>\n",
       "    <tr>\n",
       "      <th>3</th>\n",
       "      <td>4</td>\n",
       "      <td>Gabrielle Gardner</td>\n",
       "      <td>Female</td>\n",
       "      <td>2002-10-31</td>\n",
       "      <td>2012-11-12</td>\n",
       "      <td>NaT</td>\n",
       "      <td>NaN</td>\n",
       "      <td>Bachelor's Completed</td>\n",
       "      <td>Accounting Analyst</td>\n",
       "      <td>Finance / Accounting</td>\n",
       "    </tr>\n",
       "    <tr>\n",
       "      <th>4</th>\n",
       "      <td>5</td>\n",
       "      <td>Molly Owen</td>\n",
       "      <td>Female</td>\n",
       "      <td>1979-10-22</td>\n",
       "      <td>2013-09-18</td>\n",
       "      <td>NaT</td>\n",
       "      <td>NaN</td>\n",
       "      <td>Bachelor's Completed</td>\n",
       "      <td>Database Analyst</td>\n",
       "      <td>Strategy</td>\n",
       "    </tr>\n",
       "    <tr>\n",
       "      <th>5</th>\n",
       "      <td>6</td>\n",
       "      <td>Lilah Gill</td>\n",
       "      <td>Female</td>\n",
       "      <td>1980-10-05</td>\n",
       "      <td>2014-01-16</td>\n",
       "      <td>2017-10-17</td>\n",
       "      <td>Resignation</td>\n",
       "      <td>Bachelor's Completed</td>\n",
       "      <td>Business Intelligence Analyst</td>\n",
       "      <td>Strategy</td>\n",
       "    </tr>\n",
       "    <tr>\n",
       "      <th>6</th>\n",
       "      <td>7</td>\n",
       "      <td>Winnie May</td>\n",
       "      <td>Female</td>\n",
       "      <td>1992-11-16</td>\n",
       "      <td>2014-04-26</td>\n",
       "      <td>2017-10-07</td>\n",
       "      <td>Unfair Dismissal</td>\n",
       "      <td>Bachelor's Completed</td>\n",
       "      <td>Communication Analyst</td>\n",
       "      <td>Marketing</td>\n",
       "    </tr>\n",
       "    <tr>\n",
       "      <th>7</th>\n",
       "      <td>8</td>\n",
       "      <td>Blossom Howard</td>\n",
       "      <td>Female</td>\n",
       "      <td>1996-09-20</td>\n",
       "      <td>2014-05-08</td>\n",
       "      <td>NaT</td>\n",
       "      <td>NaN</td>\n",
       "      <td>Major's</td>\n",
       "      <td>Personnel Analyst</td>\n",
       "      <td>Finance / Accounting</td>\n",
       "    </tr>\n",
       "    <tr>\n",
       "      <th>8</th>\n",
       "      <td>9</td>\n",
       "      <td>Anayah Armstrong</td>\n",
       "      <td>Female</td>\n",
       "      <td>1975-03-01</td>\n",
       "      <td>2014-06-15</td>\n",
       "      <td>NaT</td>\n",
       "      <td>NaN</td>\n",
       "      <td>Major's</td>\n",
       "      <td>Marketing Analyst</td>\n",
       "      <td>Marketing</td>\n",
       "    </tr>\n",
       "    <tr>\n",
       "      <th>9</th>\n",
       "      <td>10</td>\n",
       "      <td>Isabel Wood</td>\n",
       "      <td>Female</td>\n",
       "      <td>1974-10-13</td>\n",
       "      <td>2014-11-30</td>\n",
       "      <td>NaT</td>\n",
       "      <td>NaN</td>\n",
       "      <td>Major's</td>\n",
       "      <td>Business Analyst</td>\n",
       "      <td>Development</td>\n",
       "    </tr>\n",
       "  </tbody>\n",
       "</table>\n",
       "</div>"
      ],
      "text/plain": [
       "   ID           Employee  Gender Birth_Date  Hire_Date Termination_Date  \\\n",
       "0   1    Harley Matthews  Female 1989-08-17 2011-10-02              NaT   \n",
       "1   2      Aliyah Thomas  Female 1988-03-27 2012-03-22       2015-05-01   \n",
       "2   3  Madeleine Bradley  Female 1981-04-18 2012-08-24       2016-06-19   \n",
       "3   4  Gabrielle Gardner  Female 2002-10-31 2012-11-12              NaT   \n",
       "4   5         Molly Owen  Female 1979-10-22 2013-09-18              NaT   \n",
       "5   6         Lilah Gill  Female 1980-10-05 2014-01-16       2017-10-17   \n",
       "6   7         Winnie May  Female 1992-11-16 2014-04-26       2017-10-07   \n",
       "7   8     Blossom Howard  Female 1996-09-20 2014-05-08              NaT   \n",
       "8   9   Anayah Armstrong  Female 1975-03-01 2014-06-15              NaT   \n",
       "9  10        Isabel Wood  Female 1974-10-13 2014-11-30              NaT   \n",
       "\n",
       "  Termination_Reason               Education                       Position  \\\n",
       "0                NaN      Higher Certificate                  Administrator   \n",
       "1   Unfair Dismissal      Higher Certificate                         Lawyer   \n",
       "2        Resignation  Bachelor's Incompleted         Administrative Analyst   \n",
       "3                NaN    Bachelor's Completed             Accounting Analyst   \n",
       "4                NaN    Bachelor's Completed               Database Analyst   \n",
       "5        Resignation    Bachelor's Completed  Business Intelligence Analyst   \n",
       "6   Unfair Dismissal    Bachelor's Completed          Communication Analyst   \n",
       "7                NaN                 Major's              Personnel Analyst   \n",
       "8                NaN                 Major's              Marketing Analyst   \n",
       "9                NaN                 Major's               Business Analyst   \n",
       "\n",
       "             Department  \n",
       "0  Finance / Accounting  \n",
       "1                 Legal  \n",
       "2  Finance / Accounting  \n",
       "3  Finance / Accounting  \n",
       "4              Strategy  \n",
       "5              Strategy  \n",
       "6             Marketing  \n",
       "7  Finance / Accounting  \n",
       "8             Marketing  \n",
       "9           Development  "
      ]
     },
     "execution_count": 15,
     "metadata": {},
     "output_type": "execute_result"
    }
   ],
   "source": [
    "df_hr.head(10)"
   ]
  },
  {
   "cell_type": "markdown",
   "metadata": {},
   "source": [
    "##### __Important Step: Merging (Joining) Tables__"
   ]
  },
  {
   "cell_type": "code",
   "execution_count": 16,
   "metadata": {},
   "outputs": [],
   "source": [
    "df = df_emp.merge(right=df_hr).merge(right=df_dep)\n",
    "df.set_index('ID', inplace=True)\n",
    "df.sort_index(inplace=True)"
   ]
  },
  {
   "cell_type": "code",
   "execution_count": 17,
   "metadata": {},
   "outputs": [
    {
     "data": {
      "text/html": [
       "<div>\n",
       "<style scoped>\n",
       "    .dataframe tbody tr th:only-of-type {\n",
       "        vertical-align: middle;\n",
       "    }\n",
       "\n",
       "    .dataframe tbody tr th {\n",
       "        vertical-align: top;\n",
       "    }\n",
       "\n",
       "    .dataframe thead th {\n",
       "        text-align: right;\n",
       "    }\n",
       "</style>\n",
       "<table border=\"1\" class=\"dataframe\">\n",
       "  <thead>\n",
       "    <tr style=\"text-align: right;\">\n",
       "      <th></th>\n",
       "      <th>Performance_Review</th>\n",
       "      <th>City</th>\n",
       "      <th>Last_Promotion_Date</th>\n",
       "      <th>Salary</th>\n",
       "      <th>Overdue_Vacation</th>\n",
       "      <th>Employee</th>\n",
       "      <th>Gender</th>\n",
       "      <th>Birth_Date</th>\n",
       "      <th>Hire_Date</th>\n",
       "      <th>Termination_Date</th>\n",
       "      <th>Termination_Reason</th>\n",
       "      <th>Education</th>\n",
       "      <th>Position</th>\n",
       "      <th>Department</th>\n",
       "      <th>Manager</th>\n",
       "    </tr>\n",
       "    <tr>\n",
       "      <th>ID</th>\n",
       "      <th></th>\n",
       "      <th></th>\n",
       "      <th></th>\n",
       "      <th></th>\n",
       "      <th></th>\n",
       "      <th></th>\n",
       "      <th></th>\n",
       "      <th></th>\n",
       "      <th></th>\n",
       "      <th></th>\n",
       "      <th></th>\n",
       "      <th></th>\n",
       "      <th></th>\n",
       "      <th></th>\n",
       "      <th></th>\n",
       "    </tr>\n",
       "  </thead>\n",
       "  <tbody>\n",
       "    <tr>\n",
       "      <th>1</th>\n",
       "      <td>10</td>\n",
       "      <td>Alabama</td>\n",
       "      <td>NaT</td>\n",
       "      <td>4539</td>\n",
       "      <td>No</td>\n",
       "      <td>Harley Matthews</td>\n",
       "      <td>Female</td>\n",
       "      <td>1989-08-17</td>\n",
       "      <td>2011-10-02</td>\n",
       "      <td>NaT</td>\n",
       "      <td>NaN</td>\n",
       "      <td>Higher Certificate</td>\n",
       "      <td>Administrator</td>\n",
       "      <td>Finance / Accounting</td>\n",
       "      <td>Phelipp</td>\n",
       "    </tr>\n",
       "    <tr>\n",
       "      <th>2</th>\n",
       "      <td>10</td>\n",
       "      <td>Arizona</td>\n",
       "      <td>NaT</td>\n",
       "      <td>3698</td>\n",
       "      <td>Yes</td>\n",
       "      <td>Aliyah Thomas</td>\n",
       "      <td>Female</td>\n",
       "      <td>1988-03-27</td>\n",
       "      <td>2012-03-22</td>\n",
       "      <td>2015-05-01</td>\n",
       "      <td>Unfair Dismissal</td>\n",
       "      <td>Higher Certificate</td>\n",
       "      <td>Lawyer</td>\n",
       "      <td>Legal</td>\n",
       "      <td>Anna</td>\n",
       "    </tr>\n",
       "    <tr>\n",
       "      <th>3</th>\n",
       "      <td>8</td>\n",
       "      <td>Colorado</td>\n",
       "      <td>NaT</td>\n",
       "      <td>4157</td>\n",
       "      <td>Yes</td>\n",
       "      <td>Madeleine Bradley</td>\n",
       "      <td>Female</td>\n",
       "      <td>1981-04-18</td>\n",
       "      <td>2012-08-24</td>\n",
       "      <td>2016-06-19</td>\n",
       "      <td>Resignation</td>\n",
       "      <td>Bachelor's Incompleted</td>\n",
       "      <td>Administrative Analyst</td>\n",
       "      <td>Finance / Accounting</td>\n",
       "      <td>Phelipp</td>\n",
       "    </tr>\n",
       "    <tr>\n",
       "      <th>4</th>\n",
       "      <td>10</td>\n",
       "      <td>Missouri</td>\n",
       "      <td>NaT</td>\n",
       "      <td>4360</td>\n",
       "      <td>Yes</td>\n",
       "      <td>Gabrielle Gardner</td>\n",
       "      <td>Female</td>\n",
       "      <td>2002-10-31</td>\n",
       "      <td>2012-11-12</td>\n",
       "      <td>NaT</td>\n",
       "      <td>NaN</td>\n",
       "      <td>Bachelor's Completed</td>\n",
       "      <td>Accounting Analyst</td>\n",
       "      <td>Finance / Accounting</td>\n",
       "      <td>Phelipp</td>\n",
       "    </tr>\n",
       "    <tr>\n",
       "      <th>5</th>\n",
       "      <td>7</td>\n",
       "      <td>New York</td>\n",
       "      <td>NaT</td>\n",
       "      <td>4144</td>\n",
       "      <td>Yes</td>\n",
       "      <td>Molly Owen</td>\n",
       "      <td>Female</td>\n",
       "      <td>1979-10-22</td>\n",
       "      <td>2013-09-18</td>\n",
       "      <td>NaT</td>\n",
       "      <td>NaN</td>\n",
       "      <td>Bachelor's Completed</td>\n",
       "      <td>Database Analyst</td>\n",
       "      <td>Strategy</td>\n",
       "      <td>Antonella</td>\n",
       "    </tr>\n",
       "    <tr>\n",
       "      <th>...</th>\n",
       "      <td>...</td>\n",
       "      <td>...</td>\n",
       "      <td>...</td>\n",
       "      <td>...</td>\n",
       "      <td>...</td>\n",
       "      <td>...</td>\n",
       "      <td>...</td>\n",
       "      <td>...</td>\n",
       "      <td>...</td>\n",
       "      <td>...</td>\n",
       "      <td>...</td>\n",
       "      <td>...</td>\n",
       "      <td>...</td>\n",
       "      <td>...</td>\n",
       "      <td>...</td>\n",
       "    </tr>\n",
       "    <tr>\n",
       "      <th>86</th>\n",
       "      <td>10</td>\n",
       "      <td>Alabama</td>\n",
       "      <td>NaT</td>\n",
       "      <td>4430</td>\n",
       "      <td>No</td>\n",
       "      <td>Aryan Reynolds</td>\n",
       "      <td>Male</td>\n",
       "      <td>1963-11-21</td>\n",
       "      <td>2018-12-17</td>\n",
       "      <td>2019-03-17</td>\n",
       "      <td>Resignation</td>\n",
       "      <td>Higher Certificate</td>\n",
       "      <td>Commercial Assistant</td>\n",
       "      <td>Sales</td>\n",
       "      <td>Gabriela</td>\n",
       "    </tr>\n",
       "    <tr>\n",
       "      <th>87</th>\n",
       "      <td>9</td>\n",
       "      <td>Arizona</td>\n",
       "      <td>NaT</td>\n",
       "      <td>4183</td>\n",
       "      <td>No</td>\n",
       "      <td>Grayson Lowe</td>\n",
       "      <td>Male</td>\n",
       "      <td>1986-04-15</td>\n",
       "      <td>2019-05-05</td>\n",
       "      <td>NaT</td>\n",
       "      <td>NaN</td>\n",
       "      <td>Bachelor's Incompleted</td>\n",
       "      <td>Developer</td>\n",
       "      <td>Development</td>\n",
       "      <td>Leyla</td>\n",
       "    </tr>\n",
       "    <tr>\n",
       "      <th>88</th>\n",
       "      <td>10</td>\n",
       "      <td>Colorado</td>\n",
       "      <td>NaT</td>\n",
       "      <td>4308</td>\n",
       "      <td>No</td>\n",
       "      <td>Antonio Ball</td>\n",
       "      <td>Male</td>\n",
       "      <td>1984-08-17</td>\n",
       "      <td>2019-07-25</td>\n",
       "      <td>NaT</td>\n",
       "      <td>NaN</td>\n",
       "      <td>Bachelor's Completed</td>\n",
       "      <td>Pogrammer Analyst</td>\n",
       "      <td>Development</td>\n",
       "      <td>Leyla</td>\n",
       "    </tr>\n",
       "    <tr>\n",
       "      <th>89</th>\n",
       "      <td>7</td>\n",
       "      <td>Maryland</td>\n",
       "      <td>NaT</td>\n",
       "      <td>3920</td>\n",
       "      <td>No</td>\n",
       "      <td>Ethan Simpson</td>\n",
       "      <td>Male</td>\n",
       "      <td>1969-07-14</td>\n",
       "      <td>2019-08-04</td>\n",
       "      <td>NaT</td>\n",
       "      <td>NaN</td>\n",
       "      <td>Bachelor's Completed</td>\n",
       "      <td>Salesperson</td>\n",
       "      <td>Sales</td>\n",
       "      <td>Gabriela</td>\n",
       "    </tr>\n",
       "    <tr>\n",
       "      <th>90</th>\n",
       "      <td>7</td>\n",
       "      <td>Hawaii</td>\n",
       "      <td>NaT</td>\n",
       "      <td>4001</td>\n",
       "      <td>Yes</td>\n",
       "      <td>Blake Barker</td>\n",
       "      <td>Male</td>\n",
       "      <td>1982-06-13</td>\n",
       "      <td>2019-10-10</td>\n",
       "      <td>NaT</td>\n",
       "      <td>NaN</td>\n",
       "      <td>Doctoral</td>\n",
       "      <td>Developer</td>\n",
       "      <td>Development</td>\n",
       "      <td>Leyla</td>\n",
       "    </tr>\n",
       "  </tbody>\n",
       "</table>\n",
       "<p>90 rows × 15 columns</p>\n",
       "</div>"
      ],
      "text/plain": [
       "    Performance_Review       City Last_Promotion_Date  Salary  \\\n",
       "ID                                                              \n",
       "1                   10    Alabama                 NaT    4539   \n",
       "2                   10    Arizona                 NaT    3698   \n",
       "3                    8   Colorado                 NaT    4157   \n",
       "4                   10   Missouri                 NaT    4360   \n",
       "5                    7   New York                 NaT    4144   \n",
       "..                 ...        ...                 ...     ...   \n",
       "86                  10    Alabama                 NaT    4430   \n",
       "87                   9    Arizona                 NaT    4183   \n",
       "88                  10   Colorado                 NaT    4308   \n",
       "89                   7   Maryland                 NaT    3920   \n",
       "90                   7     Hawaii                 NaT    4001   \n",
       "\n",
       "   Overdue_Vacation           Employee  Gender Birth_Date  Hire_Date  \\\n",
       "ID                                                                     \n",
       "1                No    Harley Matthews  Female 1989-08-17 2011-10-02   \n",
       "2               Yes      Aliyah Thomas  Female 1988-03-27 2012-03-22   \n",
       "3               Yes  Madeleine Bradley  Female 1981-04-18 2012-08-24   \n",
       "4               Yes  Gabrielle Gardner  Female 2002-10-31 2012-11-12   \n",
       "5               Yes         Molly Owen  Female 1979-10-22 2013-09-18   \n",
       "..              ...                ...     ...        ...        ...   \n",
       "86               No     Aryan Reynolds    Male 1963-11-21 2018-12-17   \n",
       "87               No       Grayson Lowe    Male 1986-04-15 2019-05-05   \n",
       "88               No       Antonio Ball    Male 1984-08-17 2019-07-25   \n",
       "89               No      Ethan Simpson    Male 1969-07-14 2019-08-04   \n",
       "90              Yes       Blake Barker    Male 1982-06-13 2019-10-10   \n",
       "\n",
       "   Termination_Date Termination_Reason               Education  \\\n",
       "ID                                                               \n",
       "1               NaT                NaN      Higher Certificate   \n",
       "2        2015-05-01   Unfair Dismissal      Higher Certificate   \n",
       "3        2016-06-19        Resignation  Bachelor's Incompleted   \n",
       "4               NaT                NaN    Bachelor's Completed   \n",
       "5               NaT                NaN    Bachelor's Completed   \n",
       "..              ...                ...                     ...   \n",
       "86       2019-03-17        Resignation      Higher Certificate   \n",
       "87              NaT                NaN  Bachelor's Incompleted   \n",
       "88              NaT                NaN    Bachelor's Completed   \n",
       "89              NaT                NaN    Bachelor's Completed   \n",
       "90              NaT                NaN                Doctoral   \n",
       "\n",
       "                  Position            Department    Manager  \n",
       "ID                                                           \n",
       "1            Administrator  Finance / Accounting    Phelipp  \n",
       "2                   Lawyer                 Legal       Anna  \n",
       "3   Administrative Analyst  Finance / Accounting    Phelipp  \n",
       "4       Accounting Analyst  Finance / Accounting    Phelipp  \n",
       "5         Database Analyst              Strategy  Antonella  \n",
       "..                     ...                   ...        ...  \n",
       "86    Commercial Assistant                 Sales   Gabriela  \n",
       "87               Developer           Development      Leyla  \n",
       "88       Pogrammer Analyst           Development      Leyla  \n",
       "89             Salesperson                 Sales   Gabriela  \n",
       "90               Developer           Development      Leyla  \n",
       "\n",
       "[90 rows x 15 columns]"
      ]
     },
     "execution_count": 17,
     "metadata": {},
     "output_type": "execute_result"
    }
   ],
   "source": [
    "df"
   ]
  },
  {
   "cell_type": "markdown",
   "metadata": {},
   "source": [
    "### __Data Cleaning and Preprocessing__"
   ]
  },
  {
   "cell_type": "code",
   "execution_count": 18,
   "metadata": {},
   "outputs": [
    {
     "data": {
      "text/plain": [
       "Index(['Performance_Review', 'City', 'Last_Promotion_Date', 'Salary',\n",
       "       'Overdue_Vacation', 'Employee', 'Gender', 'Birth_Date', 'Hire_Date',\n",
       "       'Termination_Date', 'Termination_Reason', 'Education', 'Position',\n",
       "       'Department', 'Manager'],\n",
       "      dtype='object')"
      ]
     },
     "execution_count": 18,
     "metadata": {},
     "output_type": "execute_result"
    }
   ],
   "source": [
    "df.columns"
   ]
  },
  {
   "cell_type": "markdown",
   "metadata": {},
   "source": [
    "##### Firstly, we are going to rearrange the order of the columns"
   ]
  },
  {
   "cell_type": "code",
   "execution_count": 19,
   "metadata": {},
   "outputs": [],
   "source": [
    "df = df[['Employee', 'Gender', 'Birth_Date', 'Education',\n",
    "         'City', 'Position', 'Performance_Review', 'Salary', 'Hire_Date', 'Last_Promotion_Date',\n",
    "         'Termination_Date', 'Termination_Reason', 'Overdue_Vacation', 'Department', 'Manager']].copy()"
   ]
  },
  {
   "cell_type": "code",
   "execution_count": 20,
   "metadata": {},
   "outputs": [],
   "source": [
    "df['Department'] = df['Department'].replace('Technology and Equipment', 'Technology')"
   ]
  },
  {
   "cell_type": "code",
   "execution_count": 21,
   "metadata": {},
   "outputs": [
    {
     "data": {
      "text/html": [
       "<div>\n",
       "<style scoped>\n",
       "    .dataframe tbody tr th:only-of-type {\n",
       "        vertical-align: middle;\n",
       "    }\n",
       "\n",
       "    .dataframe tbody tr th {\n",
       "        vertical-align: top;\n",
       "    }\n",
       "\n",
       "    .dataframe thead th {\n",
       "        text-align: right;\n",
       "    }\n",
       "</style>\n",
       "<table border=\"1\" class=\"dataframe\">\n",
       "  <thead>\n",
       "    <tr style=\"text-align: right;\">\n",
       "      <th></th>\n",
       "      <th>Employee</th>\n",
       "      <th>Gender</th>\n",
       "      <th>Birth_Date</th>\n",
       "      <th>Education</th>\n",
       "      <th>City</th>\n",
       "      <th>Position</th>\n",
       "      <th>Performance_Review</th>\n",
       "      <th>Salary</th>\n",
       "      <th>Hire_Date</th>\n",
       "      <th>Last_Promotion_Date</th>\n",
       "      <th>Termination_Date</th>\n",
       "      <th>Termination_Reason</th>\n",
       "      <th>Overdue_Vacation</th>\n",
       "      <th>Department</th>\n",
       "      <th>Manager</th>\n",
       "    </tr>\n",
       "    <tr>\n",
       "      <th>ID</th>\n",
       "      <th></th>\n",
       "      <th></th>\n",
       "      <th></th>\n",
       "      <th></th>\n",
       "      <th></th>\n",
       "      <th></th>\n",
       "      <th></th>\n",
       "      <th></th>\n",
       "      <th></th>\n",
       "      <th></th>\n",
       "      <th></th>\n",
       "      <th></th>\n",
       "      <th></th>\n",
       "      <th></th>\n",
       "      <th></th>\n",
       "    </tr>\n",
       "  </thead>\n",
       "  <tbody>\n",
       "    <tr>\n",
       "      <th>1</th>\n",
       "      <td>Harley Matthews</td>\n",
       "      <td>Female</td>\n",
       "      <td>1989-08-17</td>\n",
       "      <td>Higher Certificate</td>\n",
       "      <td>Alabama</td>\n",
       "      <td>Administrator</td>\n",
       "      <td>10</td>\n",
       "      <td>4539</td>\n",
       "      <td>2011-10-02</td>\n",
       "      <td>NaT</td>\n",
       "      <td>NaT</td>\n",
       "      <td>NaN</td>\n",
       "      <td>No</td>\n",
       "      <td>Finance / Accounting</td>\n",
       "      <td>Phelipp</td>\n",
       "    </tr>\n",
       "    <tr>\n",
       "      <th>2</th>\n",
       "      <td>Aliyah Thomas</td>\n",
       "      <td>Female</td>\n",
       "      <td>1988-03-27</td>\n",
       "      <td>Higher Certificate</td>\n",
       "      <td>Arizona</td>\n",
       "      <td>Lawyer</td>\n",
       "      <td>10</td>\n",
       "      <td>3698</td>\n",
       "      <td>2012-03-22</td>\n",
       "      <td>NaT</td>\n",
       "      <td>2015-05-01</td>\n",
       "      <td>Unfair Dismissal</td>\n",
       "      <td>Yes</td>\n",
       "      <td>Legal</td>\n",
       "      <td>Anna</td>\n",
       "    </tr>\n",
       "    <tr>\n",
       "      <th>3</th>\n",
       "      <td>Madeleine Bradley</td>\n",
       "      <td>Female</td>\n",
       "      <td>1981-04-18</td>\n",
       "      <td>Bachelor's Incompleted</td>\n",
       "      <td>Colorado</td>\n",
       "      <td>Administrative Analyst</td>\n",
       "      <td>8</td>\n",
       "      <td>4157</td>\n",
       "      <td>2012-08-24</td>\n",
       "      <td>NaT</td>\n",
       "      <td>2016-06-19</td>\n",
       "      <td>Resignation</td>\n",
       "      <td>Yes</td>\n",
       "      <td>Finance / Accounting</td>\n",
       "      <td>Phelipp</td>\n",
       "    </tr>\n",
       "    <tr>\n",
       "      <th>4</th>\n",
       "      <td>Gabrielle Gardner</td>\n",
       "      <td>Female</td>\n",
       "      <td>2002-10-31</td>\n",
       "      <td>Bachelor's Completed</td>\n",
       "      <td>Missouri</td>\n",
       "      <td>Accounting Analyst</td>\n",
       "      <td>10</td>\n",
       "      <td>4360</td>\n",
       "      <td>2012-11-12</td>\n",
       "      <td>NaT</td>\n",
       "      <td>NaT</td>\n",
       "      <td>NaN</td>\n",
       "      <td>Yes</td>\n",
       "      <td>Finance / Accounting</td>\n",
       "      <td>Phelipp</td>\n",
       "    </tr>\n",
       "    <tr>\n",
       "      <th>5</th>\n",
       "      <td>Molly Owen</td>\n",
       "      <td>Female</td>\n",
       "      <td>1979-10-22</td>\n",
       "      <td>Bachelor's Completed</td>\n",
       "      <td>New York</td>\n",
       "      <td>Database Analyst</td>\n",
       "      <td>7</td>\n",
       "      <td>4144</td>\n",
       "      <td>2013-09-18</td>\n",
       "      <td>NaT</td>\n",
       "      <td>NaT</td>\n",
       "      <td>NaN</td>\n",
       "      <td>Yes</td>\n",
       "      <td>Strategy</td>\n",
       "      <td>Antonella</td>\n",
       "    </tr>\n",
       "  </tbody>\n",
       "</table>\n",
       "</div>"
      ],
      "text/plain": [
       "             Employee  Gender Birth_Date               Education      City  \\\n",
       "ID                                                                           \n",
       "1     Harley Matthews  Female 1989-08-17      Higher Certificate   Alabama   \n",
       "2       Aliyah Thomas  Female 1988-03-27      Higher Certificate   Arizona   \n",
       "3   Madeleine Bradley  Female 1981-04-18  Bachelor's Incompleted  Colorado   \n",
       "4   Gabrielle Gardner  Female 2002-10-31    Bachelor's Completed  Missouri   \n",
       "5          Molly Owen  Female 1979-10-22    Bachelor's Completed  New York   \n",
       "\n",
       "                  Position  Performance_Review  Salary  Hire_Date  \\\n",
       "ID                                                                  \n",
       "1            Administrator                  10    4539 2011-10-02   \n",
       "2                   Lawyer                  10    3698 2012-03-22   \n",
       "3   Administrative Analyst                   8    4157 2012-08-24   \n",
       "4       Accounting Analyst                  10    4360 2012-11-12   \n",
       "5         Database Analyst                   7    4144 2013-09-18   \n",
       "\n",
       "   Last_Promotion_Date Termination_Date Termination_Reason Overdue_Vacation  \\\n",
       "ID                                                                            \n",
       "1                  NaT              NaT                NaN               No   \n",
       "2                  NaT       2015-05-01   Unfair Dismissal              Yes   \n",
       "3                  NaT       2016-06-19        Resignation              Yes   \n",
       "4                  NaT              NaT                NaN              Yes   \n",
       "5                  NaT              NaT                NaN              Yes   \n",
       "\n",
       "              Department    Manager  \n",
       "ID                                   \n",
       "1   Finance / Accounting    Phelipp  \n",
       "2                  Legal       Anna  \n",
       "3   Finance / Accounting    Phelipp  \n",
       "4   Finance / Accounting    Phelipp  \n",
       "5               Strategy  Antonella  "
      ]
     },
     "execution_count": 21,
     "metadata": {},
     "output_type": "execute_result"
    }
   ],
   "source": [
    "df.head()"
   ]
  },
  {
   "cell_type": "markdown",
   "metadata": {},
   "source": [
    "### __Gender Column__"
   ]
  },
  {
   "cell_type": "code",
   "execution_count": 22,
   "metadata": {},
   "outputs": [
    {
     "data": {
      "text/plain": [
       "Gender\n",
       "Male     62.2\n",
       "Female   37.8\n",
       "Name: proportion, dtype: float64"
      ]
     },
     "execution_count": 22,
     "metadata": {},
     "output_type": "execute_result"
    }
   ],
   "source": [
    "gender = df['Gender'].value_counts(normalize=1)*100\n",
    "gender"
   ]
  },
  {
   "cell_type": "code",
   "execution_count": 23,
   "id": "01HWYDFWQ7MERB7G85T8FH753M",
   "metadata": {},
   "outputs": [
    {
     "data": {
      "application/vnd.plotly.v1+json": {
       "config": {
        "linkText": "Export to plot.ly",
        "plotlyServerURL": "https://plot.ly",
        "showLink": false
       },
       "data": [
        {
         "alignmentgroup": "True",
         "hovertemplate": "Gender: %{x}<br>Percentange: %{y:0.1f}%",
         "legendgroup": "Male",
         "marker": {
          "color": "red",
          "line": {
           "color": "#666",
           "width": 2
          },
          "pattern": {
           "shape": ""
          }
         },
         "name": "Male",
         "offsetgroup": "Male",
         "orientation": "v",
         "showlegend": true,
         "text": [
          "62%"
         ],
         "textfont": {
          "color": "#222",
          "family": "arial",
          "size": 16
         },
         "textposition": "auto",
         "type": "bar",
         "x": [
          "Male"
         ],
         "xaxis": "x",
         "y": [
          62.22222222222222
         ],
         "yaxis": "y"
        },
        {
         "alignmentgroup": "True",
         "hovertemplate": "Gender: %{x}<br>Percentange: %{y:0.1f}%",
         "legendgroup": "Female",
         "marker": {
          "color": "lightgrey",
          "line": {
           "color": "#666",
           "width": 2
          },
          "pattern": {
           "shape": ""
          }
         },
         "name": "Female",
         "offsetgroup": "Female",
         "orientation": "v",
         "showlegend": true,
         "text": [
          "38%"
         ],
         "textfont": {
          "color": "#222",
          "family": "arial",
          "size": 16
         },
         "textposition": "auto",
         "type": "bar",
         "x": [
          "Female"
         ],
         "xaxis": "x",
         "y": [
          37.77777777777778
         ],
         "yaxis": "y"
        }
       ],
       "layout": {
        "barmode": "relative",
        "hoverlabel": {
         "bgcolor": "#111",
         "font": {
          "family": "arial",
          "size": 16
         }
        },
        "legend": {
         "title": {
          "text": "Gender"
         },
         "tracegroupgap": 0
        },
        "showlegend": false,
        "template": {
         "data": {
          "bar": [
           {
            "error_x": {
             "color": "#2a3f5f"
            },
            "error_y": {
             "color": "#2a3f5f"
            },
            "marker": {
             "line": {
              "color": "white",
              "width": 0.5
             },
             "pattern": {
              "fillmode": "overlay",
              "size": 10,
              "solidity": 0.2
             }
            },
            "type": "bar"
           }
          ],
          "barpolar": [
           {
            "marker": {
             "line": {
              "color": "white",
              "width": 0.5
             },
             "pattern": {
              "fillmode": "overlay",
              "size": 10,
              "solidity": 0.2
             }
            },
            "type": "barpolar"
           }
          ],
          "carpet": [
           {
            "aaxis": {
             "endlinecolor": "#2a3f5f",
             "gridcolor": "#C8D4E3",
             "linecolor": "#C8D4E3",
             "minorgridcolor": "#C8D4E3",
             "startlinecolor": "#2a3f5f"
            },
            "baxis": {
             "endlinecolor": "#2a3f5f",
             "gridcolor": "#C8D4E3",
             "linecolor": "#C8D4E3",
             "minorgridcolor": "#C8D4E3",
             "startlinecolor": "#2a3f5f"
            },
            "type": "carpet"
           }
          ],
          "choropleth": [
           {
            "colorbar": {
             "outlinewidth": 0,
             "ticks": ""
            },
            "type": "choropleth"
           }
          ],
          "contour": [
           {
            "colorbar": {
             "outlinewidth": 0,
             "ticks": ""
            },
            "colorscale": [
             [
              0,
              "#0d0887"
             ],
             [
              0.1111111111111111,
              "#46039f"
             ],
             [
              0.2222222222222222,
              "#7201a8"
             ],
             [
              0.3333333333333333,
              "#9c179e"
             ],
             [
              0.4444444444444444,
              "#bd3786"
             ],
             [
              0.5555555555555556,
              "#d8576b"
             ],
             [
              0.6666666666666666,
              "#ed7953"
             ],
             [
              0.7777777777777778,
              "#fb9f3a"
             ],
             [
              0.8888888888888888,
              "#fdca26"
             ],
             [
              1,
              "#f0f921"
             ]
            ],
            "type": "contour"
           }
          ],
          "contourcarpet": [
           {
            "colorbar": {
             "outlinewidth": 0,
             "ticks": ""
            },
            "type": "contourcarpet"
           }
          ],
          "heatmap": [
           {
            "colorbar": {
             "outlinewidth": 0,
             "ticks": ""
            },
            "colorscale": [
             [
              0,
              "#0d0887"
             ],
             [
              0.1111111111111111,
              "#46039f"
             ],
             [
              0.2222222222222222,
              "#7201a8"
             ],
             [
              0.3333333333333333,
              "#9c179e"
             ],
             [
              0.4444444444444444,
              "#bd3786"
             ],
             [
              0.5555555555555556,
              "#d8576b"
             ],
             [
              0.6666666666666666,
              "#ed7953"
             ],
             [
              0.7777777777777778,
              "#fb9f3a"
             ],
             [
              0.8888888888888888,
              "#fdca26"
             ],
             [
              1,
              "#f0f921"
             ]
            ],
            "type": "heatmap"
           }
          ],
          "heatmapgl": [
           {
            "colorbar": {
             "outlinewidth": 0,
             "ticks": ""
            },
            "colorscale": [
             [
              0,
              "#0d0887"
             ],
             [
              0.1111111111111111,
              "#46039f"
             ],
             [
              0.2222222222222222,
              "#7201a8"
             ],
             [
              0.3333333333333333,
              "#9c179e"
             ],
             [
              0.4444444444444444,
              "#bd3786"
             ],
             [
              0.5555555555555556,
              "#d8576b"
             ],
             [
              0.6666666666666666,
              "#ed7953"
             ],
             [
              0.7777777777777778,
              "#fb9f3a"
             ],
             [
              0.8888888888888888,
              "#fdca26"
             ],
             [
              1,
              "#f0f921"
             ]
            ],
            "type": "heatmapgl"
           }
          ],
          "histogram": [
           {
            "marker": {
             "pattern": {
              "fillmode": "overlay",
              "size": 10,
              "solidity": 0.2
             }
            },
            "type": "histogram"
           }
          ],
          "histogram2d": [
           {
            "colorbar": {
             "outlinewidth": 0,
             "ticks": ""
            },
            "colorscale": [
             [
              0,
              "#0d0887"
             ],
             [
              0.1111111111111111,
              "#46039f"
             ],
             [
              0.2222222222222222,
              "#7201a8"
             ],
             [
              0.3333333333333333,
              "#9c179e"
             ],
             [
              0.4444444444444444,
              "#bd3786"
             ],
             [
              0.5555555555555556,
              "#d8576b"
             ],
             [
              0.6666666666666666,
              "#ed7953"
             ],
             [
              0.7777777777777778,
              "#fb9f3a"
             ],
             [
              0.8888888888888888,
              "#fdca26"
             ],
             [
              1,
              "#f0f921"
             ]
            ],
            "type": "histogram2d"
           }
          ],
          "histogram2dcontour": [
           {
            "colorbar": {
             "outlinewidth": 0,
             "ticks": ""
            },
            "colorscale": [
             [
              0,
              "#0d0887"
             ],
             [
              0.1111111111111111,
              "#46039f"
             ],
             [
              0.2222222222222222,
              "#7201a8"
             ],
             [
              0.3333333333333333,
              "#9c179e"
             ],
             [
              0.4444444444444444,
              "#bd3786"
             ],
             [
              0.5555555555555556,
              "#d8576b"
             ],
             [
              0.6666666666666666,
              "#ed7953"
             ],
             [
              0.7777777777777778,
              "#fb9f3a"
             ],
             [
              0.8888888888888888,
              "#fdca26"
             ],
             [
              1,
              "#f0f921"
             ]
            ],
            "type": "histogram2dcontour"
           }
          ],
          "mesh3d": [
           {
            "colorbar": {
             "outlinewidth": 0,
             "ticks": ""
            },
            "type": "mesh3d"
           }
          ],
          "parcoords": [
           {
            "line": {
             "colorbar": {
              "outlinewidth": 0,
              "ticks": ""
             }
            },
            "type": "parcoords"
           }
          ],
          "pie": [
           {
            "automargin": true,
            "type": "pie"
           }
          ],
          "scatter": [
           {
            "fillpattern": {
             "fillmode": "overlay",
             "size": 10,
             "solidity": 0.2
            },
            "type": "scatter"
           }
          ],
          "scatter3d": [
           {
            "line": {
             "colorbar": {
              "outlinewidth": 0,
              "ticks": ""
             }
            },
            "marker": {
             "colorbar": {
              "outlinewidth": 0,
              "ticks": ""
             }
            },
            "type": "scatter3d"
           }
          ],
          "scattercarpet": [
           {
            "marker": {
             "colorbar": {
              "outlinewidth": 0,
              "ticks": ""
             }
            },
            "type": "scattercarpet"
           }
          ],
          "scattergeo": [
           {
            "marker": {
             "colorbar": {
              "outlinewidth": 0,
              "ticks": ""
             }
            },
            "type": "scattergeo"
           }
          ],
          "scattergl": [
           {
            "marker": {
             "colorbar": {
              "outlinewidth": 0,
              "ticks": ""
             }
            },
            "type": "scattergl"
           }
          ],
          "scattermapbox": [
           {
            "marker": {
             "colorbar": {
              "outlinewidth": 0,
              "ticks": ""
             }
            },
            "type": "scattermapbox"
           }
          ],
          "scatterpolar": [
           {
            "marker": {
             "colorbar": {
              "outlinewidth": 0,
              "ticks": ""
             }
            },
            "type": "scatterpolar"
           }
          ],
          "scatterpolargl": [
           {
            "marker": {
             "colorbar": {
              "outlinewidth": 0,
              "ticks": ""
             }
            },
            "type": "scatterpolargl"
           }
          ],
          "scatterternary": [
           {
            "marker": {
             "colorbar": {
              "outlinewidth": 0,
              "ticks": ""
             }
            },
            "type": "scatterternary"
           }
          ],
          "surface": [
           {
            "colorbar": {
             "outlinewidth": 0,
             "ticks": ""
            },
            "colorscale": [
             [
              0,
              "#0d0887"
             ],
             [
              0.1111111111111111,
              "#46039f"
             ],
             [
              0.2222222222222222,
              "#7201a8"
             ],
             [
              0.3333333333333333,
              "#9c179e"
             ],
             [
              0.4444444444444444,
              "#bd3786"
             ],
             [
              0.5555555555555556,
              "#d8576b"
             ],
             [
              0.6666666666666666,
              "#ed7953"
             ],
             [
              0.7777777777777778,
              "#fb9f3a"
             ],
             [
              0.8888888888888888,
              "#fdca26"
             ],
             [
              1,
              "#f0f921"
             ]
            ],
            "type": "surface"
           }
          ],
          "table": [
           {
            "cells": {
             "fill": {
              "color": "#EBF0F8"
             },
             "line": {
              "color": "white"
             }
            },
            "header": {
             "fill": {
              "color": "#C8D4E3"
             },
             "line": {
              "color": "white"
             }
            },
            "type": "table"
           }
          ]
         },
         "layout": {
          "annotationdefaults": {
           "arrowcolor": "#2a3f5f",
           "arrowhead": 0,
           "arrowwidth": 1
          },
          "autotypenumbers": "strict",
          "coloraxis": {
           "colorbar": {
            "outlinewidth": 0,
            "ticks": ""
           }
          },
          "colorscale": {
           "diverging": [
            [
             0,
             "#8e0152"
            ],
            [
             0.1,
             "#c51b7d"
            ],
            [
             0.2,
             "#de77ae"
            ],
            [
             0.3,
             "#f1b6da"
            ],
            [
             0.4,
             "#fde0ef"
            ],
            [
             0.5,
             "#f7f7f7"
            ],
            [
             0.6,
             "#e6f5d0"
            ],
            [
             0.7,
             "#b8e186"
            ],
            [
             0.8,
             "#7fbc41"
            ],
            [
             0.9,
             "#4d9221"
            ],
            [
             1,
             "#276419"
            ]
           ],
           "sequential": [
            [
             0,
             "#0d0887"
            ],
            [
             0.1111111111111111,
             "#46039f"
            ],
            [
             0.2222222222222222,
             "#7201a8"
            ],
            [
             0.3333333333333333,
             "#9c179e"
            ],
            [
             0.4444444444444444,
             "#bd3786"
            ],
            [
             0.5555555555555556,
             "#d8576b"
            ],
            [
             0.6666666666666666,
             "#ed7953"
            ],
            [
             0.7777777777777778,
             "#fb9f3a"
            ],
            [
             0.8888888888888888,
             "#fdca26"
            ],
            [
             1,
             "#f0f921"
            ]
           ],
           "sequentialminus": [
            [
             0,
             "#0d0887"
            ],
            [
             0.1111111111111111,
             "#46039f"
            ],
            [
             0.2222222222222222,
             "#7201a8"
            ],
            [
             0.3333333333333333,
             "#9c179e"
            ],
            [
             0.4444444444444444,
             "#bd3786"
            ],
            [
             0.5555555555555556,
             "#d8576b"
            ],
            [
             0.6666666666666666,
             "#ed7953"
            ],
            [
             0.7777777777777778,
             "#fb9f3a"
            ],
            [
             0.8888888888888888,
             "#fdca26"
            ],
            [
             1,
             "#f0f921"
            ]
           ]
          },
          "colorway": [
           "#636efa",
           "#EF553B",
           "#00cc96",
           "#ab63fa",
           "#FFA15A",
           "#19d3f3",
           "#FF6692",
           "#B6E880",
           "#FF97FF",
           "#FECB52"
          ],
          "font": {
           "color": "#2a3f5f"
          },
          "geo": {
           "bgcolor": "white",
           "lakecolor": "white",
           "landcolor": "white",
           "showlakes": true,
           "showland": true,
           "subunitcolor": "#C8D4E3"
          },
          "hoverlabel": {
           "align": "left"
          },
          "hovermode": "closest",
          "mapbox": {
           "style": "light"
          },
          "paper_bgcolor": "white",
          "plot_bgcolor": "white",
          "polar": {
           "angularaxis": {
            "gridcolor": "#EBF0F8",
            "linecolor": "#EBF0F8",
            "ticks": ""
           },
           "bgcolor": "white",
           "radialaxis": {
            "gridcolor": "#EBF0F8",
            "linecolor": "#EBF0F8",
            "ticks": ""
           }
          },
          "scene": {
           "xaxis": {
            "backgroundcolor": "white",
            "gridcolor": "#DFE8F3",
            "gridwidth": 2,
            "linecolor": "#EBF0F8",
            "showbackground": true,
            "ticks": "",
            "zerolinecolor": "#EBF0F8"
           },
           "yaxis": {
            "backgroundcolor": "white",
            "gridcolor": "#DFE8F3",
            "gridwidth": 2,
            "linecolor": "#EBF0F8",
            "showbackground": true,
            "ticks": "",
            "zerolinecolor": "#EBF0F8"
           },
           "zaxis": {
            "backgroundcolor": "white",
            "gridcolor": "#DFE8F3",
            "gridwidth": 2,
            "linecolor": "#EBF0F8",
            "showbackground": true,
            "ticks": "",
            "zerolinecolor": "#EBF0F8"
           }
          },
          "shapedefaults": {
           "line": {
            "color": "#2a3f5f"
           }
          },
          "ternary": {
           "aaxis": {
            "gridcolor": "#DFE8F3",
            "linecolor": "#A2B1C6",
            "ticks": ""
           },
           "baxis": {
            "gridcolor": "#DFE8F3",
            "linecolor": "#A2B1C6",
            "ticks": ""
           },
           "bgcolor": "white",
           "caxis": {
            "gridcolor": "#DFE8F3",
            "linecolor": "#A2B1C6",
            "ticks": ""
           }
          },
          "title": {
           "x": 0.05
          },
          "xaxis": {
           "automargin": true,
           "gridcolor": "#EBF0F8",
           "linecolor": "#EBF0F8",
           "ticks": "",
           "title": {
            "standoff": 15
           },
           "zerolinecolor": "#EBF0F8",
           "zerolinewidth": 2
          },
          "yaxis": {
           "automargin": true,
           "gridcolor": "#EBF0F8",
           "linecolor": "#EBF0F8",
           "ticks": "",
           "title": {
            "standoff": 15
           },
           "zerolinecolor": "#EBF0F8",
           "zerolinewidth": 2
          }
         }
        },
        "title": {
         "font": {
          "family": "tahoma",
          "size": 28
         },
         "text": "<b>Gender Frequency (PCT)"
        },
        "xaxis": {
         "anchor": "y",
         "categoryarray": [
          "Male",
          "Female"
         ],
         "categoryorder": "array",
         "domain": [
          0,
          1
         ],
         "title": {
          "text": "Gender"
         }
        },
        "yaxis": {
         "anchor": "x",
         "domain": [
          0,
          1
         ],
         "title": {
          "text": "<b>Frequency in PCT (%)"
         }
        }
       }
      }
     },
     "metadata": {},
     "output_type": "display_data"
    }
   ],
   "source": [
    "fig = px.bar(\n",
    "    data_frame=gender,\n",
    "    x=gender.index,\n",
    "    y=gender,\n",
    "    color= gender.index,\n",
    "    title= '<b>Gender Frequency (PCT)',\n",
    "    color_discrete_sequence= ['red', 'lightgrey'],\n",
    "    labels= {'index' : '<b>Gender', 'y': '<b>Frequency in PCT (%)'},\n",
    "    template= 'plotly_white',\n",
    "    text=gender.apply(lambda x: f'{x:0.0f}%')\n",
    ")\n",
    "\n",
    "custom_layout()\n",
    "\n",
    "fig.update_traces(\n",
    "    textfont={\n",
    "        'size': 16,\n",
    "        'family': 'arial',\n",
    "        'color': '#222'\n",
    "    },\n",
    "    hovertemplate = 'Gender: %{x}<br>Percentange: %{y:0.1f}%',\n",
    "    marker = dict(line=dict(color='#666', width=2))\n",
    ")\n",
    "\n",
    "iplot(fig)"
   ]
  },
  {
   "cell_type": "markdown",
   "metadata": {},
   "source": [
    "### __Age Column__"
   ]
  },
  {
   "cell_type": "code",
   "execution_count": 24,
   "metadata": {},
   "outputs": [
    {
     "data": {
      "text/plain": [
       "Birth_Date\n",
       "1990    6\n",
       "1991    5\n",
       "1996    5\n",
       "1975    5\n",
       "1984    4\n",
       "Name: count, dtype: int64"
      ]
     },
     "execution_count": 24,
     "metadata": {},
     "output_type": "execute_result"
    }
   ],
   "source": [
    "birth = df['Birth_Date'].dt.year.value_counts()\n",
    "birth.head()"
   ]
  },
  {
   "cell_type": "code",
   "execution_count": 25,
   "metadata": {},
   "outputs": [
    {
     "name": "stdout",
     "output_type": "stream",
     "text": [
      "Average Age: 42.82\n",
      "Median Age: 43.0\n"
     ]
    }
   ],
   "source": [
    "current_year = datetime.now().year\n",
    "\n",
    "age_mean = np.mean((current_year - birth.index).to_list())\n",
    "age_median = np.median((current_year - birth.index).to_list())\n",
    "print(f'Average Age: {age_mean:0.2f}')\n",
    "print(f'Median Age: {age_median}')"
   ]
  },
  {
   "cell_type": "code",
   "execution_count": 49,
   "id": "01HX5X7CG42MHKZMQ86FWZ0VSS",
   "metadata": {},
   "outputs": [
    {
     "data": {
      "application/vnd.plotly.v1+json": {
       "config": {
        "linkText": "Export to plot.ly",
        "plotlyServerURL": "https://plot.ly",
        "showLink": false
       },
       "data": [
        {
         "alignmentgroup": "True",
         "bingroup": "x",
         "histfunc": "sum",
         "hovertemplate": "Age: %{x}<br>Frequency: %{y}",
         "legendgroup": "",
         "marker": {
          "color": "#ED1C24",
          "line": {
           "color": "#111",
           "width": 1
          },
          "pattern": {
           "shape": ""
          }
         },
         "name": "",
         "nbinsx": 15,
         "offsetgroup": "",
         "orientation": "v",
         "showlegend": false,
         "textfont": {
          "color": "#fff",
          "family": "tahoma",
          "size": 20
         },
         "type": "histogram",
         "x": [
          34,
          33,
          28,
          49,
          40,
          38,
          41,
          32,
          44,
          45,
          55,
          42,
          29,
          36,
          37,
          56,
          31,
          54,
          35,
          57,
          30,
          50,
          43,
          59,
          48,
          53,
          24,
          60,
          52,
          51,
          63,
          46,
          39,
          25,
          23,
          58,
          47,
          22,
          61
         ],
         "xaxis": "x",
         "y": [
          6,
          5,
          5,
          5,
          4,
          4,
          4,
          4,
          4,
          4,
          3,
          3,
          3,
          2,
          2,
          2,
          2,
          2,
          2,
          2,
          2,
          2,
          2,
          1,
          1,
          1,
          1,
          1,
          1,
          1,
          1,
          1,
          1,
          1,
          1,
          1,
          1,
          1,
          1
         ],
         "yaxis": "y"
        }
       ],
       "layout": {
        "barmode": "relative",
        "hoverlabel": {
         "bgcolor": "#111",
         "font": {
          "family": "arial",
          "size": 16
         }
        },
        "legend": {
         "tracegroupgap": 0
        },
        "shapes": [
         {
          "label": {
           "font": {
            "color": "#000000",
            "family": "tahoma",
            "size": 15
           },
           "text": "Mean :  42.8\t",
           "textangle": 0,
           "textposition": "end",
           "xanchor": "right",
           "yanchor": "top"
          },
          "line": {
           "color": "#F2F0EB",
           "dash": "dashdot",
           "width": 3
          },
          "type": "line",
          "x0": 42.82051282051282,
          "x1": 42.82051282051282,
          "y0": 0,
          "y1": 21
         },
         {
          "label": {
           "font": {
            "color": "#000000",
            "family": "tahoma",
            "size": 15
           },
           "text": "Median :  43.0\t",
           "textangle": 0,
           "textposition": "end",
           "xanchor": "left",
           "yanchor": "top"
          },
          "line": {
           "color": "#133955",
           "dash": "dashdot",
           "width": 3
          },
          "type": "line",
          "x0": 43,
          "x1": 43,
          "y0": 0,
          "y1": 21
         }
        ],
        "showlegend": false,
        "template": {
         "data": {
          "bar": [
           {
            "error_x": {
             "color": "#2a3f5f"
            },
            "error_y": {
             "color": "#2a3f5f"
            },
            "marker": {
             "line": {
              "color": "white",
              "width": 0.5
             },
             "pattern": {
              "fillmode": "overlay",
              "size": 10,
              "solidity": 0.2
             }
            },
            "type": "bar"
           }
          ],
          "barpolar": [
           {
            "marker": {
             "line": {
              "color": "white",
              "width": 0.5
             },
             "pattern": {
              "fillmode": "overlay",
              "size": 10,
              "solidity": 0.2
             }
            },
            "type": "barpolar"
           }
          ],
          "carpet": [
           {
            "aaxis": {
             "endlinecolor": "#2a3f5f",
             "gridcolor": "#C8D4E3",
             "linecolor": "#C8D4E3",
             "minorgridcolor": "#C8D4E3",
             "startlinecolor": "#2a3f5f"
            },
            "baxis": {
             "endlinecolor": "#2a3f5f",
             "gridcolor": "#C8D4E3",
             "linecolor": "#C8D4E3",
             "minorgridcolor": "#C8D4E3",
             "startlinecolor": "#2a3f5f"
            },
            "type": "carpet"
           }
          ],
          "choropleth": [
           {
            "colorbar": {
             "outlinewidth": 0,
             "ticks": ""
            },
            "type": "choropleth"
           }
          ],
          "contour": [
           {
            "colorbar": {
             "outlinewidth": 0,
             "ticks": ""
            },
            "colorscale": [
             [
              0,
              "#0d0887"
             ],
             [
              0.1111111111111111,
              "#46039f"
             ],
             [
              0.2222222222222222,
              "#7201a8"
             ],
             [
              0.3333333333333333,
              "#9c179e"
             ],
             [
              0.4444444444444444,
              "#bd3786"
             ],
             [
              0.5555555555555556,
              "#d8576b"
             ],
             [
              0.6666666666666666,
              "#ed7953"
             ],
             [
              0.7777777777777778,
              "#fb9f3a"
             ],
             [
              0.8888888888888888,
              "#fdca26"
             ],
             [
              1,
              "#f0f921"
             ]
            ],
            "type": "contour"
           }
          ],
          "contourcarpet": [
           {
            "colorbar": {
             "outlinewidth": 0,
             "ticks": ""
            },
            "type": "contourcarpet"
           }
          ],
          "heatmap": [
           {
            "colorbar": {
             "outlinewidth": 0,
             "ticks": ""
            },
            "colorscale": [
             [
              0,
              "#0d0887"
             ],
             [
              0.1111111111111111,
              "#46039f"
             ],
             [
              0.2222222222222222,
              "#7201a8"
             ],
             [
              0.3333333333333333,
              "#9c179e"
             ],
             [
              0.4444444444444444,
              "#bd3786"
             ],
             [
              0.5555555555555556,
              "#d8576b"
             ],
             [
              0.6666666666666666,
              "#ed7953"
             ],
             [
              0.7777777777777778,
              "#fb9f3a"
             ],
             [
              0.8888888888888888,
              "#fdca26"
             ],
             [
              1,
              "#f0f921"
             ]
            ],
            "type": "heatmap"
           }
          ],
          "heatmapgl": [
           {
            "colorbar": {
             "outlinewidth": 0,
             "ticks": ""
            },
            "colorscale": [
             [
              0,
              "#0d0887"
             ],
             [
              0.1111111111111111,
              "#46039f"
             ],
             [
              0.2222222222222222,
              "#7201a8"
             ],
             [
              0.3333333333333333,
              "#9c179e"
             ],
             [
              0.4444444444444444,
              "#bd3786"
             ],
             [
              0.5555555555555556,
              "#d8576b"
             ],
             [
              0.6666666666666666,
              "#ed7953"
             ],
             [
              0.7777777777777778,
              "#fb9f3a"
             ],
             [
              0.8888888888888888,
              "#fdca26"
             ],
             [
              1,
              "#f0f921"
             ]
            ],
            "type": "heatmapgl"
           }
          ],
          "histogram": [
           {
            "marker": {
             "pattern": {
              "fillmode": "overlay",
              "size": 10,
              "solidity": 0.2
             }
            },
            "type": "histogram"
           }
          ],
          "histogram2d": [
           {
            "colorbar": {
             "outlinewidth": 0,
             "ticks": ""
            },
            "colorscale": [
             [
              0,
              "#0d0887"
             ],
             [
              0.1111111111111111,
              "#46039f"
             ],
             [
              0.2222222222222222,
              "#7201a8"
             ],
             [
              0.3333333333333333,
              "#9c179e"
             ],
             [
              0.4444444444444444,
              "#bd3786"
             ],
             [
              0.5555555555555556,
              "#d8576b"
             ],
             [
              0.6666666666666666,
              "#ed7953"
             ],
             [
              0.7777777777777778,
              "#fb9f3a"
             ],
             [
              0.8888888888888888,
              "#fdca26"
             ],
             [
              1,
              "#f0f921"
             ]
            ],
            "type": "histogram2d"
           }
          ],
          "histogram2dcontour": [
           {
            "colorbar": {
             "outlinewidth": 0,
             "ticks": ""
            },
            "colorscale": [
             [
              0,
              "#0d0887"
             ],
             [
              0.1111111111111111,
              "#46039f"
             ],
             [
              0.2222222222222222,
              "#7201a8"
             ],
             [
              0.3333333333333333,
              "#9c179e"
             ],
             [
              0.4444444444444444,
              "#bd3786"
             ],
             [
              0.5555555555555556,
              "#d8576b"
             ],
             [
              0.6666666666666666,
              "#ed7953"
             ],
             [
              0.7777777777777778,
              "#fb9f3a"
             ],
             [
              0.8888888888888888,
              "#fdca26"
             ],
             [
              1,
              "#f0f921"
             ]
            ],
            "type": "histogram2dcontour"
           }
          ],
          "mesh3d": [
           {
            "colorbar": {
             "outlinewidth": 0,
             "ticks": ""
            },
            "type": "mesh3d"
           }
          ],
          "parcoords": [
           {
            "line": {
             "colorbar": {
              "outlinewidth": 0,
              "ticks": ""
             }
            },
            "type": "parcoords"
           }
          ],
          "pie": [
           {
            "automargin": true,
            "type": "pie"
           }
          ],
          "scatter": [
           {
            "fillpattern": {
             "fillmode": "overlay",
             "size": 10,
             "solidity": 0.2
            },
            "type": "scatter"
           }
          ],
          "scatter3d": [
           {
            "line": {
             "colorbar": {
              "outlinewidth": 0,
              "ticks": ""
             }
            },
            "marker": {
             "colorbar": {
              "outlinewidth": 0,
              "ticks": ""
             }
            },
            "type": "scatter3d"
           }
          ],
          "scattercarpet": [
           {
            "marker": {
             "colorbar": {
              "outlinewidth": 0,
              "ticks": ""
             }
            },
            "type": "scattercarpet"
           }
          ],
          "scattergeo": [
           {
            "marker": {
             "colorbar": {
              "outlinewidth": 0,
              "ticks": ""
             }
            },
            "type": "scattergeo"
           }
          ],
          "scattergl": [
           {
            "marker": {
             "colorbar": {
              "outlinewidth": 0,
              "ticks": ""
             }
            },
            "type": "scattergl"
           }
          ],
          "scattermapbox": [
           {
            "marker": {
             "colorbar": {
              "outlinewidth": 0,
              "ticks": ""
             }
            },
            "type": "scattermapbox"
           }
          ],
          "scatterpolar": [
           {
            "marker": {
             "colorbar": {
              "outlinewidth": 0,
              "ticks": ""
             }
            },
            "type": "scatterpolar"
           }
          ],
          "scatterpolargl": [
           {
            "marker": {
             "colorbar": {
              "outlinewidth": 0,
              "ticks": ""
             }
            },
            "type": "scatterpolargl"
           }
          ],
          "scatterternary": [
           {
            "marker": {
             "colorbar": {
              "outlinewidth": 0,
              "ticks": ""
             }
            },
            "type": "scatterternary"
           }
          ],
          "surface": [
           {
            "colorbar": {
             "outlinewidth": 0,
             "ticks": ""
            },
            "colorscale": [
             [
              0,
              "#0d0887"
             ],
             [
              0.1111111111111111,
              "#46039f"
             ],
             [
              0.2222222222222222,
              "#7201a8"
             ],
             [
              0.3333333333333333,
              "#9c179e"
             ],
             [
              0.4444444444444444,
              "#bd3786"
             ],
             [
              0.5555555555555556,
              "#d8576b"
             ],
             [
              0.6666666666666666,
              "#ed7953"
             ],
             [
              0.7777777777777778,
              "#fb9f3a"
             ],
             [
              0.8888888888888888,
              "#fdca26"
             ],
             [
              1,
              "#f0f921"
             ]
            ],
            "type": "surface"
           }
          ],
          "table": [
           {
            "cells": {
             "fill": {
              "color": "#EBF0F8"
             },
             "line": {
              "color": "white"
             }
            },
            "header": {
             "fill": {
              "color": "#C8D4E3"
             },
             "line": {
              "color": "white"
             }
            },
            "type": "table"
           }
          ]
         },
         "layout": {
          "annotationdefaults": {
           "arrowcolor": "#2a3f5f",
           "arrowhead": 0,
           "arrowwidth": 1
          },
          "autotypenumbers": "strict",
          "coloraxis": {
           "colorbar": {
            "outlinewidth": 0,
            "ticks": ""
           }
          },
          "colorscale": {
           "diverging": [
            [
             0,
             "#8e0152"
            ],
            [
             0.1,
             "#c51b7d"
            ],
            [
             0.2,
             "#de77ae"
            ],
            [
             0.3,
             "#f1b6da"
            ],
            [
             0.4,
             "#fde0ef"
            ],
            [
             0.5,
             "#f7f7f7"
            ],
            [
             0.6,
             "#e6f5d0"
            ],
            [
             0.7,
             "#b8e186"
            ],
            [
             0.8,
             "#7fbc41"
            ],
            [
             0.9,
             "#4d9221"
            ],
            [
             1,
             "#276419"
            ]
           ],
           "sequential": [
            [
             0,
             "#0d0887"
            ],
            [
             0.1111111111111111,
             "#46039f"
            ],
            [
             0.2222222222222222,
             "#7201a8"
            ],
            [
             0.3333333333333333,
             "#9c179e"
            ],
            [
             0.4444444444444444,
             "#bd3786"
            ],
            [
             0.5555555555555556,
             "#d8576b"
            ],
            [
             0.6666666666666666,
             "#ed7953"
            ],
            [
             0.7777777777777778,
             "#fb9f3a"
            ],
            [
             0.8888888888888888,
             "#fdca26"
            ],
            [
             1,
             "#f0f921"
            ]
           ],
           "sequentialminus": [
            [
             0,
             "#0d0887"
            ],
            [
             0.1111111111111111,
             "#46039f"
            ],
            [
             0.2222222222222222,
             "#7201a8"
            ],
            [
             0.3333333333333333,
             "#9c179e"
            ],
            [
             0.4444444444444444,
             "#bd3786"
            ],
            [
             0.5555555555555556,
             "#d8576b"
            ],
            [
             0.6666666666666666,
             "#ed7953"
            ],
            [
             0.7777777777777778,
             "#fb9f3a"
            ],
            [
             0.8888888888888888,
             "#fdca26"
            ],
            [
             1,
             "#f0f921"
            ]
           ]
          },
          "colorway": [
           "#636efa",
           "#EF553B",
           "#00cc96",
           "#ab63fa",
           "#FFA15A",
           "#19d3f3",
           "#FF6692",
           "#B6E880",
           "#FF97FF",
           "#FECB52"
          ],
          "font": {
           "color": "#2a3f5f"
          },
          "geo": {
           "bgcolor": "white",
           "lakecolor": "white",
           "landcolor": "white",
           "showlakes": true,
           "showland": true,
           "subunitcolor": "#C8D4E3"
          },
          "hoverlabel": {
           "align": "left"
          },
          "hovermode": "closest",
          "mapbox": {
           "style": "light"
          },
          "paper_bgcolor": "white",
          "plot_bgcolor": "white",
          "polar": {
           "angularaxis": {
            "gridcolor": "#EBF0F8",
            "linecolor": "#EBF0F8",
            "ticks": ""
           },
           "bgcolor": "white",
           "radialaxis": {
            "gridcolor": "#EBF0F8",
            "linecolor": "#EBF0F8",
            "ticks": ""
           }
          },
          "scene": {
           "xaxis": {
            "backgroundcolor": "white",
            "gridcolor": "#DFE8F3",
            "gridwidth": 2,
            "linecolor": "#EBF0F8",
            "showbackground": true,
            "ticks": "",
            "zerolinecolor": "#EBF0F8"
           },
           "yaxis": {
            "backgroundcolor": "white",
            "gridcolor": "#DFE8F3",
            "gridwidth": 2,
            "linecolor": "#EBF0F8",
            "showbackground": true,
            "ticks": "",
            "zerolinecolor": "#EBF0F8"
           },
           "zaxis": {
            "backgroundcolor": "white",
            "gridcolor": "#DFE8F3",
            "gridwidth": 2,
            "linecolor": "#EBF0F8",
            "showbackground": true,
            "ticks": "",
            "zerolinecolor": "#EBF0F8"
           }
          },
          "shapedefaults": {
           "line": {
            "color": "#2a3f5f"
           }
          },
          "ternary": {
           "aaxis": {
            "gridcolor": "#DFE8F3",
            "linecolor": "#A2B1C6",
            "ticks": ""
           },
           "baxis": {
            "gridcolor": "#DFE8F3",
            "linecolor": "#A2B1C6",
            "ticks": ""
           },
           "bgcolor": "white",
           "caxis": {
            "gridcolor": "#DFE8F3",
            "linecolor": "#A2B1C6",
            "ticks": ""
           }
          },
          "title": {
           "x": 0.05
          },
          "xaxis": {
           "automargin": true,
           "gridcolor": "#EBF0F8",
           "linecolor": "#EBF0F8",
           "ticks": "",
           "title": {
            "standoff": 15
           },
           "zerolinecolor": "#EBF0F8",
           "zerolinewidth": 2
          },
          "yaxis": {
           "automargin": true,
           "gridcolor": "#EBF0F8",
           "linecolor": "#EBF0F8",
           "ticks": "",
           "title": {
            "standoff": 15
           },
           "zerolinecolor": "#EBF0F8",
           "zerolinewidth": 2
          }
         }
        },
        "title": {
         "font": {
          "family": "tahoma",
          "size": 28
         },
         "text": "<b>The Distribution of Age of Our Employees"
        },
        "xaxis": {
         "anchor": "y",
         "domain": [
          0,
          1
         ],
         "title": {
          "text": "<b>Age"
         }
        },
        "yaxis": {
         "anchor": "x",
         "domain": [
          0,
          1
         ],
         "title": {
          "text": "sum of y"
         }
        }
       }
      }
     },
     "metadata": {},
     "output_type": "display_data"
    }
   ],
   "source": [
    "fig = px.histogram(\n",
    "    data_frame= birth, \n",
    "    x= (current_year - birth.index), # Calc the Age from Year of Birth\n",
    "    y= birth,\n",
    "    nbins= 15,\n",
    "    color_discrete_sequence= ['#ED1C24'],\n",
    "    labels={'x': '<b>Age', 'sum of y': '<b>Frequency'},\n",
    "    title= '<b>The Distribution of Age of Our Employees',\n",
    "    template= 'plotly_white'\n",
    "    )\n",
    "\n",
    "custom_layout()\n",
    "\n",
    "fig.update_traces(\n",
    "    textfont = {\n",
    "        'size': 20,\n",
    "        'family': 'tahoma',\n",
    "        'color': '#fff'\n",
    "    },\n",
    "    hovertemplate = 'Age: %{x}<br>Frequency: %{y}',\n",
    "    marker = dict(line=dict(color='#111', width=1))\n",
    ")\n",
    "\n",
    "# Adding Mean Line\n",
    "add_line(\n",
    "    x0=age_mean, y0=0,\n",
    "    x1=age_mean, y1=birth.max()+15,\n",
    "    line_color='#F2F0EB',\n",
    "    font_color='#000000',\n",
    "    text='Mean'\n",
    ")\n",
    "\n",
    "# Adding Median Line\n",
    "add_line(\n",
    "    x0= age_median, y0= 0,\n",
    "    x1= age_median, y1= birth.max()+15,\n",
    "    line_color= '#133955',\n",
    "    font_color= '#000000',\n",
    "    xposition= 'left',\n",
    "    text='Median'\n",
    ")\n",
    "\n",
    "iplot(fig)"
   ]
  },
  {
   "cell_type": "markdown",
   "metadata": {},
   "source": [
    "### __Education Column__"
   ]
  },
  {
   "cell_type": "code",
   "execution_count": 27,
   "id": "01HX5Z10ZZVQV92RX66H0B5X3Z",
   "metadata": {},
   "outputs": [
    {
     "data": {
      "text/plain": [
       "Education\n",
       "Bachelor's Completed      28.9%\n",
       "Major's                   20.0%\n",
       "Higher Certificate        15.6%\n",
       "Postgraduate              13.3%\n",
       "Bachelor's Incompleted     7.8%\n",
       "Doctoral                   7.8%\n",
       "Master's                   6.7%\n",
       "Name: proportion, dtype: object"
      ]
     },
     "execution_count": 27,
     "metadata": {},
     "output_type": "execute_result"
    }
   ],
   "source": [
    "education = (df['Education'].value_counts(normalize=1) * 100)\n",
    "education.apply(lambda x:f'{x:0.1f}%')"
   ]
  },
  {
   "cell_type": "code",
   "execution_count": 51,
   "id": "01HX6DPMKXDC365JSW6QSHGEEA",
   "metadata": {},
   "outputs": [
    {
     "data": {
      "application/vnd.plotly.v1+json": {
       "config": {
        "linkText": "Export to plot.ly",
        "plotlyServerURL": "https://plot.ly",
        "showLink": false
       },
       "data": [
        {
         "alignmentgroup": "True",
         "hovertemplate": "Education Level: %{y}<br>Percentage: %{x:0.01f}%",
         "legendgroup": "Bachelor's Completed",
         "marker": {
          "color": "#636efa",
          "line": {
           "color": "#000",
           "width": 1
          },
          "pattern": {
           "shape": ""
          }
         },
         "name": "Bachelor's Completed",
         "offsetgroup": "Bachelor's Completed",
         "orientation": "h",
         "showlegend": true,
         "text": [
          "29%"
         ],
         "textfont": {
          "color": "#000",
          "family": "tahoma",
          "size": 14
         },
         "textposition": "auto",
         "type": "bar",
         "x": [
          28.888888888888886
         ],
         "xaxis": "x",
         "y": [
          "Bachelor's Completed"
         ],
         "yaxis": "y"
        },
        {
         "alignmentgroup": "True",
         "hovertemplate": "Education Level: %{y}<br>Percentage: %{x:0.01f}%",
         "legendgroup": "Major's",
         "marker": {
          "color": "#EF553B",
          "line": {
           "color": "#000",
           "width": 1
          },
          "pattern": {
           "shape": ""
          }
         },
         "name": "Major's",
         "offsetgroup": "Major's",
         "orientation": "h",
         "showlegend": true,
         "text": [
          "20%"
         ],
         "textfont": {
          "color": "#000",
          "family": "tahoma",
          "size": 14
         },
         "textposition": "auto",
         "type": "bar",
         "x": [
          20
         ],
         "xaxis": "x",
         "y": [
          "Major's"
         ],
         "yaxis": "y"
        },
        {
         "alignmentgroup": "True",
         "hovertemplate": "Education Level: %{y}<br>Percentage: %{x:0.01f}%",
         "legendgroup": "Higher Certificate",
         "marker": {
          "color": "#00cc96",
          "line": {
           "color": "#000",
           "width": 1
          },
          "pattern": {
           "shape": ""
          }
         },
         "name": "Higher Certificate",
         "offsetgroup": "Higher Certificate",
         "orientation": "h",
         "showlegend": true,
         "text": [
          "16%"
         ],
         "textfont": {
          "color": "#000",
          "family": "tahoma",
          "size": 14
         },
         "textposition": "auto",
         "type": "bar",
         "x": [
          15.555555555555555
         ],
         "xaxis": "x",
         "y": [
          "Higher Certificate"
         ],
         "yaxis": "y"
        },
        {
         "alignmentgroup": "True",
         "hovertemplate": "Education Level: %{y}<br>Percentage: %{x:0.01f}%",
         "legendgroup": "Postgraduate",
         "marker": {
          "color": "#ab63fa",
          "line": {
           "color": "#000",
           "width": 1
          },
          "pattern": {
           "shape": ""
          }
         },
         "name": "Postgraduate",
         "offsetgroup": "Postgraduate",
         "orientation": "h",
         "showlegend": true,
         "text": [
          "13%"
         ],
         "textfont": {
          "color": "#000",
          "family": "tahoma",
          "size": 14
         },
         "textposition": "auto",
         "type": "bar",
         "x": [
          13.333333333333334
         ],
         "xaxis": "x",
         "y": [
          "Postgraduate"
         ],
         "yaxis": "y"
        },
        {
         "alignmentgroup": "True",
         "hovertemplate": "Education Level: %{y}<br>Percentage: %{x:0.01f}%",
         "legendgroup": "Bachelor's Incompleted",
         "marker": {
          "color": "#FFA15A",
          "line": {
           "color": "#000",
           "width": 1
          },
          "pattern": {
           "shape": ""
          }
         },
         "name": "Bachelor's Incompleted",
         "offsetgroup": "Bachelor's Incompleted",
         "orientation": "h",
         "showlegend": true,
         "text": [
          "8%"
         ],
         "textfont": {
          "color": "#000",
          "family": "tahoma",
          "size": 14
         },
         "textposition": "auto",
         "type": "bar",
         "x": [
          7.777777777777778
         ],
         "xaxis": "x",
         "y": [
          "Bachelor's Incompleted"
         ],
         "yaxis": "y"
        },
        {
         "alignmentgroup": "True",
         "hovertemplate": "Education Level: %{y}<br>Percentage: %{x:0.01f}%",
         "legendgroup": "Doctoral",
         "marker": {
          "color": "#19d3f3",
          "line": {
           "color": "#000",
           "width": 1
          },
          "pattern": {
           "shape": ""
          }
         },
         "name": "Doctoral",
         "offsetgroup": "Doctoral",
         "orientation": "h",
         "showlegend": true,
         "text": [
          "8%"
         ],
         "textfont": {
          "color": "#000",
          "family": "tahoma",
          "size": 14
         },
         "textposition": "auto",
         "type": "bar",
         "x": [
          7.777777777777778
         ],
         "xaxis": "x",
         "y": [
          "Doctoral"
         ],
         "yaxis": "y"
        },
        {
         "alignmentgroup": "True",
         "hovertemplate": "Education Level: %{y}<br>Percentage: %{x:0.01f}%",
         "legendgroup": "Master's",
         "marker": {
          "color": "#FF6692",
          "line": {
           "color": "#000",
           "width": 1
          },
          "pattern": {
           "shape": ""
          }
         },
         "name": "Master's",
         "offsetgroup": "Master's",
         "orientation": "h",
         "showlegend": true,
         "text": [
          "7%"
         ],
         "textfont": {
          "color": "#000",
          "family": "tahoma",
          "size": 14
         },
         "textposition": "auto",
         "type": "bar",
         "x": [
          6.666666666666667
         ],
         "xaxis": "x",
         "y": [
          "Master's"
         ],
         "yaxis": "y"
        }
       ],
       "layout": {
        "barmode": "relative",
        "hoverlabel": {
         "bgcolor": "#111",
         "font": {
          "family": "arial",
          "size": 16
         }
        },
        "legend": {
         "title": {
          "text": "Education"
         },
         "tracegroupgap": 0
        },
        "showlegend": false,
        "template": {
         "data": {
          "bar": [
           {
            "error_x": {
             "color": "#2a3f5f"
            },
            "error_y": {
             "color": "#2a3f5f"
            },
            "marker": {
             "line": {
              "color": "white",
              "width": 0.5
             },
             "pattern": {
              "fillmode": "overlay",
              "size": 10,
              "solidity": 0.2
             }
            },
            "type": "bar"
           }
          ],
          "barpolar": [
           {
            "marker": {
             "line": {
              "color": "white",
              "width": 0.5
             },
             "pattern": {
              "fillmode": "overlay",
              "size": 10,
              "solidity": 0.2
             }
            },
            "type": "barpolar"
           }
          ],
          "carpet": [
           {
            "aaxis": {
             "endlinecolor": "#2a3f5f",
             "gridcolor": "#C8D4E3",
             "linecolor": "#C8D4E3",
             "minorgridcolor": "#C8D4E3",
             "startlinecolor": "#2a3f5f"
            },
            "baxis": {
             "endlinecolor": "#2a3f5f",
             "gridcolor": "#C8D4E3",
             "linecolor": "#C8D4E3",
             "minorgridcolor": "#C8D4E3",
             "startlinecolor": "#2a3f5f"
            },
            "type": "carpet"
           }
          ],
          "choropleth": [
           {
            "colorbar": {
             "outlinewidth": 0,
             "ticks": ""
            },
            "type": "choropleth"
           }
          ],
          "contour": [
           {
            "colorbar": {
             "outlinewidth": 0,
             "ticks": ""
            },
            "colorscale": [
             [
              0,
              "#0d0887"
             ],
             [
              0.1111111111111111,
              "#46039f"
             ],
             [
              0.2222222222222222,
              "#7201a8"
             ],
             [
              0.3333333333333333,
              "#9c179e"
             ],
             [
              0.4444444444444444,
              "#bd3786"
             ],
             [
              0.5555555555555556,
              "#d8576b"
             ],
             [
              0.6666666666666666,
              "#ed7953"
             ],
             [
              0.7777777777777778,
              "#fb9f3a"
             ],
             [
              0.8888888888888888,
              "#fdca26"
             ],
             [
              1,
              "#f0f921"
             ]
            ],
            "type": "contour"
           }
          ],
          "contourcarpet": [
           {
            "colorbar": {
             "outlinewidth": 0,
             "ticks": ""
            },
            "type": "contourcarpet"
           }
          ],
          "heatmap": [
           {
            "colorbar": {
             "outlinewidth": 0,
             "ticks": ""
            },
            "colorscale": [
             [
              0,
              "#0d0887"
             ],
             [
              0.1111111111111111,
              "#46039f"
             ],
             [
              0.2222222222222222,
              "#7201a8"
             ],
             [
              0.3333333333333333,
              "#9c179e"
             ],
             [
              0.4444444444444444,
              "#bd3786"
             ],
             [
              0.5555555555555556,
              "#d8576b"
             ],
             [
              0.6666666666666666,
              "#ed7953"
             ],
             [
              0.7777777777777778,
              "#fb9f3a"
             ],
             [
              0.8888888888888888,
              "#fdca26"
             ],
             [
              1,
              "#f0f921"
             ]
            ],
            "type": "heatmap"
           }
          ],
          "heatmapgl": [
           {
            "colorbar": {
             "outlinewidth": 0,
             "ticks": ""
            },
            "colorscale": [
             [
              0,
              "#0d0887"
             ],
             [
              0.1111111111111111,
              "#46039f"
             ],
             [
              0.2222222222222222,
              "#7201a8"
             ],
             [
              0.3333333333333333,
              "#9c179e"
             ],
             [
              0.4444444444444444,
              "#bd3786"
             ],
             [
              0.5555555555555556,
              "#d8576b"
             ],
             [
              0.6666666666666666,
              "#ed7953"
             ],
             [
              0.7777777777777778,
              "#fb9f3a"
             ],
             [
              0.8888888888888888,
              "#fdca26"
             ],
             [
              1,
              "#f0f921"
             ]
            ],
            "type": "heatmapgl"
           }
          ],
          "histogram": [
           {
            "marker": {
             "pattern": {
              "fillmode": "overlay",
              "size": 10,
              "solidity": 0.2
             }
            },
            "type": "histogram"
           }
          ],
          "histogram2d": [
           {
            "colorbar": {
             "outlinewidth": 0,
             "ticks": ""
            },
            "colorscale": [
             [
              0,
              "#0d0887"
             ],
             [
              0.1111111111111111,
              "#46039f"
             ],
             [
              0.2222222222222222,
              "#7201a8"
             ],
             [
              0.3333333333333333,
              "#9c179e"
             ],
             [
              0.4444444444444444,
              "#bd3786"
             ],
             [
              0.5555555555555556,
              "#d8576b"
             ],
             [
              0.6666666666666666,
              "#ed7953"
             ],
             [
              0.7777777777777778,
              "#fb9f3a"
             ],
             [
              0.8888888888888888,
              "#fdca26"
             ],
             [
              1,
              "#f0f921"
             ]
            ],
            "type": "histogram2d"
           }
          ],
          "histogram2dcontour": [
           {
            "colorbar": {
             "outlinewidth": 0,
             "ticks": ""
            },
            "colorscale": [
             [
              0,
              "#0d0887"
             ],
             [
              0.1111111111111111,
              "#46039f"
             ],
             [
              0.2222222222222222,
              "#7201a8"
             ],
             [
              0.3333333333333333,
              "#9c179e"
             ],
             [
              0.4444444444444444,
              "#bd3786"
             ],
             [
              0.5555555555555556,
              "#d8576b"
             ],
             [
              0.6666666666666666,
              "#ed7953"
             ],
             [
              0.7777777777777778,
              "#fb9f3a"
             ],
             [
              0.8888888888888888,
              "#fdca26"
             ],
             [
              1,
              "#f0f921"
             ]
            ],
            "type": "histogram2dcontour"
           }
          ],
          "mesh3d": [
           {
            "colorbar": {
             "outlinewidth": 0,
             "ticks": ""
            },
            "type": "mesh3d"
           }
          ],
          "parcoords": [
           {
            "line": {
             "colorbar": {
              "outlinewidth": 0,
              "ticks": ""
             }
            },
            "type": "parcoords"
           }
          ],
          "pie": [
           {
            "automargin": true,
            "type": "pie"
           }
          ],
          "scatter": [
           {
            "fillpattern": {
             "fillmode": "overlay",
             "size": 10,
             "solidity": 0.2
            },
            "type": "scatter"
           }
          ],
          "scatter3d": [
           {
            "line": {
             "colorbar": {
              "outlinewidth": 0,
              "ticks": ""
             }
            },
            "marker": {
             "colorbar": {
              "outlinewidth": 0,
              "ticks": ""
             }
            },
            "type": "scatter3d"
           }
          ],
          "scattercarpet": [
           {
            "marker": {
             "colorbar": {
              "outlinewidth": 0,
              "ticks": ""
             }
            },
            "type": "scattercarpet"
           }
          ],
          "scattergeo": [
           {
            "marker": {
             "colorbar": {
              "outlinewidth": 0,
              "ticks": ""
             }
            },
            "type": "scattergeo"
           }
          ],
          "scattergl": [
           {
            "marker": {
             "colorbar": {
              "outlinewidth": 0,
              "ticks": ""
             }
            },
            "type": "scattergl"
           }
          ],
          "scattermapbox": [
           {
            "marker": {
             "colorbar": {
              "outlinewidth": 0,
              "ticks": ""
             }
            },
            "type": "scattermapbox"
           }
          ],
          "scatterpolar": [
           {
            "marker": {
             "colorbar": {
              "outlinewidth": 0,
              "ticks": ""
             }
            },
            "type": "scatterpolar"
           }
          ],
          "scatterpolargl": [
           {
            "marker": {
             "colorbar": {
              "outlinewidth": 0,
              "ticks": ""
             }
            },
            "type": "scatterpolargl"
           }
          ],
          "scatterternary": [
           {
            "marker": {
             "colorbar": {
              "outlinewidth": 0,
              "ticks": ""
             }
            },
            "type": "scatterternary"
           }
          ],
          "surface": [
           {
            "colorbar": {
             "outlinewidth": 0,
             "ticks": ""
            },
            "colorscale": [
             [
              0,
              "#0d0887"
             ],
             [
              0.1111111111111111,
              "#46039f"
             ],
             [
              0.2222222222222222,
              "#7201a8"
             ],
             [
              0.3333333333333333,
              "#9c179e"
             ],
             [
              0.4444444444444444,
              "#bd3786"
             ],
             [
              0.5555555555555556,
              "#d8576b"
             ],
             [
              0.6666666666666666,
              "#ed7953"
             ],
             [
              0.7777777777777778,
              "#fb9f3a"
             ],
             [
              0.8888888888888888,
              "#fdca26"
             ],
             [
              1,
              "#f0f921"
             ]
            ],
            "type": "surface"
           }
          ],
          "table": [
           {
            "cells": {
             "fill": {
              "color": "#EBF0F8"
             },
             "line": {
              "color": "white"
             }
            },
            "header": {
             "fill": {
              "color": "#C8D4E3"
             },
             "line": {
              "color": "white"
             }
            },
            "type": "table"
           }
          ]
         },
         "layout": {
          "annotationdefaults": {
           "arrowcolor": "#2a3f5f",
           "arrowhead": 0,
           "arrowwidth": 1
          },
          "autotypenumbers": "strict",
          "coloraxis": {
           "colorbar": {
            "outlinewidth": 0,
            "ticks": ""
           }
          },
          "colorscale": {
           "diverging": [
            [
             0,
             "#8e0152"
            ],
            [
             0.1,
             "#c51b7d"
            ],
            [
             0.2,
             "#de77ae"
            ],
            [
             0.3,
             "#f1b6da"
            ],
            [
             0.4,
             "#fde0ef"
            ],
            [
             0.5,
             "#f7f7f7"
            ],
            [
             0.6,
             "#e6f5d0"
            ],
            [
             0.7,
             "#b8e186"
            ],
            [
             0.8,
             "#7fbc41"
            ],
            [
             0.9,
             "#4d9221"
            ],
            [
             1,
             "#276419"
            ]
           ],
           "sequential": [
            [
             0,
             "#0d0887"
            ],
            [
             0.1111111111111111,
             "#46039f"
            ],
            [
             0.2222222222222222,
             "#7201a8"
            ],
            [
             0.3333333333333333,
             "#9c179e"
            ],
            [
             0.4444444444444444,
             "#bd3786"
            ],
            [
             0.5555555555555556,
             "#d8576b"
            ],
            [
             0.6666666666666666,
             "#ed7953"
            ],
            [
             0.7777777777777778,
             "#fb9f3a"
            ],
            [
             0.8888888888888888,
             "#fdca26"
            ],
            [
             1,
             "#f0f921"
            ]
           ],
           "sequentialminus": [
            [
             0,
             "#0d0887"
            ],
            [
             0.1111111111111111,
             "#46039f"
            ],
            [
             0.2222222222222222,
             "#7201a8"
            ],
            [
             0.3333333333333333,
             "#9c179e"
            ],
            [
             0.4444444444444444,
             "#bd3786"
            ],
            [
             0.5555555555555556,
             "#d8576b"
            ],
            [
             0.6666666666666666,
             "#ed7953"
            ],
            [
             0.7777777777777778,
             "#fb9f3a"
            ],
            [
             0.8888888888888888,
             "#fdca26"
            ],
            [
             1,
             "#f0f921"
            ]
           ]
          },
          "colorway": [
           "#636efa",
           "#EF553B",
           "#00cc96",
           "#ab63fa",
           "#FFA15A",
           "#19d3f3",
           "#FF6692",
           "#B6E880",
           "#FF97FF",
           "#FECB52"
          ],
          "font": {
           "color": "#2a3f5f"
          },
          "geo": {
           "bgcolor": "white",
           "lakecolor": "white",
           "landcolor": "white",
           "showlakes": true,
           "showland": true,
           "subunitcolor": "#C8D4E3"
          },
          "hoverlabel": {
           "align": "left"
          },
          "hovermode": "closest",
          "mapbox": {
           "style": "light"
          },
          "paper_bgcolor": "white",
          "plot_bgcolor": "white",
          "polar": {
           "angularaxis": {
            "gridcolor": "#EBF0F8",
            "linecolor": "#EBF0F8",
            "ticks": ""
           },
           "bgcolor": "white",
           "radialaxis": {
            "gridcolor": "#EBF0F8",
            "linecolor": "#EBF0F8",
            "ticks": ""
           }
          },
          "scene": {
           "xaxis": {
            "backgroundcolor": "white",
            "gridcolor": "#DFE8F3",
            "gridwidth": 2,
            "linecolor": "#EBF0F8",
            "showbackground": true,
            "ticks": "",
            "zerolinecolor": "#EBF0F8"
           },
           "yaxis": {
            "backgroundcolor": "white",
            "gridcolor": "#DFE8F3",
            "gridwidth": 2,
            "linecolor": "#EBF0F8",
            "showbackground": true,
            "ticks": "",
            "zerolinecolor": "#EBF0F8"
           },
           "zaxis": {
            "backgroundcolor": "white",
            "gridcolor": "#DFE8F3",
            "gridwidth": 2,
            "linecolor": "#EBF0F8",
            "showbackground": true,
            "ticks": "",
            "zerolinecolor": "#EBF0F8"
           }
          },
          "shapedefaults": {
           "line": {
            "color": "#2a3f5f"
           }
          },
          "ternary": {
           "aaxis": {
            "gridcolor": "#DFE8F3",
            "linecolor": "#A2B1C6",
            "ticks": ""
           },
           "baxis": {
            "gridcolor": "#DFE8F3",
            "linecolor": "#A2B1C6",
            "ticks": ""
           },
           "bgcolor": "white",
           "caxis": {
            "gridcolor": "#DFE8F3",
            "linecolor": "#A2B1C6",
            "ticks": ""
           }
          },
          "title": {
           "x": 0.05
          },
          "xaxis": {
           "automargin": true,
           "gridcolor": "#EBF0F8",
           "linecolor": "#EBF0F8",
           "ticks": "",
           "title": {
            "standoff": 15
           },
           "zerolinecolor": "#EBF0F8",
           "zerolinewidth": 2
          },
          "yaxis": {
           "automargin": true,
           "gridcolor": "#EBF0F8",
           "linecolor": "#EBF0F8",
           "ticks": "",
           "title": {
            "standoff": 15
           },
           "zerolinecolor": "#EBF0F8",
           "zerolinewidth": 2
          }
         }
        },
        "title": {
         "font": {
          "family": "tahoma",
          "size": 28
         },
         "text": "<b>Education Level Frequency (PCT)"
        },
        "xaxis": {
         "anchor": "y",
         "domain": [
          0,
          1
         ],
         "title": {
          "text": "<b>Frequency in PCT (%)"
         }
        },
        "yaxis": {
         "anchor": "x",
         "categoryarray": [
          "Master's",
          "Doctoral",
          "Bachelor's Incompleted",
          "Postgraduate",
          "Higher Certificate",
          "Major's",
          "Bachelor's Completed"
         ],
         "categoryorder": "array",
         "domain": [
          0,
          1
         ],
         "title": {
          "text": "Education"
         }
        }
       }
      }
     },
     "metadata": {},
     "output_type": "display_data"
    }
   ],
   "source": [
    "fig = px.bar(\n",
    "    data_frame=education,\n",
    "    orientation='h',\n",
    "    y=education.index,\n",
    "    x=education,\n",
    "    color=education.index,\n",
    "    title='<b>Education Level Frequency (PCT)',\n",
    "    template='plotly_white',\n",
    "    labels= {'index':'<b>Education', 'x':'<b>Frequency in PCT (%)'},\n",
    "    text=education.apply(lambda x: f'{x:0.0f}%')\n",
    ")\n",
    "\n",
    "custom_layout()\n",
    "\n",
    "fig.update_traces(\n",
    "    textfont = {\n",
    "        'size':14,\n",
    "        'family':'tahoma',\n",
    "        'color':'#000'\n",
    "    },\n",
    "    hovertemplate = 'Education Level: %{y}<br>Percentage: %{x:0.01f}%',\n",
    "    marker= dict(line=dict(color='#000', width=1))\n",
    ")\n",
    "\n",
    "iplot(fig)"
   ]
  },
  {
   "cell_type": "markdown",
   "metadata": {},
   "source": [
    "### __City Column__"
   ]
  },
  {
   "cell_type": "code",
   "execution_count": 29,
   "id": "01HXB01ABP279R5Q7EH090NBDS",
   "metadata": {},
   "outputs": [],
   "source": [
    "# Remove Space from City\n",
    "df['City'] = df['City'].str.replace('\\xa0', '', )"
   ]
  },
  {
   "cell_type": "code",
   "execution_count": 30,
   "id": "01HXB04FZST3GSVJZ1EYW9VXMM",
   "metadata": {},
   "outputs": [],
   "source": [
    "city = df['City'].nunique()"
   ]
  },
  {
   "cell_type": "code",
   "execution_count": 31,
   "id": "01HXB1D434PXFQ34XKR11R9ACH",
   "metadata": {},
   "outputs": [
    {
     "data": {
      "text/plain": [
       "City\n",
       "Washington      10.0%\n",
       "Texas           10.0%\n",
       "Oregon           8.9%\n",
       "Montana          8.9%\n",
       "Missouri         7.8%\n",
       "New York         7.8%\n",
       "Ohio             7.8%\n",
       "Colorado         6.7%\n",
       "Hawaii           6.7%\n",
       "Alabama          5.6%\n",
       "Arizona          5.6%\n",
       "Mississippi      5.6%\n",
       "Maryland         5.6%\n",
       "Rhode Island     3.3%\n",
       "Name: proportion, dtype: object"
      ]
     },
     "execution_count": 31,
     "metadata": {},
     "output_type": "execute_result"
    }
   ],
   "source": [
    "(df['City'].value_counts(normalize=1)*100).apply(lambda x: f'{x:0.1f}%')"
   ]
  },
  {
   "cell_type": "markdown",
   "metadata": {},
   "source": [
    "### __Performance Review Column__"
   ]
  },
  {
   "cell_type": "code",
   "execution_count": 32,
   "id": "01HXB1J7M1DYQD4HPQ6N9AM93G",
   "metadata": {},
   "outputs": [
    {
     "data": {
      "text/html": [
       "<div>\n",
       "<style scoped>\n",
       "    .dataframe tbody tr th:only-of-type {\n",
       "        vertical-align: middle;\n",
       "    }\n",
       "\n",
       "    .dataframe tbody tr th {\n",
       "        vertical-align: top;\n",
       "    }\n",
       "\n",
       "    .dataframe thead th {\n",
       "        text-align: right;\n",
       "    }\n",
       "</style>\n",
       "<table border=\"1\" class=\"dataframe\">\n",
       "  <thead>\n",
       "    <tr style=\"text-align: right;\">\n",
       "      <th></th>\n",
       "      <th>count</th>\n",
       "      <th>mean</th>\n",
       "      <th>std</th>\n",
       "      <th>min</th>\n",
       "      <th>25%</th>\n",
       "      <th>50%</th>\n",
       "      <th>75%</th>\n",
       "      <th>max</th>\n",
       "    </tr>\n",
       "  </thead>\n",
       "  <tbody>\n",
       "    <tr>\n",
       "      <th>Performance_Review</th>\n",
       "      <td>90.0</td>\n",
       "      <td>7.7</td>\n",
       "      <td>1.7</td>\n",
       "      <td>5.0</td>\n",
       "      <td>6.2</td>\n",
       "      <td>8.0</td>\n",
       "      <td>9.0</td>\n",
       "      <td>10.0</td>\n",
       "    </tr>\n",
       "  </tbody>\n",
       "</table>\n",
       "</div>"
      ],
      "text/plain": [
       "                    count  mean  std  min  25%  50%  75%  max\n",
       "Performance_Review   90.0   7.7  1.7  5.0  6.2  8.0  9.0 10.0"
      ]
     },
     "execution_count": 32,
     "metadata": {},
     "output_type": "execute_result"
    }
   ],
   "source": [
    "pd.DataFrame(df['Performance_Review'].describe()).T"
   ]
  },
  {
   "cell_type": "code",
   "execution_count": 33,
   "id": "01HXB1NF9SRCSMF9YM53KPB2RW",
   "metadata": {},
   "outputs": [
    {
     "data": {
      "application/vnd.plotly.v1+json": {
       "config": {
        "linkText": "Export to plot.ly",
        "plotlyServerURL": "https://plot.ly",
        "showLink": false
       },
       "data": [
        {
         "alignmentgroup": "True",
         "hovertemplate": "<b>Performance Review=%{x}<extra></extra>",
         "legendgroup": "",
         "marker": {
          "color": "#B31942"
         },
         "name": "",
         "notched": false,
         "offsetgroup": "",
         "orientation": "h",
         "showlegend": false,
         "type": "box",
         "x": [
          10,
          10,
          8,
          10,
          7,
          5,
          8,
          9,
          9,
          9,
          5,
          9,
          6,
          5,
          8,
          6,
          5,
          6,
          7,
          9,
          7,
          7,
          10,
          9,
          7,
          5,
          6,
          10,
          10,
          5,
          7,
          8,
          10,
          9,
          9,
          7,
          5,
          8,
          9,
          9,
          10,
          9,
          8,
          10,
          9,
          7,
          5,
          7,
          5,
          10,
          6,
          10,
          7,
          7,
          7,
          5,
          8,
          5,
          8,
          8,
          8,
          7,
          6,
          10,
          5,
          5,
          9,
          9,
          9,
          7,
          5,
          10,
          7,
          6,
          7,
          6,
          8,
          8,
          10,
          7,
          9,
          5,
          7,
          8,
          9,
          10,
          9,
          10,
          7,
          7
         ],
         "x0": " ",
         "xaxis": "x",
         "y0": " ",
         "yaxis": "y"
        }
       ],
       "layout": {
        "boxmode": "group",
        "hoverlabel": {
         "bgcolor": "#111",
         "font": {
          "family": "arial",
          "size": 16
         }
        },
        "legend": {
         "tracegroupgap": 0
        },
        "showlegend": false,
        "template": {
         "data": {
          "bar": [
           {
            "error_x": {
             "color": "#2a3f5f"
            },
            "error_y": {
             "color": "#2a3f5f"
            },
            "marker": {
             "line": {
              "color": "white",
              "width": 0.5
             },
             "pattern": {
              "fillmode": "overlay",
              "size": 10,
              "solidity": 0.2
             }
            },
            "type": "bar"
           }
          ],
          "barpolar": [
           {
            "marker": {
             "line": {
              "color": "white",
              "width": 0.5
             },
             "pattern": {
              "fillmode": "overlay",
              "size": 10,
              "solidity": 0.2
             }
            },
            "type": "barpolar"
           }
          ],
          "carpet": [
           {
            "aaxis": {
             "endlinecolor": "#2a3f5f",
             "gridcolor": "#C8D4E3",
             "linecolor": "#C8D4E3",
             "minorgridcolor": "#C8D4E3",
             "startlinecolor": "#2a3f5f"
            },
            "baxis": {
             "endlinecolor": "#2a3f5f",
             "gridcolor": "#C8D4E3",
             "linecolor": "#C8D4E3",
             "minorgridcolor": "#C8D4E3",
             "startlinecolor": "#2a3f5f"
            },
            "type": "carpet"
           }
          ],
          "choropleth": [
           {
            "colorbar": {
             "outlinewidth": 0,
             "ticks": ""
            },
            "type": "choropleth"
           }
          ],
          "contour": [
           {
            "colorbar": {
             "outlinewidth": 0,
             "ticks": ""
            },
            "colorscale": [
             [
              0,
              "#0d0887"
             ],
             [
              0.1111111111111111,
              "#46039f"
             ],
             [
              0.2222222222222222,
              "#7201a8"
             ],
             [
              0.3333333333333333,
              "#9c179e"
             ],
             [
              0.4444444444444444,
              "#bd3786"
             ],
             [
              0.5555555555555556,
              "#d8576b"
             ],
             [
              0.6666666666666666,
              "#ed7953"
             ],
             [
              0.7777777777777778,
              "#fb9f3a"
             ],
             [
              0.8888888888888888,
              "#fdca26"
             ],
             [
              1,
              "#f0f921"
             ]
            ],
            "type": "contour"
           }
          ],
          "contourcarpet": [
           {
            "colorbar": {
             "outlinewidth": 0,
             "ticks": ""
            },
            "type": "contourcarpet"
           }
          ],
          "heatmap": [
           {
            "colorbar": {
             "outlinewidth": 0,
             "ticks": ""
            },
            "colorscale": [
             [
              0,
              "#0d0887"
             ],
             [
              0.1111111111111111,
              "#46039f"
             ],
             [
              0.2222222222222222,
              "#7201a8"
             ],
             [
              0.3333333333333333,
              "#9c179e"
             ],
             [
              0.4444444444444444,
              "#bd3786"
             ],
             [
              0.5555555555555556,
              "#d8576b"
             ],
             [
              0.6666666666666666,
              "#ed7953"
             ],
             [
              0.7777777777777778,
              "#fb9f3a"
             ],
             [
              0.8888888888888888,
              "#fdca26"
             ],
             [
              1,
              "#f0f921"
             ]
            ],
            "type": "heatmap"
           }
          ],
          "heatmapgl": [
           {
            "colorbar": {
             "outlinewidth": 0,
             "ticks": ""
            },
            "colorscale": [
             [
              0,
              "#0d0887"
             ],
             [
              0.1111111111111111,
              "#46039f"
             ],
             [
              0.2222222222222222,
              "#7201a8"
             ],
             [
              0.3333333333333333,
              "#9c179e"
             ],
             [
              0.4444444444444444,
              "#bd3786"
             ],
             [
              0.5555555555555556,
              "#d8576b"
             ],
             [
              0.6666666666666666,
              "#ed7953"
             ],
             [
              0.7777777777777778,
              "#fb9f3a"
             ],
             [
              0.8888888888888888,
              "#fdca26"
             ],
             [
              1,
              "#f0f921"
             ]
            ],
            "type": "heatmapgl"
           }
          ],
          "histogram": [
           {
            "marker": {
             "pattern": {
              "fillmode": "overlay",
              "size": 10,
              "solidity": 0.2
             }
            },
            "type": "histogram"
           }
          ],
          "histogram2d": [
           {
            "colorbar": {
             "outlinewidth": 0,
             "ticks": ""
            },
            "colorscale": [
             [
              0,
              "#0d0887"
             ],
             [
              0.1111111111111111,
              "#46039f"
             ],
             [
              0.2222222222222222,
              "#7201a8"
             ],
             [
              0.3333333333333333,
              "#9c179e"
             ],
             [
              0.4444444444444444,
              "#bd3786"
             ],
             [
              0.5555555555555556,
              "#d8576b"
             ],
             [
              0.6666666666666666,
              "#ed7953"
             ],
             [
              0.7777777777777778,
              "#fb9f3a"
             ],
             [
              0.8888888888888888,
              "#fdca26"
             ],
             [
              1,
              "#f0f921"
             ]
            ],
            "type": "histogram2d"
           }
          ],
          "histogram2dcontour": [
           {
            "colorbar": {
             "outlinewidth": 0,
             "ticks": ""
            },
            "colorscale": [
             [
              0,
              "#0d0887"
             ],
             [
              0.1111111111111111,
              "#46039f"
             ],
             [
              0.2222222222222222,
              "#7201a8"
             ],
             [
              0.3333333333333333,
              "#9c179e"
             ],
             [
              0.4444444444444444,
              "#bd3786"
             ],
             [
              0.5555555555555556,
              "#d8576b"
             ],
             [
              0.6666666666666666,
              "#ed7953"
             ],
             [
              0.7777777777777778,
              "#fb9f3a"
             ],
             [
              0.8888888888888888,
              "#fdca26"
             ],
             [
              1,
              "#f0f921"
             ]
            ],
            "type": "histogram2dcontour"
           }
          ],
          "mesh3d": [
           {
            "colorbar": {
             "outlinewidth": 0,
             "ticks": ""
            },
            "type": "mesh3d"
           }
          ],
          "parcoords": [
           {
            "line": {
             "colorbar": {
              "outlinewidth": 0,
              "ticks": ""
             }
            },
            "type": "parcoords"
           }
          ],
          "pie": [
           {
            "automargin": true,
            "type": "pie"
           }
          ],
          "scatter": [
           {
            "fillpattern": {
             "fillmode": "overlay",
             "size": 10,
             "solidity": 0.2
            },
            "type": "scatter"
           }
          ],
          "scatter3d": [
           {
            "line": {
             "colorbar": {
              "outlinewidth": 0,
              "ticks": ""
             }
            },
            "marker": {
             "colorbar": {
              "outlinewidth": 0,
              "ticks": ""
             }
            },
            "type": "scatter3d"
           }
          ],
          "scattercarpet": [
           {
            "marker": {
             "colorbar": {
              "outlinewidth": 0,
              "ticks": ""
             }
            },
            "type": "scattercarpet"
           }
          ],
          "scattergeo": [
           {
            "marker": {
             "colorbar": {
              "outlinewidth": 0,
              "ticks": ""
             }
            },
            "type": "scattergeo"
           }
          ],
          "scattergl": [
           {
            "marker": {
             "colorbar": {
              "outlinewidth": 0,
              "ticks": ""
             }
            },
            "type": "scattergl"
           }
          ],
          "scattermapbox": [
           {
            "marker": {
             "colorbar": {
              "outlinewidth": 0,
              "ticks": ""
             }
            },
            "type": "scattermapbox"
           }
          ],
          "scatterpolar": [
           {
            "marker": {
             "colorbar": {
              "outlinewidth": 0,
              "ticks": ""
             }
            },
            "type": "scatterpolar"
           }
          ],
          "scatterpolargl": [
           {
            "marker": {
             "colorbar": {
              "outlinewidth": 0,
              "ticks": ""
             }
            },
            "type": "scatterpolargl"
           }
          ],
          "scatterternary": [
           {
            "marker": {
             "colorbar": {
              "outlinewidth": 0,
              "ticks": ""
             }
            },
            "type": "scatterternary"
           }
          ],
          "surface": [
           {
            "colorbar": {
             "outlinewidth": 0,
             "ticks": ""
            },
            "colorscale": [
             [
              0,
              "#0d0887"
             ],
             [
              0.1111111111111111,
              "#46039f"
             ],
             [
              0.2222222222222222,
              "#7201a8"
             ],
             [
              0.3333333333333333,
              "#9c179e"
             ],
             [
              0.4444444444444444,
              "#bd3786"
             ],
             [
              0.5555555555555556,
              "#d8576b"
             ],
             [
              0.6666666666666666,
              "#ed7953"
             ],
             [
              0.7777777777777778,
              "#fb9f3a"
             ],
             [
              0.8888888888888888,
              "#fdca26"
             ],
             [
              1,
              "#f0f921"
             ]
            ],
            "type": "surface"
           }
          ],
          "table": [
           {
            "cells": {
             "fill": {
              "color": "#EBF0F8"
             },
             "line": {
              "color": "white"
             }
            },
            "header": {
             "fill": {
              "color": "#C8D4E3"
             },
             "line": {
              "color": "white"
             }
            },
            "type": "table"
           }
          ]
         },
         "layout": {
          "annotationdefaults": {
           "arrowcolor": "#2a3f5f",
           "arrowhead": 0,
           "arrowwidth": 1
          },
          "autotypenumbers": "strict",
          "coloraxis": {
           "colorbar": {
            "outlinewidth": 0,
            "ticks": ""
           }
          },
          "colorscale": {
           "diverging": [
            [
             0,
             "#8e0152"
            ],
            [
             0.1,
             "#c51b7d"
            ],
            [
             0.2,
             "#de77ae"
            ],
            [
             0.3,
             "#f1b6da"
            ],
            [
             0.4,
             "#fde0ef"
            ],
            [
             0.5,
             "#f7f7f7"
            ],
            [
             0.6,
             "#e6f5d0"
            ],
            [
             0.7,
             "#b8e186"
            ],
            [
             0.8,
             "#7fbc41"
            ],
            [
             0.9,
             "#4d9221"
            ],
            [
             1,
             "#276419"
            ]
           ],
           "sequential": [
            [
             0,
             "#0d0887"
            ],
            [
             0.1111111111111111,
             "#46039f"
            ],
            [
             0.2222222222222222,
             "#7201a8"
            ],
            [
             0.3333333333333333,
             "#9c179e"
            ],
            [
             0.4444444444444444,
             "#bd3786"
            ],
            [
             0.5555555555555556,
             "#d8576b"
            ],
            [
             0.6666666666666666,
             "#ed7953"
            ],
            [
             0.7777777777777778,
             "#fb9f3a"
            ],
            [
             0.8888888888888888,
             "#fdca26"
            ],
            [
             1,
             "#f0f921"
            ]
           ],
           "sequentialminus": [
            [
             0,
             "#0d0887"
            ],
            [
             0.1111111111111111,
             "#46039f"
            ],
            [
             0.2222222222222222,
             "#7201a8"
            ],
            [
             0.3333333333333333,
             "#9c179e"
            ],
            [
             0.4444444444444444,
             "#bd3786"
            ],
            [
             0.5555555555555556,
             "#d8576b"
            ],
            [
             0.6666666666666666,
             "#ed7953"
            ],
            [
             0.7777777777777778,
             "#fb9f3a"
            ],
            [
             0.8888888888888888,
             "#fdca26"
            ],
            [
             1,
             "#f0f921"
            ]
           ]
          },
          "colorway": [
           "#636efa",
           "#EF553B",
           "#00cc96",
           "#ab63fa",
           "#FFA15A",
           "#19d3f3",
           "#FF6692",
           "#B6E880",
           "#FF97FF",
           "#FECB52"
          ],
          "font": {
           "color": "#2a3f5f"
          },
          "geo": {
           "bgcolor": "white",
           "lakecolor": "white",
           "landcolor": "white",
           "showlakes": true,
           "showland": true,
           "subunitcolor": "#C8D4E3"
          },
          "hoverlabel": {
           "align": "left"
          },
          "hovermode": "closest",
          "mapbox": {
           "style": "light"
          },
          "paper_bgcolor": "white",
          "plot_bgcolor": "white",
          "polar": {
           "angularaxis": {
            "gridcolor": "#EBF0F8",
            "linecolor": "#EBF0F8",
            "ticks": ""
           },
           "bgcolor": "white",
           "radialaxis": {
            "gridcolor": "#EBF0F8",
            "linecolor": "#EBF0F8",
            "ticks": ""
           }
          },
          "scene": {
           "xaxis": {
            "backgroundcolor": "white",
            "gridcolor": "#DFE8F3",
            "gridwidth": 2,
            "linecolor": "#EBF0F8",
            "showbackground": true,
            "ticks": "",
            "zerolinecolor": "#EBF0F8"
           },
           "yaxis": {
            "backgroundcolor": "white",
            "gridcolor": "#DFE8F3",
            "gridwidth": 2,
            "linecolor": "#EBF0F8",
            "showbackground": true,
            "ticks": "",
            "zerolinecolor": "#EBF0F8"
           },
           "zaxis": {
            "backgroundcolor": "white",
            "gridcolor": "#DFE8F3",
            "gridwidth": 2,
            "linecolor": "#EBF0F8",
            "showbackground": true,
            "ticks": "",
            "zerolinecolor": "#EBF0F8"
           }
          },
          "shapedefaults": {
           "line": {
            "color": "#2a3f5f"
           }
          },
          "ternary": {
           "aaxis": {
            "gridcolor": "#DFE8F3",
            "linecolor": "#A2B1C6",
            "ticks": ""
           },
           "baxis": {
            "gridcolor": "#DFE8F3",
            "linecolor": "#A2B1C6",
            "ticks": ""
           },
           "bgcolor": "white",
           "caxis": {
            "gridcolor": "#DFE8F3",
            "linecolor": "#A2B1C6",
            "ticks": ""
           }
          },
          "title": {
           "x": 0.05
          },
          "xaxis": {
           "automargin": true,
           "gridcolor": "#EBF0F8",
           "linecolor": "#EBF0F8",
           "ticks": "",
           "title": {
            "standoff": 15
           },
           "zerolinecolor": "#EBF0F8",
           "zerolinewidth": 2
          },
          "yaxis": {
           "automargin": true,
           "gridcolor": "#EBF0F8",
           "linecolor": "#EBF0F8",
           "ticks": "",
           "title": {
            "standoff": 15
           },
           "zerolinecolor": "#EBF0F8",
           "zerolinewidth": 2
          }
         }
        },
        "title": {
         "font": {
          "family": "tahoma",
          "size": 28
         },
         "text": "<b>Performance 5-Summary"
        },
        "xaxis": {
         "anchor": "y",
         "domain": [
          0,
          1
         ],
         "title": {
          "text": "<b>Performance Review"
         }
        },
        "yaxis": {
         "anchor": "x",
         "domain": [
          0,
          1
         ]
        }
       }
      }
     },
     "metadata": {},
     "output_type": "display_data"
    }
   ],
   "source": [
    "fig = px.box(\n",
    "    x= df['Performance_Review'],\n",
    "    labels={'x':'<b>Performance Review'},\n",
    "    template='plotly_white',\n",
    "    title='<b>Performance 5-Summary',\n",
    "    color_discrete_sequence=['#B31942']\n",
    ")\n",
    "\n",
    "custom_layout()\n",
    "iplot(fig)"
   ]
  },
  {
   "cell_type": "markdown",
   "metadata": {},
   "source": [
    "From Box Plot, we can say that __50%__ of our employees has performance between __6:9__"
   ]
  },
  {
   "cell_type": "markdown",
   "metadata": {},
   "source": [
    "### __Hiring Date Column__"
   ]
  },
  {
   "cell_type": "code",
   "execution_count": 34,
   "id": "01HXB1VTVDN9H5MV92S85RWQ02",
   "metadata": {},
   "outputs": [],
   "source": [
    "hiring_year = df['Hire_Date'].dt.year.value_counts().sort_index()"
   ]
  },
  {
   "cell_type": "code",
   "execution_count": 52,
   "id": "01HXB8ZHNY0EK45E0ZX4QAPN5S",
   "metadata": {},
   "outputs": [
    {
     "data": {
      "application/vnd.plotly.v1+json": {
       "config": {
        "linkText": "Export to plot.ly",
        "plotlyServerURL": "https://plot.ly",
        "showLink": false
       },
       "data": [
        {
         "hovertemplate": "<b>Year=%{x}<br><b>Count of Hired Employee=%{y}<extra></extra>",
         "legendgroup": "",
         "line": {
          "color": "#98EECC",
          "dash": "solid"
         },
         "marker": {
          "symbol": "circle"
         },
         "mode": "lines+markers",
         "name": "",
         "orientation": "v",
         "showlegend": false,
         "type": "scatter",
         "x": [
          2011,
          2012,
          2013,
          2014,
          2015,
          2016,
          2017,
          2018,
          2019
         ],
         "xaxis": "x",
         "y": [
          3,
          6,
          3,
          9,
          14,
          19,
          9,
          16,
          11
         ],
         "yaxis": "y"
        }
       ],
       "layout": {
        "hoverlabel": {
         "bgcolor": "#111",
         "font": {
          "family": "arial",
          "size": 16
         }
        },
        "legend": {
         "tracegroupgap": 0
        },
        "showlegend": false,
        "template": {
         "data": {
          "bar": [
           {
            "error_x": {
             "color": "#2a3f5f"
            },
            "error_y": {
             "color": "#2a3f5f"
            },
            "marker": {
             "line": {
              "color": "white",
              "width": 0.5
             },
             "pattern": {
              "fillmode": "overlay",
              "size": 10,
              "solidity": 0.2
             }
            },
            "type": "bar"
           }
          ],
          "barpolar": [
           {
            "marker": {
             "line": {
              "color": "white",
              "width": 0.5
             },
             "pattern": {
              "fillmode": "overlay",
              "size": 10,
              "solidity": 0.2
             }
            },
            "type": "barpolar"
           }
          ],
          "carpet": [
           {
            "aaxis": {
             "endlinecolor": "#2a3f5f",
             "gridcolor": "#C8D4E3",
             "linecolor": "#C8D4E3",
             "minorgridcolor": "#C8D4E3",
             "startlinecolor": "#2a3f5f"
            },
            "baxis": {
             "endlinecolor": "#2a3f5f",
             "gridcolor": "#C8D4E3",
             "linecolor": "#C8D4E3",
             "minorgridcolor": "#C8D4E3",
             "startlinecolor": "#2a3f5f"
            },
            "type": "carpet"
           }
          ],
          "choropleth": [
           {
            "colorbar": {
             "outlinewidth": 0,
             "ticks": ""
            },
            "type": "choropleth"
           }
          ],
          "contour": [
           {
            "colorbar": {
             "outlinewidth": 0,
             "ticks": ""
            },
            "colorscale": [
             [
              0,
              "#0d0887"
             ],
             [
              0.1111111111111111,
              "#46039f"
             ],
             [
              0.2222222222222222,
              "#7201a8"
             ],
             [
              0.3333333333333333,
              "#9c179e"
             ],
             [
              0.4444444444444444,
              "#bd3786"
             ],
             [
              0.5555555555555556,
              "#d8576b"
             ],
             [
              0.6666666666666666,
              "#ed7953"
             ],
             [
              0.7777777777777778,
              "#fb9f3a"
             ],
             [
              0.8888888888888888,
              "#fdca26"
             ],
             [
              1,
              "#f0f921"
             ]
            ],
            "type": "contour"
           }
          ],
          "contourcarpet": [
           {
            "colorbar": {
             "outlinewidth": 0,
             "ticks": ""
            },
            "type": "contourcarpet"
           }
          ],
          "heatmap": [
           {
            "colorbar": {
             "outlinewidth": 0,
             "ticks": ""
            },
            "colorscale": [
             [
              0,
              "#0d0887"
             ],
             [
              0.1111111111111111,
              "#46039f"
             ],
             [
              0.2222222222222222,
              "#7201a8"
             ],
             [
              0.3333333333333333,
              "#9c179e"
             ],
             [
              0.4444444444444444,
              "#bd3786"
             ],
             [
              0.5555555555555556,
              "#d8576b"
             ],
             [
              0.6666666666666666,
              "#ed7953"
             ],
             [
              0.7777777777777778,
              "#fb9f3a"
             ],
             [
              0.8888888888888888,
              "#fdca26"
             ],
             [
              1,
              "#f0f921"
             ]
            ],
            "type": "heatmap"
           }
          ],
          "heatmapgl": [
           {
            "colorbar": {
             "outlinewidth": 0,
             "ticks": ""
            },
            "colorscale": [
             [
              0,
              "#0d0887"
             ],
             [
              0.1111111111111111,
              "#46039f"
             ],
             [
              0.2222222222222222,
              "#7201a8"
             ],
             [
              0.3333333333333333,
              "#9c179e"
             ],
             [
              0.4444444444444444,
              "#bd3786"
             ],
             [
              0.5555555555555556,
              "#d8576b"
             ],
             [
              0.6666666666666666,
              "#ed7953"
             ],
             [
              0.7777777777777778,
              "#fb9f3a"
             ],
             [
              0.8888888888888888,
              "#fdca26"
             ],
             [
              1,
              "#f0f921"
             ]
            ],
            "type": "heatmapgl"
           }
          ],
          "histogram": [
           {
            "marker": {
             "pattern": {
              "fillmode": "overlay",
              "size": 10,
              "solidity": 0.2
             }
            },
            "type": "histogram"
           }
          ],
          "histogram2d": [
           {
            "colorbar": {
             "outlinewidth": 0,
             "ticks": ""
            },
            "colorscale": [
             [
              0,
              "#0d0887"
             ],
             [
              0.1111111111111111,
              "#46039f"
             ],
             [
              0.2222222222222222,
              "#7201a8"
             ],
             [
              0.3333333333333333,
              "#9c179e"
             ],
             [
              0.4444444444444444,
              "#bd3786"
             ],
             [
              0.5555555555555556,
              "#d8576b"
             ],
             [
              0.6666666666666666,
              "#ed7953"
             ],
             [
              0.7777777777777778,
              "#fb9f3a"
             ],
             [
              0.8888888888888888,
              "#fdca26"
             ],
             [
              1,
              "#f0f921"
             ]
            ],
            "type": "histogram2d"
           }
          ],
          "histogram2dcontour": [
           {
            "colorbar": {
             "outlinewidth": 0,
             "ticks": ""
            },
            "colorscale": [
             [
              0,
              "#0d0887"
             ],
             [
              0.1111111111111111,
              "#46039f"
             ],
             [
              0.2222222222222222,
              "#7201a8"
             ],
             [
              0.3333333333333333,
              "#9c179e"
             ],
             [
              0.4444444444444444,
              "#bd3786"
             ],
             [
              0.5555555555555556,
              "#d8576b"
             ],
             [
              0.6666666666666666,
              "#ed7953"
             ],
             [
              0.7777777777777778,
              "#fb9f3a"
             ],
             [
              0.8888888888888888,
              "#fdca26"
             ],
             [
              1,
              "#f0f921"
             ]
            ],
            "type": "histogram2dcontour"
           }
          ],
          "mesh3d": [
           {
            "colorbar": {
             "outlinewidth": 0,
             "ticks": ""
            },
            "type": "mesh3d"
           }
          ],
          "parcoords": [
           {
            "line": {
             "colorbar": {
              "outlinewidth": 0,
              "ticks": ""
             }
            },
            "type": "parcoords"
           }
          ],
          "pie": [
           {
            "automargin": true,
            "type": "pie"
           }
          ],
          "scatter": [
           {
            "fillpattern": {
             "fillmode": "overlay",
             "size": 10,
             "solidity": 0.2
            },
            "type": "scatter"
           }
          ],
          "scatter3d": [
           {
            "line": {
             "colorbar": {
              "outlinewidth": 0,
              "ticks": ""
             }
            },
            "marker": {
             "colorbar": {
              "outlinewidth": 0,
              "ticks": ""
             }
            },
            "type": "scatter3d"
           }
          ],
          "scattercarpet": [
           {
            "marker": {
             "colorbar": {
              "outlinewidth": 0,
              "ticks": ""
             }
            },
            "type": "scattercarpet"
           }
          ],
          "scattergeo": [
           {
            "marker": {
             "colorbar": {
              "outlinewidth": 0,
              "ticks": ""
             }
            },
            "type": "scattergeo"
           }
          ],
          "scattergl": [
           {
            "marker": {
             "colorbar": {
              "outlinewidth": 0,
              "ticks": ""
             }
            },
            "type": "scattergl"
           }
          ],
          "scattermapbox": [
           {
            "marker": {
             "colorbar": {
              "outlinewidth": 0,
              "ticks": ""
             }
            },
            "type": "scattermapbox"
           }
          ],
          "scatterpolar": [
           {
            "marker": {
             "colorbar": {
              "outlinewidth": 0,
              "ticks": ""
             }
            },
            "type": "scatterpolar"
           }
          ],
          "scatterpolargl": [
           {
            "marker": {
             "colorbar": {
              "outlinewidth": 0,
              "ticks": ""
             }
            },
            "type": "scatterpolargl"
           }
          ],
          "scatterternary": [
           {
            "marker": {
             "colorbar": {
              "outlinewidth": 0,
              "ticks": ""
             }
            },
            "type": "scatterternary"
           }
          ],
          "surface": [
           {
            "colorbar": {
             "outlinewidth": 0,
             "ticks": ""
            },
            "colorscale": [
             [
              0,
              "#0d0887"
             ],
             [
              0.1111111111111111,
              "#46039f"
             ],
             [
              0.2222222222222222,
              "#7201a8"
             ],
             [
              0.3333333333333333,
              "#9c179e"
             ],
             [
              0.4444444444444444,
              "#bd3786"
             ],
             [
              0.5555555555555556,
              "#d8576b"
             ],
             [
              0.6666666666666666,
              "#ed7953"
             ],
             [
              0.7777777777777778,
              "#fb9f3a"
             ],
             [
              0.8888888888888888,
              "#fdca26"
             ],
             [
              1,
              "#f0f921"
             ]
            ],
            "type": "surface"
           }
          ],
          "table": [
           {
            "cells": {
             "fill": {
              "color": "#EBF0F8"
             },
             "line": {
              "color": "white"
             }
            },
            "header": {
             "fill": {
              "color": "#C8D4E3"
             },
             "line": {
              "color": "white"
             }
            },
            "type": "table"
           }
          ]
         },
         "layout": {
          "annotationdefaults": {
           "arrowcolor": "#2a3f5f",
           "arrowhead": 0,
           "arrowwidth": 1
          },
          "autotypenumbers": "strict",
          "coloraxis": {
           "colorbar": {
            "outlinewidth": 0,
            "ticks": ""
           }
          },
          "colorscale": {
           "diverging": [
            [
             0,
             "#8e0152"
            ],
            [
             0.1,
             "#c51b7d"
            ],
            [
             0.2,
             "#de77ae"
            ],
            [
             0.3,
             "#f1b6da"
            ],
            [
             0.4,
             "#fde0ef"
            ],
            [
             0.5,
             "#f7f7f7"
            ],
            [
             0.6,
             "#e6f5d0"
            ],
            [
             0.7,
             "#b8e186"
            ],
            [
             0.8,
             "#7fbc41"
            ],
            [
             0.9,
             "#4d9221"
            ],
            [
             1,
             "#276419"
            ]
           ],
           "sequential": [
            [
             0,
             "#0d0887"
            ],
            [
             0.1111111111111111,
             "#46039f"
            ],
            [
             0.2222222222222222,
             "#7201a8"
            ],
            [
             0.3333333333333333,
             "#9c179e"
            ],
            [
             0.4444444444444444,
             "#bd3786"
            ],
            [
             0.5555555555555556,
             "#d8576b"
            ],
            [
             0.6666666666666666,
             "#ed7953"
            ],
            [
             0.7777777777777778,
             "#fb9f3a"
            ],
            [
             0.8888888888888888,
             "#fdca26"
            ],
            [
             1,
             "#f0f921"
            ]
           ],
           "sequentialminus": [
            [
             0,
             "#0d0887"
            ],
            [
             0.1111111111111111,
             "#46039f"
            ],
            [
             0.2222222222222222,
             "#7201a8"
            ],
            [
             0.3333333333333333,
             "#9c179e"
            ],
            [
             0.4444444444444444,
             "#bd3786"
            ],
            [
             0.5555555555555556,
             "#d8576b"
            ],
            [
             0.6666666666666666,
             "#ed7953"
            ],
            [
             0.7777777777777778,
             "#fb9f3a"
            ],
            [
             0.8888888888888888,
             "#fdca26"
            ],
            [
             1,
             "#f0f921"
            ]
           ]
          },
          "colorway": [
           "#636efa",
           "#EF553B",
           "#00cc96",
           "#ab63fa",
           "#FFA15A",
           "#19d3f3",
           "#FF6692",
           "#B6E880",
           "#FF97FF",
           "#FECB52"
          ],
          "font": {
           "color": "#2a3f5f"
          },
          "geo": {
           "bgcolor": "white",
           "lakecolor": "white",
           "landcolor": "white",
           "showlakes": true,
           "showland": true,
           "subunitcolor": "#C8D4E3"
          },
          "hoverlabel": {
           "align": "left"
          },
          "hovermode": "closest",
          "mapbox": {
           "style": "light"
          },
          "paper_bgcolor": "white",
          "plot_bgcolor": "white",
          "polar": {
           "angularaxis": {
            "gridcolor": "#EBF0F8",
            "linecolor": "#EBF0F8",
            "ticks": ""
           },
           "bgcolor": "white",
           "radialaxis": {
            "gridcolor": "#EBF0F8",
            "linecolor": "#EBF0F8",
            "ticks": ""
           }
          },
          "scene": {
           "xaxis": {
            "backgroundcolor": "white",
            "gridcolor": "#DFE8F3",
            "gridwidth": 2,
            "linecolor": "#EBF0F8",
            "showbackground": true,
            "ticks": "",
            "zerolinecolor": "#EBF0F8"
           },
           "yaxis": {
            "backgroundcolor": "white",
            "gridcolor": "#DFE8F3",
            "gridwidth": 2,
            "linecolor": "#EBF0F8",
            "showbackground": true,
            "ticks": "",
            "zerolinecolor": "#EBF0F8"
           },
           "zaxis": {
            "backgroundcolor": "white",
            "gridcolor": "#DFE8F3",
            "gridwidth": 2,
            "linecolor": "#EBF0F8",
            "showbackground": true,
            "ticks": "",
            "zerolinecolor": "#EBF0F8"
           }
          },
          "shapedefaults": {
           "line": {
            "color": "#2a3f5f"
           }
          },
          "ternary": {
           "aaxis": {
            "gridcolor": "#DFE8F3",
            "linecolor": "#A2B1C6",
            "ticks": ""
           },
           "baxis": {
            "gridcolor": "#DFE8F3",
            "linecolor": "#A2B1C6",
            "ticks": ""
           },
           "bgcolor": "white",
           "caxis": {
            "gridcolor": "#DFE8F3",
            "linecolor": "#A2B1C6",
            "ticks": ""
           }
          },
          "title": {
           "x": 0.05
          },
          "xaxis": {
           "automargin": true,
           "gridcolor": "#EBF0F8",
           "linecolor": "#EBF0F8",
           "ticks": "",
           "title": {
            "standoff": 15
           },
           "zerolinecolor": "#EBF0F8",
           "zerolinewidth": 2
          },
          "yaxis": {
           "automargin": true,
           "gridcolor": "#EBF0F8",
           "linecolor": "#EBF0F8",
           "ticks": "",
           "title": {
            "standoff": 15
           },
           "zerolinecolor": "#EBF0F8",
           "zerolinewidth": 2
          }
         }
        },
        "title": {
         "font": {
          "family": "tahoma",
          "size": 28
         },
         "text": "<b>Hired Employees Through Years"
        },
        "xaxis": {
         "anchor": "y",
         "domain": [
          0,
          1
         ],
         "title": {
          "text": "<b>Year"
         }
        },
        "yaxis": {
         "anchor": "x",
         "domain": [
          0,
          1
         ],
         "title": {
          "text": "<b>Count of Hired Employee"
         }
        }
       }
      }
     },
     "metadata": {},
     "output_type": "display_data"
    }
   ],
   "source": [
    "fig = px.line(\n",
    "    x= hiring_year.index,\n",
    "    y= hiring_year,\n",
    "    markers= True,\n",
    "    color_discrete_sequence= [used_color[5]],\n",
    "    labels= {'x':'<b>Year', 'y':'<b>Count of Hired Employee'},\n",
    "    template='plotly_white',\n",
    "    title= '<b>Hired Employees Through Years'\n",
    ")\n",
    "\n",
    "custom_layout()\n",
    "iplot(fig)"
   ]
  },
  {
   "cell_type": "markdown",
   "metadata": {},
   "source": [
    "### __Termination Reason Column__"
   ]
  },
  {
   "cell_type": "code",
   "execution_count": 36,
   "id": "01HXB9KD5E2RVEB9B8PYAAEST6",
   "metadata": {},
   "outputs": [
    {
     "data": {
      "text/plain": [
       "Termination_Reason\n",
       "Resignation                   11\n",
       "Unfair Dismissal              10\n",
       "Dismissal                      2\n",
       "End of Internishp Contract     2\n",
       "Mutual Agreement               1\n",
       "Name: count, dtype: int64"
      ]
     },
     "execution_count": 36,
     "metadata": {},
     "output_type": "execute_result"
    }
   ],
   "source": [
    "df['Termination_Reason'].value_counts()"
   ]
  },
  {
   "cell_type": "code",
   "execution_count": 37,
   "id": "01HXB9T72A75S5Q0AAKHMJYCKV",
   "metadata": {},
   "outputs": [],
   "source": [
    "reasons = df['Termination_Reason'].dropna()\n",
    "reasons = reasons.str.replace(' ','_')"
   ]
  },
  {
   "cell_type": "code",
   "execution_count": 38,
   "id": "01HXB9VDYQHCQ5R8BY2QA28XPA",
   "metadata": {},
   "outputs": [
    {
     "data": {
      "application/vnd.plotly.v1+json": {
       "config": {
        "linkText": "Export to plot.ly",
        "plotlyServerURL": "https://plot.ly",
        "showLink": false
       },
       "data": [
        {
         "hovertemplate": "x: %{x}<br>y: %{y}<br>color: [%{z[0]}, %{z[1]}, %{z[2]}]<extra></extra>",
         "name": "0",
         "source": "data:image/png;base64,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",
         "type": "image",
         "xaxis": "x",
         "yaxis": "y"
        }
       ],
       "layout": {
        "margin": {
         "t": 60
        },
        "template": {
         "data": {
          "bar": [
           {
            "error_x": {
             "color": "#f2f5fa"
            },
            "error_y": {
             "color": "#f2f5fa"
            },
            "marker": {
             "line": {
              "color": "rgb(17,17,17)",
              "width": 0.5
             },
             "pattern": {
              "fillmode": "overlay",
              "size": 10,
              "solidity": 0.2
             }
            },
            "type": "bar"
           }
          ],
          "barpolar": [
           {
            "marker": {
             "line": {
              "color": "rgb(17,17,17)",
              "width": 0.5
             },
             "pattern": {
              "fillmode": "overlay",
              "size": 10,
              "solidity": 0.2
             }
            },
            "type": "barpolar"
           }
          ],
          "carpet": [
           {
            "aaxis": {
             "endlinecolor": "#A2B1C6",
             "gridcolor": "#506784",
             "linecolor": "#506784",
             "minorgridcolor": "#506784",
             "startlinecolor": "#A2B1C6"
            },
            "baxis": {
             "endlinecolor": "#A2B1C6",
             "gridcolor": "#506784",
             "linecolor": "#506784",
             "minorgridcolor": "#506784",
             "startlinecolor": "#A2B1C6"
            },
            "type": "carpet"
           }
          ],
          "choropleth": [
           {
            "colorbar": {
             "outlinewidth": 0,
             "ticks": ""
            },
            "type": "choropleth"
           }
          ],
          "contour": [
           {
            "colorbar": {
             "outlinewidth": 0,
             "ticks": ""
            },
            "colorscale": [
             [
              0,
              "#0d0887"
             ],
             [
              0.1111111111111111,
              "#46039f"
             ],
             [
              0.2222222222222222,
              "#7201a8"
             ],
             [
              0.3333333333333333,
              "#9c179e"
             ],
             [
              0.4444444444444444,
              "#bd3786"
             ],
             [
              0.5555555555555556,
              "#d8576b"
             ],
             [
              0.6666666666666666,
              "#ed7953"
             ],
             [
              0.7777777777777778,
              "#fb9f3a"
             ],
             [
              0.8888888888888888,
              "#fdca26"
             ],
             [
              1,
              "#f0f921"
             ]
            ],
            "type": "contour"
           }
          ],
          "contourcarpet": [
           {
            "colorbar": {
             "outlinewidth": 0,
             "ticks": ""
            },
            "type": "contourcarpet"
           }
          ],
          "heatmap": [
           {
            "colorbar": {
             "outlinewidth": 0,
             "ticks": ""
            },
            "colorscale": [
             [
              0,
              "#0d0887"
             ],
             [
              0.1111111111111111,
              "#46039f"
             ],
             [
              0.2222222222222222,
              "#7201a8"
             ],
             [
              0.3333333333333333,
              "#9c179e"
             ],
             [
              0.4444444444444444,
              "#bd3786"
             ],
             [
              0.5555555555555556,
              "#d8576b"
             ],
             [
              0.6666666666666666,
              "#ed7953"
             ],
             [
              0.7777777777777778,
              "#fb9f3a"
             ],
             [
              0.8888888888888888,
              "#fdca26"
             ],
             [
              1,
              "#f0f921"
             ]
            ],
            "type": "heatmap"
           }
          ],
          "heatmapgl": [
           {
            "colorbar": {
             "outlinewidth": 0,
             "ticks": ""
            },
            "colorscale": [
             [
              0,
              "#0d0887"
             ],
             [
              0.1111111111111111,
              "#46039f"
             ],
             [
              0.2222222222222222,
              "#7201a8"
             ],
             [
              0.3333333333333333,
              "#9c179e"
             ],
             [
              0.4444444444444444,
              "#bd3786"
             ],
             [
              0.5555555555555556,
              "#d8576b"
             ],
             [
              0.6666666666666666,
              "#ed7953"
             ],
             [
              0.7777777777777778,
              "#fb9f3a"
             ],
             [
              0.8888888888888888,
              "#fdca26"
             ],
             [
              1,
              "#f0f921"
             ]
            ],
            "type": "heatmapgl"
           }
          ],
          "histogram": [
           {
            "marker": {
             "pattern": {
              "fillmode": "overlay",
              "size": 10,
              "solidity": 0.2
             }
            },
            "type": "histogram"
           }
          ],
          "histogram2d": [
           {
            "colorbar": {
             "outlinewidth": 0,
             "ticks": ""
            },
            "colorscale": [
             [
              0,
              "#0d0887"
             ],
             [
              0.1111111111111111,
              "#46039f"
             ],
             [
              0.2222222222222222,
              "#7201a8"
             ],
             [
              0.3333333333333333,
              "#9c179e"
             ],
             [
              0.4444444444444444,
              "#bd3786"
             ],
             [
              0.5555555555555556,
              "#d8576b"
             ],
             [
              0.6666666666666666,
              "#ed7953"
             ],
             [
              0.7777777777777778,
              "#fb9f3a"
             ],
             [
              0.8888888888888888,
              "#fdca26"
             ],
             [
              1,
              "#f0f921"
             ]
            ],
            "type": "histogram2d"
           }
          ],
          "histogram2dcontour": [
           {
            "colorbar": {
             "outlinewidth": 0,
             "ticks": ""
            },
            "colorscale": [
             [
              0,
              "#0d0887"
             ],
             [
              0.1111111111111111,
              "#46039f"
             ],
             [
              0.2222222222222222,
              "#7201a8"
             ],
             [
              0.3333333333333333,
              "#9c179e"
             ],
             [
              0.4444444444444444,
              "#bd3786"
             ],
             [
              0.5555555555555556,
              "#d8576b"
             ],
             [
              0.6666666666666666,
              "#ed7953"
             ],
             [
              0.7777777777777778,
              "#fb9f3a"
             ],
             [
              0.8888888888888888,
              "#fdca26"
             ],
             [
              1,
              "#f0f921"
             ]
            ],
            "type": "histogram2dcontour"
           }
          ],
          "mesh3d": [
           {
            "colorbar": {
             "outlinewidth": 0,
             "ticks": ""
            },
            "type": "mesh3d"
           }
          ],
          "parcoords": [
           {
            "line": {
             "colorbar": {
              "outlinewidth": 0,
              "ticks": ""
             }
            },
            "type": "parcoords"
           }
          ],
          "pie": [
           {
            "automargin": true,
            "type": "pie"
           }
          ],
          "scatter": [
           {
            "marker": {
             "line": {
              "color": "#283442"
             }
            },
            "type": "scatter"
           }
          ],
          "scatter3d": [
           {
            "line": {
             "colorbar": {
              "outlinewidth": 0,
              "ticks": ""
             }
            },
            "marker": {
             "colorbar": {
              "outlinewidth": 0,
              "ticks": ""
             }
            },
            "type": "scatter3d"
           }
          ],
          "scattercarpet": [
           {
            "marker": {
             "colorbar": {
              "outlinewidth": 0,
              "ticks": ""
             }
            },
            "type": "scattercarpet"
           }
          ],
          "scattergeo": [
           {
            "marker": {
             "colorbar": {
              "outlinewidth": 0,
              "ticks": ""
             }
            },
            "type": "scattergeo"
           }
          ],
          "scattergl": [
           {
            "marker": {
             "line": {
              "color": "#283442"
             }
            },
            "type": "scattergl"
           }
          ],
          "scattermapbox": [
           {
            "marker": {
             "colorbar": {
              "outlinewidth": 0,
              "ticks": ""
             }
            },
            "type": "scattermapbox"
           }
          ],
          "scatterpolar": [
           {
            "marker": {
             "colorbar": {
              "outlinewidth": 0,
              "ticks": ""
             }
            },
            "type": "scatterpolar"
           }
          ],
          "scatterpolargl": [
           {
            "marker": {
             "colorbar": {
              "outlinewidth": 0,
              "ticks": ""
             }
            },
            "type": "scatterpolargl"
           }
          ],
          "scatterternary": [
           {
            "marker": {
             "colorbar": {
              "outlinewidth": 0,
              "ticks": ""
             }
            },
            "type": "scatterternary"
           }
          ],
          "surface": [
           {
            "colorbar": {
             "outlinewidth": 0,
             "ticks": ""
            },
            "colorscale": [
             [
              0,
              "#0d0887"
             ],
             [
              0.1111111111111111,
              "#46039f"
             ],
             [
              0.2222222222222222,
              "#7201a8"
             ],
             [
              0.3333333333333333,
              "#9c179e"
             ],
             [
              0.4444444444444444,
              "#bd3786"
             ],
             [
              0.5555555555555556,
              "#d8576b"
             ],
             [
              0.6666666666666666,
              "#ed7953"
             ],
             [
              0.7777777777777778,
              "#fb9f3a"
             ],
             [
              0.8888888888888888,
              "#fdca26"
             ],
             [
              1,
              "#f0f921"
             ]
            ],
            "type": "surface"
           }
          ],
          "table": [
           {
            "cells": {
             "fill": {
              "color": "#506784"
             },
             "line": {
              "color": "rgb(17,17,17)"
             }
            },
            "header": {
             "fill": {
              "color": "#2a3f5f"
             },
             "line": {
              "color": "rgb(17,17,17)"
             }
            },
            "type": "table"
           }
          ]
         },
         "layout": {
          "annotationdefaults": {
           "arrowcolor": "#f2f5fa",
           "arrowhead": 0,
           "arrowwidth": 1
          },
          "autotypenumbers": "strict",
          "coloraxis": {
           "colorbar": {
            "outlinewidth": 0,
            "ticks": ""
           }
          },
          "colorscale": {
           "diverging": [
            [
             0,
             "#8e0152"
            ],
            [
             0.1,
             "#c51b7d"
            ],
            [
             0.2,
             "#de77ae"
            ],
            [
             0.3,
             "#f1b6da"
            ],
            [
             0.4,
             "#fde0ef"
            ],
            [
             0.5,
             "#f7f7f7"
            ],
            [
             0.6,
             "#e6f5d0"
            ],
            [
             0.7,
             "#b8e186"
            ],
            [
             0.8,
             "#7fbc41"
            ],
            [
             0.9,
             "#4d9221"
            ],
            [
             1,
             "#276419"
            ]
           ],
           "sequential": [
            [
             0,
             "#0d0887"
            ],
            [
             0.1111111111111111,
             "#46039f"
            ],
            [
             0.2222222222222222,
             "#7201a8"
            ],
            [
             0.3333333333333333,
             "#9c179e"
            ],
            [
             0.4444444444444444,
             "#bd3786"
            ],
            [
             0.5555555555555556,
             "#d8576b"
            ],
            [
             0.6666666666666666,
             "#ed7953"
            ],
            [
             0.7777777777777778,
             "#fb9f3a"
            ],
            [
             0.8888888888888888,
             "#fdca26"
            ],
            [
             1,
             "#f0f921"
            ]
           ],
           "sequentialminus": [
            [
             0,
             "#0d0887"
            ],
            [
             0.1111111111111111,
             "#46039f"
            ],
            [
             0.2222222222222222,
             "#7201a8"
            ],
            [
             0.3333333333333333,
             "#9c179e"
            ],
            [
             0.4444444444444444,
             "#bd3786"
            ],
            [
             0.5555555555555556,
             "#d8576b"
            ],
            [
             0.6666666666666666,
             "#ed7953"
            ],
            [
             0.7777777777777778,
             "#fb9f3a"
            ],
            [
             0.8888888888888888,
             "#fdca26"
            ],
            [
             1,
             "#f0f921"
            ]
           ]
          },
          "colorway": [
           "#636efa",
           "#EF553B",
           "#00cc96",
           "#ab63fa",
           "#FFA15A",
           "#19d3f3",
           "#FF6692",
           "#B6E880",
           "#FF97FF",
           "#FECB52"
          ],
          "font": {
           "color": "#f2f5fa"
          },
          "geo": {
           "bgcolor": "rgb(17,17,17)",
           "lakecolor": "rgb(17,17,17)",
           "landcolor": "rgb(17,17,17)",
           "showlakes": true,
           "showland": true,
           "subunitcolor": "#506784"
          },
          "hoverlabel": {
           "align": "left"
          },
          "hovermode": "closest",
          "mapbox": {
           "style": "dark"
          },
          "paper_bgcolor": "rgb(17,17,17)",
          "plot_bgcolor": "rgb(17,17,17)",
          "polar": {
           "angularaxis": {
            "gridcolor": "#506784",
            "linecolor": "#506784",
            "ticks": ""
           },
           "bgcolor": "rgb(17,17,17)",
           "radialaxis": {
            "gridcolor": "#506784",
            "linecolor": "#506784",
            "ticks": ""
           }
          },
          "scene": {
           "xaxis": {
            "backgroundcolor": "rgb(17,17,17)",
            "gridcolor": "#506784",
            "gridwidth": 2,
            "linecolor": "#506784",
            "showbackground": true,
            "ticks": "",
            "zerolinecolor": "#C8D4E3"
           },
           "yaxis": {
            "backgroundcolor": "rgb(17,17,17)",
            "gridcolor": "#506784",
            "gridwidth": 2,
            "linecolor": "#506784",
            "showbackground": true,
            "ticks": "",
            "zerolinecolor": "#C8D4E3"
           },
           "zaxis": {
            "backgroundcolor": "rgb(17,17,17)",
            "gridcolor": "#506784",
            "gridwidth": 2,
            "linecolor": "#506784",
            "showbackground": true,
            "ticks": "",
            "zerolinecolor": "#C8D4E3"
           }
          },
          "shapedefaults": {
           "line": {
            "color": "#f2f5fa"
           }
          },
          "sliderdefaults": {
           "bgcolor": "#C8D4E3",
           "bordercolor": "rgb(17,17,17)",
           "borderwidth": 1,
           "tickwidth": 0
          },
          "ternary": {
           "aaxis": {
            "gridcolor": "#506784",
            "linecolor": "#506784",
            "ticks": ""
           },
           "baxis": {
            "gridcolor": "#506784",
            "linecolor": "#506784",
            "ticks": ""
           },
           "bgcolor": "rgb(17,17,17)",
           "caxis": {
            "gridcolor": "#506784",
            "linecolor": "#506784",
            "ticks": ""
           }
          },
          "title": {
           "x": 0.05
          },
          "updatemenudefaults": {
           "bgcolor": "#506784",
           "borderwidth": 0
          },
          "xaxis": {
           "automargin": true,
           "gridcolor": "#283442",
           "linecolor": "#506784",
           "ticks": "",
           "title": {
            "standoff": 15
           },
           "zerolinecolor": "#283442",
           "zerolinewidth": 2
          },
          "yaxis": {
           "automargin": true,
           "gridcolor": "#283442",
           "linecolor": "#506784",
           "ticks": "",
           "title": {
            "standoff": 15
           },
           "zerolinecolor": "#283442",
           "zerolinewidth": 2
          }
         }
        },
        "xaxis": {
         "anchor": "y",
         "domain": [
          0,
          1
         ],
         "showticklabels": false
        },
        "yaxis": {
         "anchor": "x",
         "domain": [
          0,
          1
         ],
         "showticklabels": false
        }
       }
      }
     },
     "metadata": {},
     "output_type": "display_data"
    }
   ],
   "source": [
    "stopwords = ['End', 'of']\n",
    "wordcloud = WordCloud(\n",
    "    width = 500,\n",
    "    height = 400,\n",
    "    colormap = 'Greens',\n",
    "    stopwords=stopwords,\n",
    "    random_state=10\n",
    ").generate(' '.join(reasons))\n",
    "\n",
    "fig = px.imshow(wordcloud, template='plotly_dark')\n",
    "fig.update_xaxes(showticklabels=False)\n",
    "fig.update_yaxes(showticklabels=False)\n",
    "\n",
    "iplot(fig)"
   ]
  },
  {
   "cell_type": "markdown",
   "metadata": {},
   "source": [
    "### __Question & Insights__"
   ]
  },
  {
   "cell_type": "markdown",
   "metadata": {},
   "source": [
    "##### __What is the average salary for each department?__"
   ]
  },
  {
   "cell_type": "code",
   "execution_count": 39,
   "id": "01HXB9YA5VK2QY80VY6M9Z0T4K",
   "metadata": {},
   "outputs": [
    {
     "data": {
      "text/plain": [
       "Department\n",
       "Marketing              4,313.8\n",
       "Finance / Accounting   4,248.2\n",
       "Development            4,091.0\n",
       "Sales                  4,082.1\n",
       "Strategy               4,075.1\n",
       "Technology             3,999.4\n",
       "Legal                  3,698.0\n",
       "Name: Salary, dtype: float64"
      ]
     },
     "execution_count": 39,
     "metadata": {},
     "output_type": "execute_result"
    }
   ],
   "source": [
    "dep_salary = df.groupby(df['Department'])['Salary'].mean().sort_values(ascending=False)\n",
    "dep_salary"
   ]
  },
  {
   "cell_type": "code",
   "execution_count": 40,
   "id": "01HXBA722QF0KWFQYT0G32TM7N",
   "metadata": {},
   "outputs": [
    {
     "data": {
      "application/vnd.plotly.v1+json": {
       "config": {
        "linkText": "Export to plot.ly",
        "plotlyServerURL": "https://plot.ly",
        "showLink": false
       },
       "data": [
        {
         "alignmentgroup": "True",
         "hovertemplate": "Department: %{y}<br>Percentage: %{x:0.3s}",
         "legendgroup": "Marketing",
         "marker": {
          "color": "#FF9F9F",
          "line": {
           "color": "#222",
           "width": 2
          },
          "pattern": {
           "shape": ""
          }
         },
         "name": "Marketing",
         "offsetgroup": "Marketing",
         "orientation": "h",
         "showlegend": true,
         "textfont": {
          "color": "#000",
          "family": "poppins",
          "size": 14
         },
         "textposition": "auto",
         "texttemplate": "%{x:0.4s}",
         "type": "bar",
         "x": [
          4313.75
         ],
         "xaxis": "x",
         "y": [
          "Marketing"
         ],
         "yaxis": "y"
        },
        {
         "alignmentgroup": "True",
         "hovertemplate": "Department: %{y}<br>Percentage: %{x:0.3s}",
         "legendgroup": "Finance / Accounting",
         "marker": {
          "color": "#FF9F9F",
          "line": {
           "color": "#222",
           "width": 2
          },
          "pattern": {
           "shape": ""
          }
         },
         "name": "Finance / Accounting",
         "offsetgroup": "Finance / Accounting",
         "orientation": "h",
         "showlegend": true,
         "textfont": {
          "color": "#000",
          "family": "poppins",
          "size": 14
         },
         "textposition": "auto",
         "texttemplate": "%{x:0.4s}",
         "type": "bar",
         "x": [
          4248.2307692307695
         ],
         "xaxis": "x",
         "y": [
          "Finance / Accounting"
         ],
         "yaxis": "y"
        },
        {
         "alignmentgroup": "True",
         "hovertemplate": "Department: %{y}<br>Percentage: %{x:0.3s}",
         "legendgroup": "Development",
         "marker": {
          "color": "#FF9F9F",
          "line": {
           "color": "#222",
           "width": 2
          },
          "pattern": {
           "shape": ""
          }
         },
         "name": "Development",
         "offsetgroup": "Development",
         "orientation": "h",
         "showlegend": true,
         "textfont": {
          "color": "#000",
          "family": "poppins",
          "size": 14
         },
         "textposition": "auto",
         "texttemplate": "%{x:0.4s}",
         "type": "bar",
         "x": [
          4090.9574468085107
         ],
         "xaxis": "x",
         "y": [
          "Development"
         ],
         "yaxis": "y"
        },
        {
         "alignmentgroup": "True",
         "hovertemplate": "Department: %{y}<br>Percentage: %{x:0.3s}",
         "legendgroup": "Sales",
         "marker": {
          "color": "#FF9F9F",
          "line": {
           "color": "#222",
           "width": 2
          },
          "pattern": {
           "shape": ""
          }
         },
         "name": "Sales",
         "offsetgroup": "Sales",
         "orientation": "h",
         "showlegend": true,
         "textfont": {
          "color": "#000",
          "family": "poppins",
          "size": 14
         },
         "textposition": "auto",
         "texttemplate": "%{x:0.4s}",
         "type": "bar",
         "x": [
          4082.125
         ],
         "xaxis": "x",
         "y": [
          "Sales"
         ],
         "yaxis": "y"
        },
        {
         "alignmentgroup": "True",
         "hovertemplate": "Department: %{y}<br>Percentage: %{x:0.3s}",
         "legendgroup": "Strategy",
         "marker": {
          "color": "#FF9F9F",
          "line": {
           "color": "#222",
           "width": 2
          },
          "pattern": {
           "shape": ""
          }
         },
         "name": "Strategy",
         "offsetgroup": "Strategy",
         "orientation": "h",
         "showlegend": true,
         "textfont": {
          "color": "#000",
          "family": "poppins",
          "size": 14
         },
         "textposition": "auto",
         "texttemplate": "%{x:0.4s}",
         "type": "bar",
         "x": [
          4075.1111111111113
         ],
         "xaxis": "x",
         "y": [
          "Strategy"
         ],
         "yaxis": "y"
        },
        {
         "alignmentgroup": "True",
         "hovertemplate": "Department: %{y}<br>Percentage: %{x:0.3s}",
         "legendgroup": "Technology",
         "marker": {
          "color": "#FF9F9F",
          "line": {
           "color": "#222",
           "width": 2
          },
          "pattern": {
           "shape": ""
          }
         },
         "name": "Technology",
         "offsetgroup": "Technology",
         "orientation": "h",
         "showlegend": true,
         "textfont": {
          "color": "#000",
          "family": "poppins",
          "size": 14
         },
         "textposition": "auto",
         "texttemplate": "%{x:0.4s}",
         "type": "bar",
         "x": [
          3999.375
         ],
         "xaxis": "x",
         "y": [
          "Technology"
         ],
         "yaxis": "y"
        },
        {
         "alignmentgroup": "True",
         "hovertemplate": "Department: %{y}<br>Percentage: %{x:0.3s}",
         "legendgroup": "Legal",
         "marker": {
          "color": "#FF9F9F",
          "line": {
           "color": "#222",
           "width": 2
          },
          "pattern": {
           "shape": ""
          }
         },
         "name": "Legal",
         "offsetgroup": "Legal",
         "orientation": "h",
         "showlegend": true,
         "textfont": {
          "color": "#000",
          "family": "poppins",
          "size": 14
         },
         "textposition": "auto",
         "texttemplate": "%{x:0.4s}",
         "type": "bar",
         "x": [
          3698
         ],
         "xaxis": "x",
         "y": [
          "Legal"
         ],
         "yaxis": "y"
        }
       ],
       "layout": {
        "barmode": "relative",
        "hoverlabel": {
         "bgcolor": "#111",
         "font": {
          "family": "arial",
          "size": 16
         }
        },
        "legend": {
         "title": {
          "text": "Department"
         },
         "tracegroupgap": 0
        },
        "showlegend": false,
        "template": {
         "data": {
          "bar": [
           {
            "error_x": {
             "color": "#2a3f5f"
            },
            "error_y": {
             "color": "#2a3f5f"
            },
            "marker": {
             "line": {
              "color": "white",
              "width": 0.5
             },
             "pattern": {
              "fillmode": "overlay",
              "size": 10,
              "solidity": 0.2
             }
            },
            "type": "bar"
           }
          ],
          "barpolar": [
           {
            "marker": {
             "line": {
              "color": "white",
              "width": 0.5
             },
             "pattern": {
              "fillmode": "overlay",
              "size": 10,
              "solidity": 0.2
             }
            },
            "type": "barpolar"
           }
          ],
          "carpet": [
           {
            "aaxis": {
             "endlinecolor": "#2a3f5f",
             "gridcolor": "#C8D4E3",
             "linecolor": "#C8D4E3",
             "minorgridcolor": "#C8D4E3",
             "startlinecolor": "#2a3f5f"
            },
            "baxis": {
             "endlinecolor": "#2a3f5f",
             "gridcolor": "#C8D4E3",
             "linecolor": "#C8D4E3",
             "minorgridcolor": "#C8D4E3",
             "startlinecolor": "#2a3f5f"
            },
            "type": "carpet"
           }
          ],
          "choropleth": [
           {
            "colorbar": {
             "outlinewidth": 0,
             "ticks": ""
            },
            "type": "choropleth"
           }
          ],
          "contour": [
           {
            "colorbar": {
             "outlinewidth": 0,
             "ticks": ""
            },
            "colorscale": [
             [
              0,
              "#0d0887"
             ],
             [
              0.1111111111111111,
              "#46039f"
             ],
             [
              0.2222222222222222,
              "#7201a8"
             ],
             [
              0.3333333333333333,
              "#9c179e"
             ],
             [
              0.4444444444444444,
              "#bd3786"
             ],
             [
              0.5555555555555556,
              "#d8576b"
             ],
             [
              0.6666666666666666,
              "#ed7953"
             ],
             [
              0.7777777777777778,
              "#fb9f3a"
             ],
             [
              0.8888888888888888,
              "#fdca26"
             ],
             [
              1,
              "#f0f921"
             ]
            ],
            "type": "contour"
           }
          ],
          "contourcarpet": [
           {
            "colorbar": {
             "outlinewidth": 0,
             "ticks": ""
            },
            "type": "contourcarpet"
           }
          ],
          "heatmap": [
           {
            "colorbar": {
             "outlinewidth": 0,
             "ticks": ""
            },
            "colorscale": [
             [
              0,
              "#0d0887"
             ],
             [
              0.1111111111111111,
              "#46039f"
             ],
             [
              0.2222222222222222,
              "#7201a8"
             ],
             [
              0.3333333333333333,
              "#9c179e"
             ],
             [
              0.4444444444444444,
              "#bd3786"
             ],
             [
              0.5555555555555556,
              "#d8576b"
             ],
             [
              0.6666666666666666,
              "#ed7953"
             ],
             [
              0.7777777777777778,
              "#fb9f3a"
             ],
             [
              0.8888888888888888,
              "#fdca26"
             ],
             [
              1,
              "#f0f921"
             ]
            ],
            "type": "heatmap"
           }
          ],
          "heatmapgl": [
           {
            "colorbar": {
             "outlinewidth": 0,
             "ticks": ""
            },
            "colorscale": [
             [
              0,
              "#0d0887"
             ],
             [
              0.1111111111111111,
              "#46039f"
             ],
             [
              0.2222222222222222,
              "#7201a8"
             ],
             [
              0.3333333333333333,
              "#9c179e"
             ],
             [
              0.4444444444444444,
              "#bd3786"
             ],
             [
              0.5555555555555556,
              "#d8576b"
             ],
             [
              0.6666666666666666,
              "#ed7953"
             ],
             [
              0.7777777777777778,
              "#fb9f3a"
             ],
             [
              0.8888888888888888,
              "#fdca26"
             ],
             [
              1,
              "#f0f921"
             ]
            ],
            "type": "heatmapgl"
           }
          ],
          "histogram": [
           {
            "marker": {
             "pattern": {
              "fillmode": "overlay",
              "size": 10,
              "solidity": 0.2
             }
            },
            "type": "histogram"
           }
          ],
          "histogram2d": [
           {
            "colorbar": {
             "outlinewidth": 0,
             "ticks": ""
            },
            "colorscale": [
             [
              0,
              "#0d0887"
             ],
             [
              0.1111111111111111,
              "#46039f"
             ],
             [
              0.2222222222222222,
              "#7201a8"
             ],
             [
              0.3333333333333333,
              "#9c179e"
             ],
             [
              0.4444444444444444,
              "#bd3786"
             ],
             [
              0.5555555555555556,
              "#d8576b"
             ],
             [
              0.6666666666666666,
              "#ed7953"
             ],
             [
              0.7777777777777778,
              "#fb9f3a"
             ],
             [
              0.8888888888888888,
              "#fdca26"
             ],
             [
              1,
              "#f0f921"
             ]
            ],
            "type": "histogram2d"
           }
          ],
          "histogram2dcontour": [
           {
            "colorbar": {
             "outlinewidth": 0,
             "ticks": ""
            },
            "colorscale": [
             [
              0,
              "#0d0887"
             ],
             [
              0.1111111111111111,
              "#46039f"
             ],
             [
              0.2222222222222222,
              "#7201a8"
             ],
             [
              0.3333333333333333,
              "#9c179e"
             ],
             [
              0.4444444444444444,
              "#bd3786"
             ],
             [
              0.5555555555555556,
              "#d8576b"
             ],
             [
              0.6666666666666666,
              "#ed7953"
             ],
             [
              0.7777777777777778,
              "#fb9f3a"
             ],
             [
              0.8888888888888888,
              "#fdca26"
             ],
             [
              1,
              "#f0f921"
             ]
            ],
            "type": "histogram2dcontour"
           }
          ],
          "mesh3d": [
           {
            "colorbar": {
             "outlinewidth": 0,
             "ticks": ""
            },
            "type": "mesh3d"
           }
          ],
          "parcoords": [
           {
            "line": {
             "colorbar": {
              "outlinewidth": 0,
              "ticks": ""
             }
            },
            "type": "parcoords"
           }
          ],
          "pie": [
           {
            "automargin": true,
            "type": "pie"
           }
          ],
          "scatter": [
           {
            "fillpattern": {
             "fillmode": "overlay",
             "size": 10,
             "solidity": 0.2
            },
            "type": "scatter"
           }
          ],
          "scatter3d": [
           {
            "line": {
             "colorbar": {
              "outlinewidth": 0,
              "ticks": ""
             }
            },
            "marker": {
             "colorbar": {
              "outlinewidth": 0,
              "ticks": ""
             }
            },
            "type": "scatter3d"
           }
          ],
          "scattercarpet": [
           {
            "marker": {
             "colorbar": {
              "outlinewidth": 0,
              "ticks": ""
             }
            },
            "type": "scattercarpet"
           }
          ],
          "scattergeo": [
           {
            "marker": {
             "colorbar": {
              "outlinewidth": 0,
              "ticks": ""
             }
            },
            "type": "scattergeo"
           }
          ],
          "scattergl": [
           {
            "marker": {
             "colorbar": {
              "outlinewidth": 0,
              "ticks": ""
             }
            },
            "type": "scattergl"
           }
          ],
          "scattermapbox": [
           {
            "marker": {
             "colorbar": {
              "outlinewidth": 0,
              "ticks": ""
             }
            },
            "type": "scattermapbox"
           }
          ],
          "scatterpolar": [
           {
            "marker": {
             "colorbar": {
              "outlinewidth": 0,
              "ticks": ""
             }
            },
            "type": "scatterpolar"
           }
          ],
          "scatterpolargl": [
           {
            "marker": {
             "colorbar": {
              "outlinewidth": 0,
              "ticks": ""
             }
            },
            "type": "scatterpolargl"
           }
          ],
          "scatterternary": [
           {
            "marker": {
             "colorbar": {
              "outlinewidth": 0,
              "ticks": ""
             }
            },
            "type": "scatterternary"
           }
          ],
          "surface": [
           {
            "colorbar": {
             "outlinewidth": 0,
             "ticks": ""
            },
            "colorscale": [
             [
              0,
              "#0d0887"
             ],
             [
              0.1111111111111111,
              "#46039f"
             ],
             [
              0.2222222222222222,
              "#7201a8"
             ],
             [
              0.3333333333333333,
              "#9c179e"
             ],
             [
              0.4444444444444444,
              "#bd3786"
             ],
             [
              0.5555555555555556,
              "#d8576b"
             ],
             [
              0.6666666666666666,
              "#ed7953"
             ],
             [
              0.7777777777777778,
              "#fb9f3a"
             ],
             [
              0.8888888888888888,
              "#fdca26"
             ],
             [
              1,
              "#f0f921"
             ]
            ],
            "type": "surface"
           }
          ],
          "table": [
           {
            "cells": {
             "fill": {
              "color": "#EBF0F8"
             },
             "line": {
              "color": "white"
             }
            },
            "header": {
             "fill": {
              "color": "#C8D4E3"
             },
             "line": {
              "color": "white"
             }
            },
            "type": "table"
           }
          ]
         },
         "layout": {
          "annotationdefaults": {
           "arrowcolor": "#2a3f5f",
           "arrowhead": 0,
           "arrowwidth": 1
          },
          "autotypenumbers": "strict",
          "coloraxis": {
           "colorbar": {
            "outlinewidth": 0,
            "ticks": ""
           }
          },
          "colorscale": {
           "diverging": [
            [
             0,
             "#8e0152"
            ],
            [
             0.1,
             "#c51b7d"
            ],
            [
             0.2,
             "#de77ae"
            ],
            [
             0.3,
             "#f1b6da"
            ],
            [
             0.4,
             "#fde0ef"
            ],
            [
             0.5,
             "#f7f7f7"
            ],
            [
             0.6,
             "#e6f5d0"
            ],
            [
             0.7,
             "#b8e186"
            ],
            [
             0.8,
             "#7fbc41"
            ],
            [
             0.9,
             "#4d9221"
            ],
            [
             1,
             "#276419"
            ]
           ],
           "sequential": [
            [
             0,
             "#0d0887"
            ],
            [
             0.1111111111111111,
             "#46039f"
            ],
            [
             0.2222222222222222,
             "#7201a8"
            ],
            [
             0.3333333333333333,
             "#9c179e"
            ],
            [
             0.4444444444444444,
             "#bd3786"
            ],
            [
             0.5555555555555556,
             "#d8576b"
            ],
            [
             0.6666666666666666,
             "#ed7953"
            ],
            [
             0.7777777777777778,
             "#fb9f3a"
            ],
            [
             0.8888888888888888,
             "#fdca26"
            ],
            [
             1,
             "#f0f921"
            ]
           ],
           "sequentialminus": [
            [
             0,
             "#0d0887"
            ],
            [
             0.1111111111111111,
             "#46039f"
            ],
            [
             0.2222222222222222,
             "#7201a8"
            ],
            [
             0.3333333333333333,
             "#9c179e"
            ],
            [
             0.4444444444444444,
             "#bd3786"
            ],
            [
             0.5555555555555556,
             "#d8576b"
            ],
            [
             0.6666666666666666,
             "#ed7953"
            ],
            [
             0.7777777777777778,
             "#fb9f3a"
            ],
            [
             0.8888888888888888,
             "#fdca26"
            ],
            [
             1,
             "#f0f921"
            ]
           ]
          },
          "colorway": [
           "#636efa",
           "#EF553B",
           "#00cc96",
           "#ab63fa",
           "#FFA15A",
           "#19d3f3",
           "#FF6692",
           "#B6E880",
           "#FF97FF",
           "#FECB52"
          ],
          "font": {
           "color": "#2a3f5f"
          },
          "geo": {
           "bgcolor": "white",
           "lakecolor": "white",
           "landcolor": "white",
           "showlakes": true,
           "showland": true,
           "subunitcolor": "#C8D4E3"
          },
          "hoverlabel": {
           "align": "left"
          },
          "hovermode": "closest",
          "mapbox": {
           "style": "light"
          },
          "paper_bgcolor": "white",
          "plot_bgcolor": "white",
          "polar": {
           "angularaxis": {
            "gridcolor": "#EBF0F8",
            "linecolor": "#EBF0F8",
            "ticks": ""
           },
           "bgcolor": "white",
           "radialaxis": {
            "gridcolor": "#EBF0F8",
            "linecolor": "#EBF0F8",
            "ticks": ""
           }
          },
          "scene": {
           "xaxis": {
            "backgroundcolor": "white",
            "gridcolor": "#DFE8F3",
            "gridwidth": 2,
            "linecolor": "#EBF0F8",
            "showbackground": true,
            "ticks": "",
            "zerolinecolor": "#EBF0F8"
           },
           "yaxis": {
            "backgroundcolor": "white",
            "gridcolor": "#DFE8F3",
            "gridwidth": 2,
            "linecolor": "#EBF0F8",
            "showbackground": true,
            "ticks": "",
            "zerolinecolor": "#EBF0F8"
           },
           "zaxis": {
            "backgroundcolor": "white",
            "gridcolor": "#DFE8F3",
            "gridwidth": 2,
            "linecolor": "#EBF0F8",
            "showbackground": true,
            "ticks": "",
            "zerolinecolor": "#EBF0F8"
           }
          },
          "shapedefaults": {
           "line": {
            "color": "#2a3f5f"
           }
          },
          "ternary": {
           "aaxis": {
            "gridcolor": "#DFE8F3",
            "linecolor": "#A2B1C6",
            "ticks": ""
           },
           "baxis": {
            "gridcolor": "#DFE8F3",
            "linecolor": "#A2B1C6",
            "ticks": ""
           },
           "bgcolor": "white",
           "caxis": {
            "gridcolor": "#DFE8F3",
            "linecolor": "#A2B1C6",
            "ticks": ""
           }
          },
          "title": {
           "x": 0.05
          },
          "xaxis": {
           "automargin": true,
           "gridcolor": "#EBF0F8",
           "linecolor": "#EBF0F8",
           "ticks": "",
           "title": {
            "standoff": 15
           },
           "zerolinecolor": "#EBF0F8",
           "zerolinewidth": 2
          },
          "yaxis": {
           "automargin": true,
           "gridcolor": "#EBF0F8",
           "linecolor": "#EBF0F8",
           "ticks": "",
           "title": {
            "standoff": 15
           },
           "zerolinecolor": "#EBF0F8",
           "zerolinewidth": 2
          }
         }
        },
        "title": {
         "font": {
          "family": "tahoma",
          "size": 28
         },
         "text": "<b>Average Salary For Each Deparment"
        },
        "xaxis": {
         "anchor": "y",
         "domain": [
          0,
          1
         ],
         "title": {
          "text": "Average Salary"
         }
        },
        "yaxis": {
         "anchor": "x",
         "categoryarray": [
          "Legal",
          "Technology",
          "Strategy",
          "Sales",
          "Development",
          "Finance / Accounting",
          "Marketing"
         ],
         "categoryorder": "array",
         "domain": [
          0,
          1
         ],
         "title": {
          "text": "Department"
         }
        }
       }
      }
     },
     "metadata": {},
     "output_type": "display_data"
    }
   ],
   "source": [
    "fig = px.bar(\n",
    "    data_frame = dep_salary,\n",
    "    orientation = 'h',\n",
    "    x = dep_salary,\n",
    "    y = dep_salary.index,\n",
    "    color=dep_salary.index,\n",
    "    template = 'plotly_white',\n",
    "    color_discrete_sequence= [used_color[3]],\n",
    "    text_auto = '0.4s',\n",
    "    labels= {'x':'<b>Average Salary'},\n",
    "    title= '<b>Average Salary For Each Deparment'\n",
    ")\n",
    "\n",
    "custom_layout()\n",
    "\n",
    "fig.update_traces(\n",
    "    textfont = {\n",
    "        'size':14,\n",
    "        'family':'poppins',\n",
    "        'color':'#000'\n",
    "    },\n",
    "    hovertemplate = 'Department: %{y}<br>Percentage: %{x:0.3s}',\n",
    "    marker = dict(line=dict(color='#222', width=2))\n",
    ")\n",
    "\n",
    "iplot(fig)"
   ]
  },
  {
   "cell_type": "markdown",
   "metadata": {},
   "source": [
    "##### __What is the average performance for each department?__"
   ]
  },
  {
   "cell_type": "code",
   "execution_count": 41,
   "id": "01HXBFMF4153TY8KCWX15ZAHQN",
   "metadata": {},
   "outputs": [
    {
     "data": {
      "text/plain": [
       "Department\n",
       "Legal                   10.0\n",
       "Finance / Accounting     7.9\n",
       "Technology               7.9\n",
       "Strategy                 7.8\n",
       "Marketing                7.8\n",
       "Development              7.6\n",
       "Sales                    7.1\n",
       "Name: Performance_Review, dtype: object"
      ]
     },
     "execution_count": 41,
     "metadata": {},
     "output_type": "execute_result"
    }
   ],
   "source": [
    "perf_dept = df.groupby(df['Department'])['Performance_Review'].mean().sort_values(ascending=False).apply(lambda x: f'{x:0.1f}')\n",
    "perf_dept"
   ]
  },
  {
   "cell_type": "code",
   "execution_count": 54,
   "id": "01HXBFMFA96ZA8QYEBT4FD68R5",
   "metadata": {},
   "outputs": [
    {
     "data": {
      "application/vnd.plotly.v1+json": {
       "config": {
        "linkText": "Export to plot.ly",
        "plotlyServerURL": "https://plot.ly",
        "showLink": false
       },
       "data": [
        {
         "alignmentgroup": "True",
         "hovertemplate": "Department: %{y}<br>Average Salary: %{x:0.3s}",
         "legendgroup": "Legal",
         "marker": {
          "color": "#FF9F9F",
          "line": {
           "color": "#222",
           "width": 2
          },
          "pattern": {
           "shape": ""
          }
         },
         "name": "Legal",
         "offsetgroup": "Legal",
         "orientation": "h",
         "showlegend": true,
         "textfont": {
          "color": "#000",
          "family": "poppins",
          "size": 14
         },
         "textposition": "auto",
         "texttemplate": "%{x:0.4s}",
         "type": "bar",
         "x": [
          "10.0"
         ],
         "xaxis": "x",
         "y": [
          "Legal"
         ],
         "yaxis": "y"
        },
        {
         "alignmentgroup": "True",
         "hovertemplate": "Department: %{y}<br>Average Salary: %{x:0.3s}",
         "legendgroup": "Finance / Accounting",
         "marker": {
          "color": "#FF9F9F",
          "line": {
           "color": "#222",
           "width": 2
          },
          "pattern": {
           "shape": ""
          }
         },
         "name": "Finance / Accounting",
         "offsetgroup": "Finance / Accounting",
         "orientation": "h",
         "showlegend": true,
         "textfont": {
          "color": "#000",
          "family": "poppins",
          "size": 14
         },
         "textposition": "auto",
         "texttemplate": "%{x:0.4s}",
         "type": "bar",
         "x": [
          "7.9"
         ],
         "xaxis": "x",
         "y": [
          "Finance / Accounting"
         ],
         "yaxis": "y"
        },
        {
         "alignmentgroup": "True",
         "hovertemplate": "Department: %{y}<br>Average Salary: %{x:0.3s}",
         "legendgroup": "Technology",
         "marker": {
          "color": "#FF9F9F",
          "line": {
           "color": "#222",
           "width": 2
          },
          "pattern": {
           "shape": ""
          }
         },
         "name": "Technology",
         "offsetgroup": "Technology",
         "orientation": "h",
         "showlegend": true,
         "textfont": {
          "color": "#000",
          "family": "poppins",
          "size": 14
         },
         "textposition": "auto",
         "texttemplate": "%{x:0.4s}",
         "type": "bar",
         "x": [
          "7.9"
         ],
         "xaxis": "x",
         "y": [
          "Technology"
         ],
         "yaxis": "y"
        },
        {
         "alignmentgroup": "True",
         "hovertemplate": "Department: %{y}<br>Average Salary: %{x:0.3s}",
         "legendgroup": "Strategy",
         "marker": {
          "color": "#FF9F9F",
          "line": {
           "color": "#222",
           "width": 2
          },
          "pattern": {
           "shape": ""
          }
         },
         "name": "Strategy",
         "offsetgroup": "Strategy",
         "orientation": "h",
         "showlegend": true,
         "textfont": {
          "color": "#000",
          "family": "poppins",
          "size": 14
         },
         "textposition": "auto",
         "texttemplate": "%{x:0.4s}",
         "type": "bar",
         "x": [
          "7.8"
         ],
         "xaxis": "x",
         "y": [
          "Strategy"
         ],
         "yaxis": "y"
        },
        {
         "alignmentgroup": "True",
         "hovertemplate": "Department: %{y}<br>Average Salary: %{x:0.3s}",
         "legendgroup": "Marketing",
         "marker": {
          "color": "#FF9F9F",
          "line": {
           "color": "#222",
           "width": 2
          },
          "pattern": {
           "shape": ""
          }
         },
         "name": "Marketing",
         "offsetgroup": "Marketing",
         "orientation": "h",
         "showlegend": true,
         "textfont": {
          "color": "#000",
          "family": "poppins",
          "size": 14
         },
         "textposition": "auto",
         "texttemplate": "%{x:0.4s}",
         "type": "bar",
         "x": [
          "7.8"
         ],
         "xaxis": "x",
         "y": [
          "Marketing"
         ],
         "yaxis": "y"
        },
        {
         "alignmentgroup": "True",
         "hovertemplate": "Department: %{y}<br>Average Salary: %{x:0.3s}",
         "legendgroup": "Development",
         "marker": {
          "color": "#FF9F9F",
          "line": {
           "color": "#222",
           "width": 2
          },
          "pattern": {
           "shape": ""
          }
         },
         "name": "Development",
         "offsetgroup": "Development",
         "orientation": "h",
         "showlegend": true,
         "textfont": {
          "color": "#000",
          "family": "poppins",
          "size": 14
         },
         "textposition": "auto",
         "texttemplate": "%{x:0.4s}",
         "type": "bar",
         "x": [
          "7.6"
         ],
         "xaxis": "x",
         "y": [
          "Development"
         ],
         "yaxis": "y"
        },
        {
         "alignmentgroup": "True",
         "hovertemplate": "Department: %{y}<br>Average Salary: %{x:0.3s}",
         "legendgroup": "Sales",
         "marker": {
          "color": "#FF9F9F",
          "line": {
           "color": "#222",
           "width": 2
          },
          "pattern": {
           "shape": ""
          }
         },
         "name": "Sales",
         "offsetgroup": "Sales",
         "orientation": "h",
         "showlegend": true,
         "textfont": {
          "color": "#000",
          "family": "poppins",
          "size": 14
         },
         "textposition": "auto",
         "texttemplate": "%{x:0.4s}",
         "type": "bar",
         "x": [
          "7.1"
         ],
         "xaxis": "x",
         "y": [
          "Sales"
         ],
         "yaxis": "y"
        }
       ],
       "layout": {
        "barmode": "relative",
        "hoverlabel": {
         "bgcolor": "#111",
         "font": {
          "family": "arial",
          "size": 16
         }
        },
        "legend": {
         "title": {
          "text": "Department"
         },
         "tracegroupgap": 0
        },
        "showlegend": false,
        "template": {
         "data": {
          "bar": [
           {
            "error_x": {
             "color": "#2a3f5f"
            },
            "error_y": {
             "color": "#2a3f5f"
            },
            "marker": {
             "line": {
              "color": "white",
              "width": 0.5
             },
             "pattern": {
              "fillmode": "overlay",
              "size": 10,
              "solidity": 0.2
             }
            },
            "type": "bar"
           }
          ],
          "barpolar": [
           {
            "marker": {
             "line": {
              "color": "white",
              "width": 0.5
             },
             "pattern": {
              "fillmode": "overlay",
              "size": 10,
              "solidity": 0.2
             }
            },
            "type": "barpolar"
           }
          ],
          "carpet": [
           {
            "aaxis": {
             "endlinecolor": "#2a3f5f",
             "gridcolor": "#C8D4E3",
             "linecolor": "#C8D4E3",
             "minorgridcolor": "#C8D4E3",
             "startlinecolor": "#2a3f5f"
            },
            "baxis": {
             "endlinecolor": "#2a3f5f",
             "gridcolor": "#C8D4E3",
             "linecolor": "#C8D4E3",
             "minorgridcolor": "#C8D4E3",
             "startlinecolor": "#2a3f5f"
            },
            "type": "carpet"
           }
          ],
          "choropleth": [
           {
            "colorbar": {
             "outlinewidth": 0,
             "ticks": ""
            },
            "type": "choropleth"
           }
          ],
          "contour": [
           {
            "colorbar": {
             "outlinewidth": 0,
             "ticks": ""
            },
            "colorscale": [
             [
              0,
              "#0d0887"
             ],
             [
              0.1111111111111111,
              "#46039f"
             ],
             [
              0.2222222222222222,
              "#7201a8"
             ],
             [
              0.3333333333333333,
              "#9c179e"
             ],
             [
              0.4444444444444444,
              "#bd3786"
             ],
             [
              0.5555555555555556,
              "#d8576b"
             ],
             [
              0.6666666666666666,
              "#ed7953"
             ],
             [
              0.7777777777777778,
              "#fb9f3a"
             ],
             [
              0.8888888888888888,
              "#fdca26"
             ],
             [
              1,
              "#f0f921"
             ]
            ],
            "type": "contour"
           }
          ],
          "contourcarpet": [
           {
            "colorbar": {
             "outlinewidth": 0,
             "ticks": ""
            },
            "type": "contourcarpet"
           }
          ],
          "heatmap": [
           {
            "colorbar": {
             "outlinewidth": 0,
             "ticks": ""
            },
            "colorscale": [
             [
              0,
              "#0d0887"
             ],
             [
              0.1111111111111111,
              "#46039f"
             ],
             [
              0.2222222222222222,
              "#7201a8"
             ],
             [
              0.3333333333333333,
              "#9c179e"
             ],
             [
              0.4444444444444444,
              "#bd3786"
             ],
             [
              0.5555555555555556,
              "#d8576b"
             ],
             [
              0.6666666666666666,
              "#ed7953"
             ],
             [
              0.7777777777777778,
              "#fb9f3a"
             ],
             [
              0.8888888888888888,
              "#fdca26"
             ],
             [
              1,
              "#f0f921"
             ]
            ],
            "type": "heatmap"
           }
          ],
          "heatmapgl": [
           {
            "colorbar": {
             "outlinewidth": 0,
             "ticks": ""
            },
            "colorscale": [
             [
              0,
              "#0d0887"
             ],
             [
              0.1111111111111111,
              "#46039f"
             ],
             [
              0.2222222222222222,
              "#7201a8"
             ],
             [
              0.3333333333333333,
              "#9c179e"
             ],
             [
              0.4444444444444444,
              "#bd3786"
             ],
             [
              0.5555555555555556,
              "#d8576b"
             ],
             [
              0.6666666666666666,
              "#ed7953"
             ],
             [
              0.7777777777777778,
              "#fb9f3a"
             ],
             [
              0.8888888888888888,
              "#fdca26"
             ],
             [
              1,
              "#f0f921"
             ]
            ],
            "type": "heatmapgl"
           }
          ],
          "histogram": [
           {
            "marker": {
             "pattern": {
              "fillmode": "overlay",
              "size": 10,
              "solidity": 0.2
             }
            },
            "type": "histogram"
           }
          ],
          "histogram2d": [
           {
            "colorbar": {
             "outlinewidth": 0,
             "ticks": ""
            },
            "colorscale": [
             [
              0,
              "#0d0887"
             ],
             [
              0.1111111111111111,
              "#46039f"
             ],
             [
              0.2222222222222222,
              "#7201a8"
             ],
             [
              0.3333333333333333,
              "#9c179e"
             ],
             [
              0.4444444444444444,
              "#bd3786"
             ],
             [
              0.5555555555555556,
              "#d8576b"
             ],
             [
              0.6666666666666666,
              "#ed7953"
             ],
             [
              0.7777777777777778,
              "#fb9f3a"
             ],
             [
              0.8888888888888888,
              "#fdca26"
             ],
             [
              1,
              "#f0f921"
             ]
            ],
            "type": "histogram2d"
           }
          ],
          "histogram2dcontour": [
           {
            "colorbar": {
             "outlinewidth": 0,
             "ticks": ""
            },
            "colorscale": [
             [
              0,
              "#0d0887"
             ],
             [
              0.1111111111111111,
              "#46039f"
             ],
             [
              0.2222222222222222,
              "#7201a8"
             ],
             [
              0.3333333333333333,
              "#9c179e"
             ],
             [
              0.4444444444444444,
              "#bd3786"
             ],
             [
              0.5555555555555556,
              "#d8576b"
             ],
             [
              0.6666666666666666,
              "#ed7953"
             ],
             [
              0.7777777777777778,
              "#fb9f3a"
             ],
             [
              0.8888888888888888,
              "#fdca26"
             ],
             [
              1,
              "#f0f921"
             ]
            ],
            "type": "histogram2dcontour"
           }
          ],
          "mesh3d": [
           {
            "colorbar": {
             "outlinewidth": 0,
             "ticks": ""
            },
            "type": "mesh3d"
           }
          ],
          "parcoords": [
           {
            "line": {
             "colorbar": {
              "outlinewidth": 0,
              "ticks": ""
             }
            },
            "type": "parcoords"
           }
          ],
          "pie": [
           {
            "automargin": true,
            "type": "pie"
           }
          ],
          "scatter": [
           {
            "fillpattern": {
             "fillmode": "overlay",
             "size": 10,
             "solidity": 0.2
            },
            "type": "scatter"
           }
          ],
          "scatter3d": [
           {
            "line": {
             "colorbar": {
              "outlinewidth": 0,
              "ticks": ""
             }
            },
            "marker": {
             "colorbar": {
              "outlinewidth": 0,
              "ticks": ""
             }
            },
            "type": "scatter3d"
           }
          ],
          "scattercarpet": [
           {
            "marker": {
             "colorbar": {
              "outlinewidth": 0,
              "ticks": ""
             }
            },
            "type": "scattercarpet"
           }
          ],
          "scattergeo": [
           {
            "marker": {
             "colorbar": {
              "outlinewidth": 0,
              "ticks": ""
             }
            },
            "type": "scattergeo"
           }
          ],
          "scattergl": [
           {
            "marker": {
             "colorbar": {
              "outlinewidth": 0,
              "ticks": ""
             }
            },
            "type": "scattergl"
           }
          ],
          "scattermapbox": [
           {
            "marker": {
             "colorbar": {
              "outlinewidth": 0,
              "ticks": ""
             }
            },
            "type": "scattermapbox"
           }
          ],
          "scatterpolar": [
           {
            "marker": {
             "colorbar": {
              "outlinewidth": 0,
              "ticks": ""
             }
            },
            "type": "scatterpolar"
           }
          ],
          "scatterpolargl": [
           {
            "marker": {
             "colorbar": {
              "outlinewidth": 0,
              "ticks": ""
             }
            },
            "type": "scatterpolargl"
           }
          ],
          "scatterternary": [
           {
            "marker": {
             "colorbar": {
              "outlinewidth": 0,
              "ticks": ""
             }
            },
            "type": "scatterternary"
           }
          ],
          "surface": [
           {
            "colorbar": {
             "outlinewidth": 0,
             "ticks": ""
            },
            "colorscale": [
             [
              0,
              "#0d0887"
             ],
             [
              0.1111111111111111,
              "#46039f"
             ],
             [
              0.2222222222222222,
              "#7201a8"
             ],
             [
              0.3333333333333333,
              "#9c179e"
             ],
             [
              0.4444444444444444,
              "#bd3786"
             ],
             [
              0.5555555555555556,
              "#d8576b"
             ],
             [
              0.6666666666666666,
              "#ed7953"
             ],
             [
              0.7777777777777778,
              "#fb9f3a"
             ],
             [
              0.8888888888888888,
              "#fdca26"
             ],
             [
              1,
              "#f0f921"
             ]
            ],
            "type": "surface"
           }
          ],
          "table": [
           {
            "cells": {
             "fill": {
              "color": "#EBF0F8"
             },
             "line": {
              "color": "white"
             }
            },
            "header": {
             "fill": {
              "color": "#C8D4E3"
             },
             "line": {
              "color": "white"
             }
            },
            "type": "table"
           }
          ]
         },
         "layout": {
          "annotationdefaults": {
           "arrowcolor": "#2a3f5f",
           "arrowhead": 0,
           "arrowwidth": 1
          },
          "autotypenumbers": "strict",
          "coloraxis": {
           "colorbar": {
            "outlinewidth": 0,
            "ticks": ""
           }
          },
          "colorscale": {
           "diverging": [
            [
             0,
             "#8e0152"
            ],
            [
             0.1,
             "#c51b7d"
            ],
            [
             0.2,
             "#de77ae"
            ],
            [
             0.3,
             "#f1b6da"
            ],
            [
             0.4,
             "#fde0ef"
            ],
            [
             0.5,
             "#f7f7f7"
            ],
            [
             0.6,
             "#e6f5d0"
            ],
            [
             0.7,
             "#b8e186"
            ],
            [
             0.8,
             "#7fbc41"
            ],
            [
             0.9,
             "#4d9221"
            ],
            [
             1,
             "#276419"
            ]
           ],
           "sequential": [
            [
             0,
             "#0d0887"
            ],
            [
             0.1111111111111111,
             "#46039f"
            ],
            [
             0.2222222222222222,
             "#7201a8"
            ],
            [
             0.3333333333333333,
             "#9c179e"
            ],
            [
             0.4444444444444444,
             "#bd3786"
            ],
            [
             0.5555555555555556,
             "#d8576b"
            ],
            [
             0.6666666666666666,
             "#ed7953"
            ],
            [
             0.7777777777777778,
             "#fb9f3a"
            ],
            [
             0.8888888888888888,
             "#fdca26"
            ],
            [
             1,
             "#f0f921"
            ]
           ],
           "sequentialminus": [
            [
             0,
             "#0d0887"
            ],
            [
             0.1111111111111111,
             "#46039f"
            ],
            [
             0.2222222222222222,
             "#7201a8"
            ],
            [
             0.3333333333333333,
             "#9c179e"
            ],
            [
             0.4444444444444444,
             "#bd3786"
            ],
            [
             0.5555555555555556,
             "#d8576b"
            ],
            [
             0.6666666666666666,
             "#ed7953"
            ],
            [
             0.7777777777777778,
             "#fb9f3a"
            ],
            [
             0.8888888888888888,
             "#fdca26"
            ],
            [
             1,
             "#f0f921"
            ]
           ]
          },
          "colorway": [
           "#636efa",
           "#EF553B",
           "#00cc96",
           "#ab63fa",
           "#FFA15A",
           "#19d3f3",
           "#FF6692",
           "#B6E880",
           "#FF97FF",
           "#FECB52"
          ],
          "font": {
           "color": "#2a3f5f"
          },
          "geo": {
           "bgcolor": "white",
           "lakecolor": "white",
           "landcolor": "white",
           "showlakes": true,
           "showland": true,
           "subunitcolor": "#C8D4E3"
          },
          "hoverlabel": {
           "align": "left"
          },
          "hovermode": "closest",
          "mapbox": {
           "style": "light"
          },
          "paper_bgcolor": "white",
          "plot_bgcolor": "white",
          "polar": {
           "angularaxis": {
            "gridcolor": "#EBF0F8",
            "linecolor": "#EBF0F8",
            "ticks": ""
           },
           "bgcolor": "white",
           "radialaxis": {
            "gridcolor": "#EBF0F8",
            "linecolor": "#EBF0F8",
            "ticks": ""
           }
          },
          "scene": {
           "xaxis": {
            "backgroundcolor": "white",
            "gridcolor": "#DFE8F3",
            "gridwidth": 2,
            "linecolor": "#EBF0F8",
            "showbackground": true,
            "ticks": "",
            "zerolinecolor": "#EBF0F8"
           },
           "yaxis": {
            "backgroundcolor": "white",
            "gridcolor": "#DFE8F3",
            "gridwidth": 2,
            "linecolor": "#EBF0F8",
            "showbackground": true,
            "ticks": "",
            "zerolinecolor": "#EBF0F8"
           },
           "zaxis": {
            "backgroundcolor": "white",
            "gridcolor": "#DFE8F3",
            "gridwidth": 2,
            "linecolor": "#EBF0F8",
            "showbackground": true,
            "ticks": "",
            "zerolinecolor": "#EBF0F8"
           }
          },
          "shapedefaults": {
           "line": {
            "color": "#2a3f5f"
           }
          },
          "ternary": {
           "aaxis": {
            "gridcolor": "#DFE8F3",
            "linecolor": "#A2B1C6",
            "ticks": ""
           },
           "baxis": {
            "gridcolor": "#DFE8F3",
            "linecolor": "#A2B1C6",
            "ticks": ""
           },
           "bgcolor": "white",
           "caxis": {
            "gridcolor": "#DFE8F3",
            "linecolor": "#A2B1C6",
            "ticks": ""
           }
          },
          "title": {
           "x": 0.05
          },
          "xaxis": {
           "automargin": true,
           "gridcolor": "#EBF0F8",
           "linecolor": "#EBF0F8",
           "ticks": "",
           "title": {
            "standoff": 15
           },
           "zerolinecolor": "#EBF0F8",
           "zerolinewidth": 2
          },
          "yaxis": {
           "automargin": true,
           "gridcolor": "#EBF0F8",
           "linecolor": "#EBF0F8",
           "ticks": "",
           "title": {
            "standoff": 15
           },
           "zerolinecolor": "#EBF0F8",
           "zerolinewidth": 2
          }
         }
        },
        "title": {
         "font": {
          "family": "tahoma",
          "size": 28
         },
         "text": "<b>Average Performance For Each Department"
        },
        "xaxis": {
         "anchor": "y",
         "domain": [
          0,
          1
         ],
         "title": {
          "text": "Average Performance"
         }
        },
        "yaxis": {
         "anchor": "x",
         "categoryarray": [
          "Sales",
          "Development",
          "Marketing",
          "Strategy",
          "Technology",
          "Finance / Accounting",
          "Legal"
         ],
         "categoryorder": "array",
         "domain": [
          0,
          1
         ],
         "title": {
          "text": "Department"
         }
        }
       }
      }
     },
     "metadata": {},
     "output_type": "display_data"
    }
   ],
   "source": [
    "fig = px.bar(\n",
    "    data_frame=perf_dept,\n",
    "    orientation='h',\n",
    "    x= perf_dept,\n",
    "    y= perf_dept.index,\n",
    "    color=perf_dept.index,\n",
    "    template='plotly_white',\n",
    "    color_discrete_sequence=[used_color[3]],\n",
    "    text_auto='0.4s',\n",
    "    labels= {'x':'Average Performance'},\n",
    "    title='<b>Average Performance For Each Department'\n",
    ")\n",
    "\n",
    "custom_layout()\n",
    "\n",
    "fig.update_traces(\n",
    "    textfont = {\n",
    "        'size':14,\n",
    "        'family':'poppins',\n",
    "        'color':'#000'\n",
    "    },\n",
    "    hovertemplate = 'Department: %{y}<br>Average Salary: %{x:0.3s}',\n",
    "    marker = dict(line=dict(color='#222', width=2))\n",
    ")\n",
    "\n",
    "iplot(fig)"
   ]
  },
  {
   "cell_type": "markdown",
   "metadata": {},
   "source": [
    "##### __What is the average salary for each jon position?__"
   ]
  },
  {
   "cell_type": "code",
   "execution_count": 43,
   "id": "01HXBJRQZRA4AKRZTXRDS2PT7E",
   "metadata": {},
   "outputs": [
    {
     "data": {
      "text/html": [
       "<div>\n",
       "<style scoped>\n",
       "    .dataframe tbody tr th:only-of-type {\n",
       "        vertical-align: middle;\n",
       "    }\n",
       "\n",
       "    .dataframe tbody tr th {\n",
       "        vertical-align: top;\n",
       "    }\n",
       "\n",
       "    .dataframe thead th {\n",
       "        text-align: right;\n",
       "    }\n",
       "</style>\n",
       "<table border=\"1\" class=\"dataframe\">\n",
       "  <thead>\n",
       "    <tr style=\"text-align: right;\">\n",
       "      <th></th>\n",
       "      <th>Salary</th>\n",
       "    </tr>\n",
       "    <tr>\n",
       "      <th>Position</th>\n",
       "      <th></th>\n",
       "    </tr>\n",
       "  </thead>\n",
       "  <tbody>\n",
       "    <tr>\n",
       "      <th>Administrator</th>\n",
       "      <td>4,539.0</td>\n",
       "    </tr>\n",
       "    <tr>\n",
       "      <th>Commercial Assistant</th>\n",
       "      <td>4,361.7</td>\n",
       "    </tr>\n",
       "    <tr>\n",
       "      <th>Communication Analyst</th>\n",
       "      <td>4,333.5</td>\n",
       "    </tr>\n",
       "    <tr>\n",
       "      <th>Administrative Analyst</th>\n",
       "      <td>4,325.0</td>\n",
       "    </tr>\n",
       "    <tr>\n",
       "      <th>Financial Analyst</th>\n",
       "      <td>4,304.0</td>\n",
       "    </tr>\n",
       "    <tr>\n",
       "      <th>Marketing Analyst</th>\n",
       "      <td>4,294.0</td>\n",
       "    </tr>\n",
       "    <tr>\n",
       "      <th>Administrative Assistant</th>\n",
       "      <td>4,234.0</td>\n",
       "    </tr>\n",
       "    <tr>\n",
       "      <th>Developer</th>\n",
       "      <td>4,200.1</td>\n",
       "    </tr>\n",
       "    <tr>\n",
       "      <th>Accounting Analyst</th>\n",
       "      <td>4,183.0</td>\n",
       "    </tr>\n",
       "    <tr>\n",
       "      <th>Business Intelligence Analyst</th>\n",
       "      <td>4,140.6</td>\n",
       "    </tr>\n",
       "  </tbody>\n",
       "</table>\n",
       "</div>"
      ],
      "text/plain": [
       "                               Salary\n",
       "Position                             \n",
       "Administrator                 4,539.0\n",
       "Commercial Assistant          4,361.7\n",
       "Communication Analyst         4,333.5\n",
       "Administrative Analyst        4,325.0\n",
       "Financial Analyst             4,304.0\n",
       "Marketing Analyst             4,294.0\n",
       "Administrative Assistant      4,234.0\n",
       "Developer                     4,200.1\n",
       "Accounting Analyst            4,183.0\n",
       "Business Intelligence Analyst 4,140.6"
      ]
     },
     "execution_count": 43,
     "metadata": {},
     "output_type": "execute_result"
    }
   ],
   "source": [
    "position_salary = df.groupby(df['Position'])['Salary'].mean().sort_values(ascending=False)\n",
    "top_10_position = position_salary.nlargest(10)\n",
    "pd.DataFrame(top_10_position)"
   ]
  },
  {
   "cell_type": "markdown",
   "metadata": {},
   "source": [
    "##### __For each department, what is the popularity of each gender?__"
   ]
  },
  {
   "cell_type": "code",
   "execution_count": 44,
   "id": "01HXBM1Z9VZ4N3DPC8417CZJYW",
   "metadata": {},
   "outputs": [
    {
     "data": {
      "text/html": [
       "<div>\n",
       "<style scoped>\n",
       "    .dataframe tbody tr th:only-of-type {\n",
       "        vertical-align: middle;\n",
       "    }\n",
       "\n",
       "    .dataframe tbody tr th {\n",
       "        vertical-align: top;\n",
       "    }\n",
       "\n",
       "    .dataframe thead th {\n",
       "        text-align: right;\n",
       "    }\n",
       "</style>\n",
       "<table border=\"1\" class=\"dataframe\">\n",
       "  <thead>\n",
       "    <tr style=\"text-align: right;\">\n",
       "      <th>Gender</th>\n",
       "      <th>Male</th>\n",
       "      <th>Female</th>\n",
       "    </tr>\n",
       "    <tr>\n",
       "      <th>Department</th>\n",
       "      <th></th>\n",
       "      <th></th>\n",
       "    </tr>\n",
       "  </thead>\n",
       "  <tbody>\n",
       "    <tr>\n",
       "      <th>Development</th>\n",
       "      <td>32.0</td>\n",
       "      <td>15.0</td>\n",
       "    </tr>\n",
       "    <tr>\n",
       "      <th>Finance / Accounting</th>\n",
       "      <td>7.0</td>\n",
       "      <td>6.0</td>\n",
       "    </tr>\n",
       "    <tr>\n",
       "      <th>Sales</th>\n",
       "      <td>5.0</td>\n",
       "      <td>3.0</td>\n",
       "    </tr>\n",
       "    <tr>\n",
       "      <th>Strategy</th>\n",
       "      <td>5.0</td>\n",
       "      <td>4.0</td>\n",
       "    </tr>\n",
       "    <tr>\n",
       "      <th>Technology</th>\n",
       "      <td>5.0</td>\n",
       "      <td>3.0</td>\n",
       "    </tr>\n",
       "    <tr>\n",
       "      <th>Marketing</th>\n",
       "      <td>2.0</td>\n",
       "      <td>2.0</td>\n",
       "    </tr>\n",
       "    <tr>\n",
       "      <th>Legal</th>\n",
       "      <td>0.0</td>\n",
       "      <td>1.0</td>\n",
       "    </tr>\n",
       "  </tbody>\n",
       "</table>\n",
       "</div>"
      ],
      "text/plain": [
       "Gender                Male  Female\n",
       "Department                        \n",
       "Development           32.0    15.0\n",
       "Finance / Accounting   7.0     6.0\n",
       "Sales                  5.0     3.0\n",
       "Strategy               5.0     4.0\n",
       "Technology             5.0     3.0\n",
       "Marketing              2.0     2.0\n",
       "Legal                  0.0     1.0"
      ]
     },
     "execution_count": 44,
     "metadata": {},
     "output_type": "execute_result"
    }
   ],
   "source": [
    "gender_dept = df.pivot_table(\n",
    "    index='Department',\n",
    "    columns='Gender',\n",
    "    values='Employee',\n",
    "    aggfunc='count'\n",
    ").fillna(0)\n",
    "\n",
    "gender_dept = gender_dept.sort_values('Male', ascending=False)\n",
    "gender_dept = gender_dept.iloc[:, [1, 0]]\n",
    "gender_dept"
   ]
  },
  {
   "cell_type": "code",
   "execution_count": 45,
   "id": "01HXBM8JG6PAW0SEY0GGGDZBDT",
   "metadata": {},
   "outputs": [
    {
     "data": {
      "application/vnd.plotly.v1+json": {
       "config": {
        "linkText": "Export to plot.ly",
        "plotlyServerURL": "https://plot.ly",
        "showLink": false
       },
       "data": [
        {
         "alignmentgroup": "True",
         "hovertemplate": "Department: %{x}<br>Gender Frequency: %{y}",
         "legendgroup": "Male",
         "marker": {
          "color": "#ADA2FF",
          "line": {
           "color": "#222",
           "width": 2
          },
          "pattern": {
           "shape": ""
          }
         },
         "name": "Male",
         "offsetgroup": "Male",
         "orientation": "v",
         "showlegend": true,
         "textfont": {
          "color": "#000",
          "family": "poppins",
          "size": 14
         },
         "textposition": "outside",
         "texttemplate": "%{y}",
         "type": "bar",
         "x": [
          "Development",
          "Finance / Accounting",
          "Sales",
          "Strategy",
          "Technology",
          "Marketing",
          "Legal"
         ],
         "xaxis": "x",
         "y": [
          32,
          7,
          5,
          5,
          5,
          2,
          0
         ],
         "yaxis": "y"
        },
        {
         "alignmentgroup": "True",
         "hovertemplate": "Department: %{x}<br>Gender Frequency: %{y}",
         "legendgroup": "Female",
         "marker": {
          "color": "#C0DEFF",
          "line": {
           "color": "#222",
           "width": 2
          },
          "pattern": {
           "shape": ""
          }
         },
         "name": "Female",
         "offsetgroup": "Female",
         "orientation": "v",
         "showlegend": true,
         "textfont": {
          "color": "#000",
          "family": "poppins",
          "size": 14
         },
         "textposition": "outside",
         "texttemplate": "%{y}",
         "type": "bar",
         "x": [
          "Development",
          "Finance / Accounting",
          "Sales",
          "Strategy",
          "Technology",
          "Marketing",
          "Legal"
         ],
         "xaxis": "x",
         "y": [
          15,
          6,
          3,
          4,
          3,
          2,
          1
         ],
         "yaxis": "y"
        }
       ],
       "layout": {
        "barmode": "group",
        "hoverlabel": {
         "bgcolor": "#111",
         "font": {
          "family": "arial",
          "size": 16
         }
        },
        "legend": {
         "title": {
          "text": "Gender"
         },
         "tracegroupgap": 0
        },
        "showlegend": true,
        "template": {
         "data": {
          "bar": [
           {
            "error_x": {
             "color": "#2a3f5f"
            },
            "error_y": {
             "color": "#2a3f5f"
            },
            "marker": {
             "line": {
              "color": "white",
              "width": 0.5
             },
             "pattern": {
              "fillmode": "overlay",
              "size": 10,
              "solidity": 0.2
             }
            },
            "type": "bar"
           }
          ],
          "barpolar": [
           {
            "marker": {
             "line": {
              "color": "white",
              "width": 0.5
             },
             "pattern": {
              "fillmode": "overlay",
              "size": 10,
              "solidity": 0.2
             }
            },
            "type": "barpolar"
           }
          ],
          "carpet": [
           {
            "aaxis": {
             "endlinecolor": "#2a3f5f",
             "gridcolor": "#C8D4E3",
             "linecolor": "#C8D4E3",
             "minorgridcolor": "#C8D4E3",
             "startlinecolor": "#2a3f5f"
            },
            "baxis": {
             "endlinecolor": "#2a3f5f",
             "gridcolor": "#C8D4E3",
             "linecolor": "#C8D4E3",
             "minorgridcolor": "#C8D4E3",
             "startlinecolor": "#2a3f5f"
            },
            "type": "carpet"
           }
          ],
          "choropleth": [
           {
            "colorbar": {
             "outlinewidth": 0,
             "ticks": ""
            },
            "type": "choropleth"
           }
          ],
          "contour": [
           {
            "colorbar": {
             "outlinewidth": 0,
             "ticks": ""
            },
            "colorscale": [
             [
              0,
              "#0d0887"
             ],
             [
              0.1111111111111111,
              "#46039f"
             ],
             [
              0.2222222222222222,
              "#7201a8"
             ],
             [
              0.3333333333333333,
              "#9c179e"
             ],
             [
              0.4444444444444444,
              "#bd3786"
             ],
             [
              0.5555555555555556,
              "#d8576b"
             ],
             [
              0.6666666666666666,
              "#ed7953"
             ],
             [
              0.7777777777777778,
              "#fb9f3a"
             ],
             [
              0.8888888888888888,
              "#fdca26"
             ],
             [
              1,
              "#f0f921"
             ]
            ],
            "type": "contour"
           }
          ],
          "contourcarpet": [
           {
            "colorbar": {
             "outlinewidth": 0,
             "ticks": ""
            },
            "type": "contourcarpet"
           }
          ],
          "heatmap": [
           {
            "colorbar": {
             "outlinewidth": 0,
             "ticks": ""
            },
            "colorscale": [
             [
              0,
              "#0d0887"
             ],
             [
              0.1111111111111111,
              "#46039f"
             ],
             [
              0.2222222222222222,
              "#7201a8"
             ],
             [
              0.3333333333333333,
              "#9c179e"
             ],
             [
              0.4444444444444444,
              "#bd3786"
             ],
             [
              0.5555555555555556,
              "#d8576b"
             ],
             [
              0.6666666666666666,
              "#ed7953"
             ],
             [
              0.7777777777777778,
              "#fb9f3a"
             ],
             [
              0.8888888888888888,
              "#fdca26"
             ],
             [
              1,
              "#f0f921"
             ]
            ],
            "type": "heatmap"
           }
          ],
          "heatmapgl": [
           {
            "colorbar": {
             "outlinewidth": 0,
             "ticks": ""
            },
            "colorscale": [
             [
              0,
              "#0d0887"
             ],
             [
              0.1111111111111111,
              "#46039f"
             ],
             [
              0.2222222222222222,
              "#7201a8"
             ],
             [
              0.3333333333333333,
              "#9c179e"
             ],
             [
              0.4444444444444444,
              "#bd3786"
             ],
             [
              0.5555555555555556,
              "#d8576b"
             ],
             [
              0.6666666666666666,
              "#ed7953"
             ],
             [
              0.7777777777777778,
              "#fb9f3a"
             ],
             [
              0.8888888888888888,
              "#fdca26"
             ],
             [
              1,
              "#f0f921"
             ]
            ],
            "type": "heatmapgl"
           }
          ],
          "histogram": [
           {
            "marker": {
             "pattern": {
              "fillmode": "overlay",
              "size": 10,
              "solidity": 0.2
             }
            },
            "type": "histogram"
           }
          ],
          "histogram2d": [
           {
            "colorbar": {
             "outlinewidth": 0,
             "ticks": ""
            },
            "colorscale": [
             [
              0,
              "#0d0887"
             ],
             [
              0.1111111111111111,
              "#46039f"
             ],
             [
              0.2222222222222222,
              "#7201a8"
             ],
             [
              0.3333333333333333,
              "#9c179e"
             ],
             [
              0.4444444444444444,
              "#bd3786"
             ],
             [
              0.5555555555555556,
              "#d8576b"
             ],
             [
              0.6666666666666666,
              "#ed7953"
             ],
             [
              0.7777777777777778,
              "#fb9f3a"
             ],
             [
              0.8888888888888888,
              "#fdca26"
             ],
             [
              1,
              "#f0f921"
             ]
            ],
            "type": "histogram2d"
           }
          ],
          "histogram2dcontour": [
           {
            "colorbar": {
             "outlinewidth": 0,
             "ticks": ""
            },
            "colorscale": [
             [
              0,
              "#0d0887"
             ],
             [
              0.1111111111111111,
              "#46039f"
             ],
             [
              0.2222222222222222,
              "#7201a8"
             ],
             [
              0.3333333333333333,
              "#9c179e"
             ],
             [
              0.4444444444444444,
              "#bd3786"
             ],
             [
              0.5555555555555556,
              "#d8576b"
             ],
             [
              0.6666666666666666,
              "#ed7953"
             ],
             [
              0.7777777777777778,
              "#fb9f3a"
             ],
             [
              0.8888888888888888,
              "#fdca26"
             ],
             [
              1,
              "#f0f921"
             ]
            ],
            "type": "histogram2dcontour"
           }
          ],
          "mesh3d": [
           {
            "colorbar": {
             "outlinewidth": 0,
             "ticks": ""
            },
            "type": "mesh3d"
           }
          ],
          "parcoords": [
           {
            "line": {
             "colorbar": {
              "outlinewidth": 0,
              "ticks": ""
             }
            },
            "type": "parcoords"
           }
          ],
          "pie": [
           {
            "automargin": true,
            "type": "pie"
           }
          ],
          "scatter": [
           {
            "fillpattern": {
             "fillmode": "overlay",
             "size": 10,
             "solidity": 0.2
            },
            "type": "scatter"
           }
          ],
          "scatter3d": [
           {
            "line": {
             "colorbar": {
              "outlinewidth": 0,
              "ticks": ""
             }
            },
            "marker": {
             "colorbar": {
              "outlinewidth": 0,
              "ticks": ""
             }
            },
            "type": "scatter3d"
           }
          ],
          "scattercarpet": [
           {
            "marker": {
             "colorbar": {
              "outlinewidth": 0,
              "ticks": ""
             }
            },
            "type": "scattercarpet"
           }
          ],
          "scattergeo": [
           {
            "marker": {
             "colorbar": {
              "outlinewidth": 0,
              "ticks": ""
             }
            },
            "type": "scattergeo"
           }
          ],
          "scattergl": [
           {
            "marker": {
             "colorbar": {
              "outlinewidth": 0,
              "ticks": ""
             }
            },
            "type": "scattergl"
           }
          ],
          "scattermapbox": [
           {
            "marker": {
             "colorbar": {
              "outlinewidth": 0,
              "ticks": ""
             }
            },
            "type": "scattermapbox"
           }
          ],
          "scatterpolar": [
           {
            "marker": {
             "colorbar": {
              "outlinewidth": 0,
              "ticks": ""
             }
            },
            "type": "scatterpolar"
           }
          ],
          "scatterpolargl": [
           {
            "marker": {
             "colorbar": {
              "outlinewidth": 0,
              "ticks": ""
             }
            },
            "type": "scatterpolargl"
           }
          ],
          "scatterternary": [
           {
            "marker": {
             "colorbar": {
              "outlinewidth": 0,
              "ticks": ""
             }
            },
            "type": "scatterternary"
           }
          ],
          "surface": [
           {
            "colorbar": {
             "outlinewidth": 0,
             "ticks": ""
            },
            "colorscale": [
             [
              0,
              "#0d0887"
             ],
             [
              0.1111111111111111,
              "#46039f"
             ],
             [
              0.2222222222222222,
              "#7201a8"
             ],
             [
              0.3333333333333333,
              "#9c179e"
             ],
             [
              0.4444444444444444,
              "#bd3786"
             ],
             [
              0.5555555555555556,
              "#d8576b"
             ],
             [
              0.6666666666666666,
              "#ed7953"
             ],
             [
              0.7777777777777778,
              "#fb9f3a"
             ],
             [
              0.8888888888888888,
              "#fdca26"
             ],
             [
              1,
              "#f0f921"
             ]
            ],
            "type": "surface"
           }
          ],
          "table": [
           {
            "cells": {
             "fill": {
              "color": "#EBF0F8"
             },
             "line": {
              "color": "white"
             }
            },
            "header": {
             "fill": {
              "color": "#C8D4E3"
             },
             "line": {
              "color": "white"
             }
            },
            "type": "table"
           }
          ]
         },
         "layout": {
          "annotationdefaults": {
           "arrowcolor": "#2a3f5f",
           "arrowhead": 0,
           "arrowwidth": 1
          },
          "autotypenumbers": "strict",
          "coloraxis": {
           "colorbar": {
            "outlinewidth": 0,
            "ticks": ""
           }
          },
          "colorscale": {
           "diverging": [
            [
             0,
             "#8e0152"
            ],
            [
             0.1,
             "#c51b7d"
            ],
            [
             0.2,
             "#de77ae"
            ],
            [
             0.3,
             "#f1b6da"
            ],
            [
             0.4,
             "#fde0ef"
            ],
            [
             0.5,
             "#f7f7f7"
            ],
            [
             0.6,
             "#e6f5d0"
            ],
            [
             0.7,
             "#b8e186"
            ],
            [
             0.8,
             "#7fbc41"
            ],
            [
             0.9,
             "#4d9221"
            ],
            [
             1,
             "#276419"
            ]
           ],
           "sequential": [
            [
             0,
             "#0d0887"
            ],
            [
             0.1111111111111111,
             "#46039f"
            ],
            [
             0.2222222222222222,
             "#7201a8"
            ],
            [
             0.3333333333333333,
             "#9c179e"
            ],
            [
             0.4444444444444444,
             "#bd3786"
            ],
            [
             0.5555555555555556,
             "#d8576b"
            ],
            [
             0.6666666666666666,
             "#ed7953"
            ],
            [
             0.7777777777777778,
             "#fb9f3a"
            ],
            [
             0.8888888888888888,
             "#fdca26"
            ],
            [
             1,
             "#f0f921"
            ]
           ],
           "sequentialminus": [
            [
             0,
             "#0d0887"
            ],
            [
             0.1111111111111111,
             "#46039f"
            ],
            [
             0.2222222222222222,
             "#7201a8"
            ],
            [
             0.3333333333333333,
             "#9c179e"
            ],
            [
             0.4444444444444444,
             "#bd3786"
            ],
            [
             0.5555555555555556,
             "#d8576b"
            ],
            [
             0.6666666666666666,
             "#ed7953"
            ],
            [
             0.7777777777777778,
             "#fb9f3a"
            ],
            [
             0.8888888888888888,
             "#fdca26"
            ],
            [
             1,
             "#f0f921"
            ]
           ]
          },
          "colorway": [
           "#636efa",
           "#EF553B",
           "#00cc96",
           "#ab63fa",
           "#FFA15A",
           "#19d3f3",
           "#FF6692",
           "#B6E880",
           "#FF97FF",
           "#FECB52"
          ],
          "font": {
           "color": "#2a3f5f"
          },
          "geo": {
           "bgcolor": "white",
           "lakecolor": "white",
           "landcolor": "white",
           "showlakes": true,
           "showland": true,
           "subunitcolor": "#C8D4E3"
          },
          "hoverlabel": {
           "align": "left"
          },
          "hovermode": "closest",
          "mapbox": {
           "style": "light"
          },
          "paper_bgcolor": "white",
          "plot_bgcolor": "white",
          "polar": {
           "angularaxis": {
            "gridcolor": "#EBF0F8",
            "linecolor": "#EBF0F8",
            "ticks": ""
           },
           "bgcolor": "white",
           "radialaxis": {
            "gridcolor": "#EBF0F8",
            "linecolor": "#EBF0F8",
            "ticks": ""
           }
          },
          "scene": {
           "xaxis": {
            "backgroundcolor": "white",
            "gridcolor": "#DFE8F3",
            "gridwidth": 2,
            "linecolor": "#EBF0F8",
            "showbackground": true,
            "ticks": "",
            "zerolinecolor": "#EBF0F8"
           },
           "yaxis": {
            "backgroundcolor": "white",
            "gridcolor": "#DFE8F3",
            "gridwidth": 2,
            "linecolor": "#EBF0F8",
            "showbackground": true,
            "ticks": "",
            "zerolinecolor": "#EBF0F8"
           },
           "zaxis": {
            "backgroundcolor": "white",
            "gridcolor": "#DFE8F3",
            "gridwidth": 2,
            "linecolor": "#EBF0F8",
            "showbackground": true,
            "ticks": "",
            "zerolinecolor": "#EBF0F8"
           }
          },
          "shapedefaults": {
           "line": {
            "color": "#2a3f5f"
           }
          },
          "ternary": {
           "aaxis": {
            "gridcolor": "#DFE8F3",
            "linecolor": "#A2B1C6",
            "ticks": ""
           },
           "baxis": {
            "gridcolor": "#DFE8F3",
            "linecolor": "#A2B1C6",
            "ticks": ""
           },
           "bgcolor": "white",
           "caxis": {
            "gridcolor": "#DFE8F3",
            "linecolor": "#A2B1C6",
            "ticks": ""
           }
          },
          "title": {
           "x": 0.05
          },
          "xaxis": {
           "automargin": true,
           "gridcolor": "#EBF0F8",
           "linecolor": "#EBF0F8",
           "ticks": "",
           "title": {
            "standoff": 15
           },
           "zerolinecolor": "#EBF0F8",
           "zerolinewidth": 2
          },
          "yaxis": {
           "automargin": true,
           "gridcolor": "#EBF0F8",
           "linecolor": "#EBF0F8",
           "ticks": "",
           "title": {
            "standoff": 15
           },
           "zerolinecolor": "#EBF0F8",
           "zerolinewidth": 2
          }
         }
        },
        "title": {
         "font": {
          "family": "tahoma",
          "size": 28
         },
         "text": "<b>Popularity of Gender via Department"
        },
        "xaxis": {
         "anchor": "y",
         "domain": [
          0,
          1
         ],
         "title": {
          "text": "Department"
         }
        },
        "yaxis": {
         "anchor": "x",
         "domain": [
          0,
          1
         ],
         "title": {
          "text": "Gender Frequency"
         }
        }
       }
      }
     },
     "metadata": {},
     "output_type": "display_data"
    }
   ],
   "source": [
    "fig = px.bar(\n",
    "    data_frame=gender_dept,\n",
    "    barmode='group',\n",
    "    template='plotly_white',\n",
    "    color_discrete_sequence=used_color,\n",
    "    labels= {'value':'Gender Frequency'},\n",
    "    title='<b>Popularity of Gender via Department',\n",
    "    text_auto=True\n",
    ")\n",
    "\n",
    "custom_layout(showlegend=True)\n",
    "\n",
    "fig.update_traces(\n",
    "    textposition = 'outside',\n",
    "    textfont = {\n",
    "        'size':14,\n",
    "        'family':'poppins',\n",
    "        'color':'#000'\n",
    "    },\n",
    "    hovertemplate = 'Department: %{x}<br>Gender Frequency: %{y}',\n",
    "    marker = dict(line=dict(color='#222', width=2))\n",
    ")\n",
    "\n",
    "iplot(fig)"
   ]
  },
  {
   "cell_type": "markdown",
   "metadata": {},
   "source": [
    "##### __Important KPI : What is the Performance Review Completion Rate?__"
   ]
  },
  {
   "cell_type": "code",
   "execution_count": 67,
   "id": "01HXBNZP5XEBEYX3YP64W2342F",
   "metadata": {},
   "outputs": [
    {
     "name": "stdout",
     "output_type": "stream",
     "text": [
      "Performance Review Completion Rate: 17.78%\n"
     ]
    }
   ],
   "source": [
    "# First we will get the count of review of Completion\n",
    "completed_review = df.loc[df['Performance_Review'] == 10, 'Performance_Review'].count()\n",
    "perf_rate = completed_review / len(df) * 100\n",
    "print(f'Performance Review Completion Rate: {perf_rate:0.2f}%')"
   ]
  },
  {
   "cell_type": "markdown",
   "metadata": {},
   "source": [
    "##### I think 17.78% is low. So the recommendation is:\n",
    "* Offer training for Employees\n",
    "* Reward and Punishment : To Encourage all employees to get high performance reviews\n",
    "* Visual Performance Tracking : We can share the performance tracking for all employees which will be extremely effective in motivating them"
   ]
  }
 ],
 "metadata": {
  "kernelspec": {
   "display_name": "Python 3",
   "language": "python",
   "name": "python3"
  },
  "language_info": {
   "codemirror_mode": {
    "name": "ipython",
    "version": 3
   },
   "file_extension": ".py",
   "mimetype": "text/x-python",
   "name": "python",
   "nbconvert_exporter": "python",
   "pygments_lexer": "ipython3",
   "version": "3.11.7"
  }
 },
 "nbformat": 4,
 "nbformat_minor": 2
}
