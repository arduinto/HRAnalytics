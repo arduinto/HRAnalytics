{
 "cells": [
  {
   "cell_type": "code",
   "execution_count": 1,
   "metadata": {},
   "outputs": [],
   "source": [
    "import pandas as pd\n",
    "import numpy as np\n",
    "import plotly.express as px\n",
    "from plotly.offline import offline, iplot\n",
    "from datetime import datetime\n",
    "from wordcloud import WordCloud, ImageColorGenerator\n",
    "\n",
    "# Set Default Options\n",
    "# pd.set_option(\"display.max_columns\", None)\n",
    "pd.options.display.float_format = '{:,.1f}'.format\n",
    "used_color = [\"#ADA2FF\", \"#C0DEFF\", \"#FCDDB0\", \"#FF9F9F\", \"#EDD2F3\", \"#98EECC\"]"
   ]
  },
  {
   "cell_type": "markdown",
   "metadata": {},
   "source": [
    "### Custome Visualization Functions"
   ]
  },
  {
   "cell_type": "code",
   "execution_count": 2,
   "metadata": {},
   "outputs": [],
   "source": [
    "# Adding Line to Plotly Figure\n",
    "def add_line(\n",
    "    x0 = 0, \n",
    "    y0=0,\n",
    "    x1=0, \n",
    "    y1=0, \n",
    "    line_color='#ED1C24', \n",
    "    font_color='000000',\n",
    "    xposition = 'right',\n",
    "    text = 'Text'):"
   ]
  },
  {
   "cell_type": "code",
   "execution_count": null,
   "metadata": {},
   "outputs": [],
   "source": []
  }
 ],
 "metadata": {
  "kernelspec": {
   "display_name": "Python 3",
   "language": "python",
   "name": "python3"
  },
  "language_info": {
   "codemirror_mode": {
    "name": "ipython",
    "version": 3
   },
   "file_extension": ".py",
   "mimetype": "text/x-python",
   "name": "python",
   "nbconvert_exporter": "python",
   "pygments_lexer": "ipython3",
   "version": "3.11.7"
  }
 },
 "nbformat": 4,
 "nbformat_minor": 2
}
