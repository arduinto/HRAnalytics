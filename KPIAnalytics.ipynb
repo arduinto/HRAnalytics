{
 "cells": [
  {
   "cell_type": "code",
   "execution_count": 1,
   "metadata": {},
   "outputs": [],
   "source": [
    "import pandas as pd\n",
    "import numpy as np\n",
    "import plotly.express as px\n",
    "from plotly.offline import offline, iplot\n",
    "from datetime import datetime\n",
    "from wordcloud import WordCloud, ImageColorGenerator\n",
    "\n",
    "# Set Default Options\n",
    "# pd.set_option(\"display.max_columns\", None)\n",
    "pd.options.display.float_format = '{:,.1f}'.format\n",
    "used_color = [\"#ADA2FF\", \"#C0DEFF\", \"#FCDDB0\", \"#FF9F9F\", \"#EDD2F3\", \"#98EECC\"]"
   ]
  },
  {
   "cell_type": "markdown",
   "metadata": {},
   "source": [
    "### __Custome Visualization Functions__"
   ]
  },
  {
   "cell_type": "code",
   "execution_count": 2,
   "metadata": {},
   "outputs": [],
   "source": [
    "# Adding Line to Plotly Figure\n",
    "def add_line(\n",
    "    x0 = 0, \n",
    "    y0=0,\n",
    "    x1=0, \n",
    "    y1=0, \n",
    "    line_color='#ED1C24', \n",
    "    font_color='000000',\n",
    "    xposition = 'right',\n",
    "    text = 'Text'):\n",
    "    \n",
    "    fig.add_shape(type='line', x0=x0, y0=y0, x1=x1,y1=y1,\n",
    "                  line = {\n",
    "                      'color' : line_color,\n",
    "                      'width' : 3,\n",
    "                      'dash' : 'dashdot'\n",
    "                  },\n",
    "                  label = {\n",
    "                      'text' : f'{text} : {x1: 0.1f}\\t',\n",
    "                      'textposition' : 'end',\n",
    "                      'yanchor' : 'top',\n",
    "                      'xanchor' : xposition,\n",
    "                      'textangle' : 0,\n",
    "                      'font' : {\n",
    "                          'size' : 15,\n",
    "                          'color' : font_color,\n",
    "                          'family' : 'tahoma'\n",
    "                      },\n",
    "                  })"
   ]
  },
  {
   "cell_type": "code",
   "execution_count": 3,
   "metadata": {},
   "outputs": [],
   "source": [
    "def custom_layout(title_size = 28, showlegend = False):\n",
    "    fig.update_layout(\n",
    "        showlegend = showlegend,\n",
    "        title = {\n",
    "            'font' : {\n",
    "                'size' : title_size,\n",
    "                'family' : 'tahoma'\n",
    "            }\n",
    "        },\n",
    "        \n",
    "        hoverlabel = {\n",
    "            'bgcolor' : '#111',\n",
    "            'font_size' : 16,\n",
    "            'font_family' : 'arial'\n",
    "        }\n",
    "    )"
   ]
  },
  {
   "cell_type": "code",
   "execution_count": 4,
   "metadata": {},
   "outputs": [
    {
     "name": "stdout",
     "output_type": "stream",
     "text": [
      "Number of Employess: 90\n",
      "Number of Features: 6\n"
     ]
    }
   ],
   "source": [
    "df_emp = pd.read_excel('./EmployeeInformation.xlsx')\n",
    "print(f'Number of Employess: {df_emp.shape[0]}')\n",
    "print(f'Number of Features: {df_emp.shape[1]}')"
   ]
  },
  {
   "cell_type": "code",
   "execution_count": 5,
   "metadata": {},
   "outputs": [
    {
     "data": {
      "text/html": [
       "<div>\n",
       "<style scoped>\n",
       "    .dataframe tbody tr th:only-of-type {\n",
       "        vertical-align: middle;\n",
       "    }\n",
       "\n",
       "    .dataframe tbody tr th {\n",
       "        vertical-align: top;\n",
       "    }\n",
       "\n",
       "    .dataframe thead th {\n",
       "        text-align: right;\n",
       "    }\n",
       "</style>\n",
       "<table border=\"1\" class=\"dataframe\">\n",
       "  <thead>\n",
       "    <tr style=\"text-align: right;\">\n",
       "      <th></th>\n",
       "      <th>ID</th>\n",
       "      <th>Performance Review</th>\n",
       "      <th>City</th>\n",
       "      <th>Last Promotion Date</th>\n",
       "      <th>Salary</th>\n",
       "      <th>Overdue Vacation?</th>\n",
       "    </tr>\n",
       "  </thead>\n",
       "  <tbody>\n",
       "    <tr>\n",
       "      <th>0</th>\n",
       "      <td>1</td>\n",
       "      <td>10</td>\n",
       "      <td>Alabama</td>\n",
       "      <td>NaT</td>\n",
       "      <td>4539</td>\n",
       "      <td>No</td>\n",
       "    </tr>\n",
       "    <tr>\n",
       "      <th>1</th>\n",
       "      <td>2</td>\n",
       "      <td>10</td>\n",
       "      <td>Arizona</td>\n",
       "      <td>NaT</td>\n",
       "      <td>3698</td>\n",
       "      <td>Yes</td>\n",
       "    </tr>\n",
       "    <tr>\n",
       "      <th>2</th>\n",
       "      <td>3</td>\n",
       "      <td>8</td>\n",
       "      <td>Colorado</td>\n",
       "      <td>NaT</td>\n",
       "      <td>4157</td>\n",
       "      <td>Yes</td>\n",
       "    </tr>\n",
       "    <tr>\n",
       "      <th>3</th>\n",
       "      <td>4</td>\n",
       "      <td>10</td>\n",
       "      <td>Missouri</td>\n",
       "      <td>NaT</td>\n",
       "      <td>4360</td>\n",
       "      <td>Yes</td>\n",
       "    </tr>\n",
       "    <tr>\n",
       "      <th>4</th>\n",
       "      <td>5</td>\n",
       "      <td>7</td>\n",
       "      <td>New York</td>\n",
       "      <td>NaT</td>\n",
       "      <td>4144</td>\n",
       "      <td>Yes</td>\n",
       "    </tr>\n",
       "    <tr>\n",
       "      <th>...</th>\n",
       "      <td>...</td>\n",
       "      <td>...</td>\n",
       "      <td>...</td>\n",
       "      <td>...</td>\n",
       "      <td>...</td>\n",
       "      <td>...</td>\n",
       "    </tr>\n",
       "    <tr>\n",
       "      <th>85</th>\n",
       "      <td>86</td>\n",
       "      <td>10</td>\n",
       "      <td>Alabama</td>\n",
       "      <td>NaT</td>\n",
       "      <td>4430</td>\n",
       "      <td>No</td>\n",
       "    </tr>\n",
       "    <tr>\n",
       "      <th>86</th>\n",
       "      <td>87</td>\n",
       "      <td>9</td>\n",
       "      <td>Arizona</td>\n",
       "      <td>NaT</td>\n",
       "      <td>4183</td>\n",
       "      <td>No</td>\n",
       "    </tr>\n",
       "    <tr>\n",
       "      <th>87</th>\n",
       "      <td>88</td>\n",
       "      <td>10</td>\n",
       "      <td>Colorado</td>\n",
       "      <td>NaT</td>\n",
       "      <td>4308</td>\n",
       "      <td>No</td>\n",
       "    </tr>\n",
       "    <tr>\n",
       "      <th>88</th>\n",
       "      <td>89</td>\n",
       "      <td>7</td>\n",
       "      <td>Maryland</td>\n",
       "      <td>NaT</td>\n",
       "      <td>3920</td>\n",
       "      <td>No</td>\n",
       "    </tr>\n",
       "    <tr>\n",
       "      <th>89</th>\n",
       "      <td>90</td>\n",
       "      <td>7</td>\n",
       "      <td>Hawaii</td>\n",
       "      <td>NaT</td>\n",
       "      <td>4001</td>\n",
       "      <td>Yes</td>\n",
       "    </tr>\n",
       "  </tbody>\n",
       "</table>\n",
       "<p>90 rows × 6 columns</p>\n",
       "</div>"
      ],
      "text/plain": [
       "    ID  Performance Review       City Last Promotion Date  Salary  \\\n",
       "0    1                  10    Alabama                 NaT    4539   \n",
       "1    2                  10    Arizona                 NaT    3698   \n",
       "2    3                   8   Colorado                 NaT    4157   \n",
       "3    4                  10   Missouri                 NaT    4360   \n",
       "4    5                   7   New York                 NaT    4144   \n",
       "..  ..                 ...        ...                 ...     ...   \n",
       "85  86                  10    Alabama                 NaT    4430   \n",
       "86  87                   9    Arizona                 NaT    4183   \n",
       "87  88                  10   Colorado                 NaT    4308   \n",
       "88  89                   7   Maryland                 NaT    3920   \n",
       "89  90                   7     Hawaii                 NaT    4001   \n",
       "\n",
       "   Overdue Vacation?  \n",
       "0                 No  \n",
       "1                Yes  \n",
       "2                Yes  \n",
       "3                Yes  \n",
       "4                Yes  \n",
       "..               ...  \n",
       "85                No  \n",
       "86                No  \n",
       "87                No  \n",
       "88                No  \n",
       "89               Yes  \n",
       "\n",
       "[90 rows x 6 columns]"
      ]
     },
     "execution_count": 5,
     "metadata": {},
     "output_type": "execute_result"
    }
   ],
   "source": [
    "df_emp"
   ]
  },
  {
   "cell_type": "code",
   "execution_count": 6,
   "metadata": {},
   "outputs": [
    {
     "name": "stdout",
     "output_type": "stream",
     "text": [
      "<class 'pandas.core.frame.DataFrame'>\n",
      "RangeIndex: 90 entries, 0 to 89\n",
      "Data columns (total 6 columns):\n",
      " #   Column               Non-Null Count  Dtype         \n",
      "---  ------               --------------  -----         \n",
      " 0   ID                   90 non-null     int64         \n",
      " 1   Performance Review   90 non-null     int64         \n",
      " 2   City                 90 non-null     object        \n",
      " 3   Last Promotion Date  10 non-null     datetime64[ns]\n",
      " 4   Salary               90 non-null     int64         \n",
      " 5   Overdue Vacation?    89 non-null     object        \n",
      "dtypes: datetime64[ns](1), int64(3), object(2)\n",
      "memory usage: 4.3+ KB\n"
     ]
    }
   ],
   "source": [
    "df_emp.info()"
   ]
  },
  {
   "cell_type": "code",
   "execution_count": 7,
   "metadata": {},
   "outputs": [
    {
     "data": {
      "text/html": [
       "<div>\n",
       "<style scoped>\n",
       "    .dataframe tbody tr th:only-of-type {\n",
       "        vertical-align: middle;\n",
       "    }\n",
       "\n",
       "    .dataframe tbody tr th {\n",
       "        vertical-align: top;\n",
       "    }\n",
       "\n",
       "    .dataframe thead th {\n",
       "        text-align: right;\n",
       "    }\n",
       "</style>\n",
       "<table border=\"1\" class=\"dataframe\">\n",
       "  <thead>\n",
       "    <tr style=\"text-align: right;\">\n",
       "      <th></th>\n",
       "      <th>ID</th>\n",
       "      <th>Performance_Review</th>\n",
       "      <th>City</th>\n",
       "      <th>Last_Promotion_Date</th>\n",
       "      <th>Salary</th>\n",
       "      <th>Overdue_Vacation</th>\n",
       "    </tr>\n",
       "  </thead>\n",
       "  <tbody>\n",
       "    <tr>\n",
       "      <th>0</th>\n",
       "      <td>1</td>\n",
       "      <td>10</td>\n",
       "      <td>Alabama</td>\n",
       "      <td>NaT</td>\n",
       "      <td>4539</td>\n",
       "      <td>No</td>\n",
       "    </tr>\n",
       "    <tr>\n",
       "      <th>1</th>\n",
       "      <td>2</td>\n",
       "      <td>10</td>\n",
       "      <td>Arizona</td>\n",
       "      <td>NaT</td>\n",
       "      <td>3698</td>\n",
       "      <td>Yes</td>\n",
       "    </tr>\n",
       "    <tr>\n",
       "      <th>2</th>\n",
       "      <td>3</td>\n",
       "      <td>8</td>\n",
       "      <td>Colorado</td>\n",
       "      <td>NaT</td>\n",
       "      <td>4157</td>\n",
       "      <td>Yes</td>\n",
       "    </tr>\n",
       "    <tr>\n",
       "      <th>3</th>\n",
       "      <td>4</td>\n",
       "      <td>10</td>\n",
       "      <td>Missouri</td>\n",
       "      <td>NaT</td>\n",
       "      <td>4360</td>\n",
       "      <td>Yes</td>\n",
       "    </tr>\n",
       "    <tr>\n",
       "      <th>4</th>\n",
       "      <td>5</td>\n",
       "      <td>7</td>\n",
       "      <td>New York</td>\n",
       "      <td>NaT</td>\n",
       "      <td>4144</td>\n",
       "      <td>Yes</td>\n",
       "    </tr>\n",
       "    <tr>\n",
       "      <th>5</th>\n",
       "      <td>6</td>\n",
       "      <td>5</td>\n",
       "      <td>Ohio</td>\n",
       "      <td>NaT</td>\n",
       "      <td>4257</td>\n",
       "      <td>No</td>\n",
       "    </tr>\n",
       "    <tr>\n",
       "      <th>6</th>\n",
       "      <td>7</td>\n",
       "      <td>8</td>\n",
       "      <td>Oregon</td>\n",
       "      <td>NaT</td>\n",
       "      <td>4534</td>\n",
       "      <td>No</td>\n",
       "    </tr>\n",
       "    <tr>\n",
       "      <th>7</th>\n",
       "      <td>8</td>\n",
       "      <td>9</td>\n",
       "      <td>Arizona</td>\n",
       "      <td>2017-08-12</td>\n",
       "      <td>4094</td>\n",
       "      <td>Yes</td>\n",
       "    </tr>\n",
       "    <tr>\n",
       "      <th>8</th>\n",
       "      <td>9</td>\n",
       "      <td>9</td>\n",
       "      <td>Montana</td>\n",
       "      <td>NaT</td>\n",
       "      <td>4289</td>\n",
       "      <td>Yes</td>\n",
       "    </tr>\n",
       "    <tr>\n",
       "      <th>9</th>\n",
       "      <td>10</td>\n",
       "      <td>9</td>\n",
       "      <td>Missouri</td>\n",
       "      <td>NaT</td>\n",
       "      <td>3834</td>\n",
       "      <td>Yes</td>\n",
       "    </tr>\n",
       "    <tr>\n",
       "      <th>10</th>\n",
       "      <td>11</td>\n",
       "      <td>5</td>\n",
       "      <td>New York</td>\n",
       "      <td>NaT</td>\n",
       "      <td>3917</td>\n",
       "      <td>Yes</td>\n",
       "    </tr>\n",
       "    <tr>\n",
       "      <th>11</th>\n",
       "      <td>12</td>\n",
       "      <td>9</td>\n",
       "      <td>Ohio</td>\n",
       "      <td>NaT</td>\n",
       "      <td>3625</td>\n",
       "      <td>No</td>\n",
       "    </tr>\n",
       "    <tr>\n",
       "      <th>12</th>\n",
       "      <td>13</td>\n",
       "      <td>6</td>\n",
       "      <td>Oregon</td>\n",
       "      <td>NaT</td>\n",
       "      <td>4157</td>\n",
       "      <td>No</td>\n",
       "    </tr>\n",
       "    <tr>\n",
       "      <th>13</th>\n",
       "      <td>14</td>\n",
       "      <td>5</td>\n",
       "      <td>Missouri</td>\n",
       "      <td>NaT</td>\n",
       "      <td>4307</td>\n",
       "      <td>No</td>\n",
       "    </tr>\n",
       "    <tr>\n",
       "      <th>14</th>\n",
       "      <td>15</td>\n",
       "      <td>8</td>\n",
       "      <td>New York</td>\n",
       "      <td>2017-08-12</td>\n",
       "      <td>4008</td>\n",
       "      <td>No</td>\n",
       "    </tr>\n",
       "  </tbody>\n",
       "</table>\n",
       "</div>"
      ],
      "text/plain": [
       "    ID  Performance_Review      City Last_Promotion_Date  Salary  \\\n",
       "0    1                  10   Alabama                 NaT    4539   \n",
       "1    2                  10   Arizona                 NaT    3698   \n",
       "2    3                   8  Colorado                 NaT    4157   \n",
       "3    4                  10  Missouri                 NaT    4360   \n",
       "4    5                   7  New York                 NaT    4144   \n",
       "5    6                   5      Ohio                 NaT    4257   \n",
       "6    7                   8    Oregon                 NaT    4534   \n",
       "7    8                   9   Arizona          2017-08-12    4094   \n",
       "8    9                   9   Montana                 NaT    4289   \n",
       "9   10                   9  Missouri                 NaT    3834   \n",
       "10  11                   5  New York                 NaT    3917   \n",
       "11  12                   9      Ohio                 NaT    3625   \n",
       "12  13                   6    Oregon                 NaT    4157   \n",
       "13  14                   5  Missouri                 NaT    4307   \n",
       "14  15                   8  New York          2017-08-12    4008   \n",
       "\n",
       "   Overdue_Vacation  \n",
       "0                No  \n",
       "1               Yes  \n",
       "2               Yes  \n",
       "3               Yes  \n",
       "4               Yes  \n",
       "5                No  \n",
       "6                No  \n",
       "7               Yes  \n",
       "8               Yes  \n",
       "9               Yes  \n",
       "10              Yes  \n",
       "11               No  \n",
       "12               No  \n",
       "13               No  \n",
       "14               No  "
      ]
     },
     "execution_count": 7,
     "metadata": {},
     "output_type": "execute_result"
    }
   ],
   "source": [
    "# Clean the columns name from any spaces\n",
    "df_emp.columns = df_emp.columns.str.replace(' ','_', regex=False).str.replace('?', '', regex=False)\n",
    "df_emp.head(15)"
   ]
  },
  {
   "cell_type": "markdown",
   "metadata": {},
   "source": [
    "### __Loading Departments Data__"
   ]
  },
  {
   "cell_type": "code",
   "execution_count": 8,
   "metadata": {},
   "outputs": [
    {
     "name": "stdout",
     "output_type": "stream",
     "text": [
      "Number of Departments : 7\n",
      "Number of Columns : 2\n"
     ]
    }
   ],
   "source": [
    "df_dep = pd.read_excel('./DepartmentInformation.xlsx')\n",
    "print(f'Number of Departments : {df_dep.shape[0]}')\n",
    "print(f'Number of Columns : {df_dep.shape[1]}')"
   ]
  },
  {
   "cell_type": "code",
   "execution_count": 9,
   "metadata": {},
   "outputs": [
    {
     "data": {
      "text/html": [
       "<div>\n",
       "<style scoped>\n",
       "    .dataframe tbody tr th:only-of-type {\n",
       "        vertical-align: middle;\n",
       "    }\n",
       "\n",
       "    .dataframe tbody tr th {\n",
       "        vertical-align: top;\n",
       "    }\n",
       "\n",
       "    .dataframe thead th {\n",
       "        text-align: right;\n",
       "    }\n",
       "</style>\n",
       "<table border=\"1\" class=\"dataframe\">\n",
       "  <thead>\n",
       "    <tr style=\"text-align: right;\">\n",
       "      <th></th>\n",
       "      <th>Department</th>\n",
       "      <th>Manager</th>\n",
       "    </tr>\n",
       "  </thead>\n",
       "  <tbody>\n",
       "    <tr>\n",
       "      <th>0</th>\n",
       "      <td>Finance / Accounting</td>\n",
       "      <td>Phelipp</td>\n",
       "    </tr>\n",
       "    <tr>\n",
       "      <th>1</th>\n",
       "      <td>Legal</td>\n",
       "      <td>Anna</td>\n",
       "    </tr>\n",
       "    <tr>\n",
       "      <th>2</th>\n",
       "      <td>Strategy</td>\n",
       "      <td>Antonella</td>\n",
       "    </tr>\n",
       "    <tr>\n",
       "      <th>3</th>\n",
       "      <td>Marketing</td>\n",
       "      <td>Phelipp</td>\n",
       "    </tr>\n",
       "    <tr>\n",
       "      <th>4</th>\n",
       "      <td>Development</td>\n",
       "      <td>Leyla</td>\n",
       "    </tr>\n",
       "    <tr>\n",
       "      <th>5</th>\n",
       "      <td>Sales</td>\n",
       "      <td>Gabriela</td>\n",
       "    </tr>\n",
       "    <tr>\n",
       "      <th>6</th>\n",
       "      <td>Technology and Equipment</td>\n",
       "      <td>Sidney</td>\n",
       "    </tr>\n",
       "  </tbody>\n",
       "</table>\n",
       "</div>"
      ],
      "text/plain": [
       "                 Department    Manager\n",
       "0      Finance / Accounting    Phelipp\n",
       "1                     Legal       Anna\n",
       "2                  Strategy  Antonella\n",
       "3                 Marketing    Phelipp\n",
       "4               Development      Leyla\n",
       "5                     Sales   Gabriela\n",
       "6  Technology and Equipment     Sidney"
      ]
     },
     "execution_count": 9,
     "metadata": {},
     "output_type": "execute_result"
    }
   ],
   "source": [
    "df_dep"
   ]
  },
  {
   "cell_type": "code",
   "execution_count": 10,
   "metadata": {},
   "outputs": [
    {
     "name": "stdout",
     "output_type": "stream",
     "text": [
      "<class 'pandas.core.frame.DataFrame'>\n",
      "RangeIndex: 7 entries, 0 to 6\n",
      "Data columns (total 2 columns):\n",
      " #   Column      Non-Null Count  Dtype \n",
      "---  ------      --------------  ----- \n",
      " 0   Department  7 non-null      object\n",
      " 1   Manager     7 non-null      object\n",
      "dtypes: object(2)\n",
      "memory usage: 244.0+ bytes\n"
     ]
    }
   ],
   "source": [
    "df_dep.info()"
   ]
  },
  {
   "cell_type": "markdown",
   "metadata": {},
   "source": [
    "### __Load HR Fact Data__"
   ]
  },
  {
   "cell_type": "code",
   "execution_count": 11,
   "metadata": {},
   "outputs": [
    {
     "name": "stdout",
     "output_type": "stream",
     "text": [
      "Number of Records: 90\n",
      "Number of Columns: 10\n"
     ]
    }
   ],
   "source": [
    "df_hr = pd.read_excel('./HRDatabase.xlsx')\n",
    "print(f'Number of Records: {df_hr.shape[0]}')\n",
    "print(f'Number of Columns: {df_hr.shape[1]}')"
   ]
  },
  {
   "cell_type": "code",
   "execution_count": 12,
   "metadata": {},
   "outputs": [
    {
     "data": {
      "text/html": [
       "<div>\n",
       "<style scoped>\n",
       "    .dataframe tbody tr th:only-of-type {\n",
       "        vertical-align: middle;\n",
       "    }\n",
       "\n",
       "    .dataframe tbody tr th {\n",
       "        vertical-align: top;\n",
       "    }\n",
       "\n",
       "    .dataframe thead th {\n",
       "        text-align: right;\n",
       "    }\n",
       "</style>\n",
       "<table border=\"1\" class=\"dataframe\">\n",
       "  <thead>\n",
       "    <tr style=\"text-align: right;\">\n",
       "      <th></th>\n",
       "      <th>ID</th>\n",
       "      <th>Employee</th>\n",
       "      <th>Gender</th>\n",
       "      <th>Birth Date</th>\n",
       "      <th>Hire Date</th>\n",
       "      <th>Termination Date</th>\n",
       "      <th>Termination Reason</th>\n",
       "      <th>Education</th>\n",
       "      <th>Position</th>\n",
       "      <th>Department</th>\n",
       "    </tr>\n",
       "  </thead>\n",
       "  <tbody>\n",
       "    <tr>\n",
       "      <th>0</th>\n",
       "      <td>1</td>\n",
       "      <td>Harley Matthews</td>\n",
       "      <td>Female</td>\n",
       "      <td>1989-08-17</td>\n",
       "      <td>2011-10-02</td>\n",
       "      <td>NaT</td>\n",
       "      <td>NaN</td>\n",
       "      <td>Higher Certificate</td>\n",
       "      <td>Administrator</td>\n",
       "      <td>Finance / Accounting</td>\n",
       "    </tr>\n",
       "    <tr>\n",
       "      <th>1</th>\n",
       "      <td>2</td>\n",
       "      <td>Aliyah Thomas</td>\n",
       "      <td>Female</td>\n",
       "      <td>1988-03-27</td>\n",
       "      <td>2012-03-22</td>\n",
       "      <td>2015-05-01</td>\n",
       "      <td>Unfair Dismissal</td>\n",
       "      <td>Higher Certificate</td>\n",
       "      <td>Lawyer</td>\n",
       "      <td>Legal</td>\n",
       "    </tr>\n",
       "    <tr>\n",
       "      <th>2</th>\n",
       "      <td>3</td>\n",
       "      <td>Madeleine Bradley</td>\n",
       "      <td>Female</td>\n",
       "      <td>1981-04-18</td>\n",
       "      <td>2012-08-24</td>\n",
       "      <td>2016-06-19</td>\n",
       "      <td>Resignation</td>\n",
       "      <td>Bachelor's Incompleted</td>\n",
       "      <td>Administrative Analyst</td>\n",
       "      <td>Finance / Accounting</td>\n",
       "    </tr>\n",
       "    <tr>\n",
       "      <th>3</th>\n",
       "      <td>4</td>\n",
       "      <td>Gabrielle Gardner</td>\n",
       "      <td>Female</td>\n",
       "      <td>2002-10-31</td>\n",
       "      <td>2012-11-12</td>\n",
       "      <td>NaT</td>\n",
       "      <td>NaN</td>\n",
       "      <td>Bachelor's Completed</td>\n",
       "      <td>Accounting Analyst</td>\n",
       "      <td>Finance / Accounting</td>\n",
       "    </tr>\n",
       "    <tr>\n",
       "      <th>4</th>\n",
       "      <td>5</td>\n",
       "      <td>Molly Owen</td>\n",
       "      <td>Female</td>\n",
       "      <td>1979-10-22</td>\n",
       "      <td>2013-09-18</td>\n",
       "      <td>NaT</td>\n",
       "      <td>NaN</td>\n",
       "      <td>Bachelor's Completed</td>\n",
       "      <td>Database Analyst</td>\n",
       "      <td>Strategy</td>\n",
       "    </tr>\n",
       "    <tr>\n",
       "      <th>...</th>\n",
       "      <td>...</td>\n",
       "      <td>...</td>\n",
       "      <td>...</td>\n",
       "      <td>...</td>\n",
       "      <td>...</td>\n",
       "      <td>...</td>\n",
       "      <td>...</td>\n",
       "      <td>...</td>\n",
       "      <td>...</td>\n",
       "      <td>...</td>\n",
       "    </tr>\n",
       "    <tr>\n",
       "      <th>85</th>\n",
       "      <td>86</td>\n",
       "      <td>Aryan Reynolds</td>\n",
       "      <td>Male</td>\n",
       "      <td>1963-11-21</td>\n",
       "      <td>2018-12-17</td>\n",
       "      <td>2019-03-17</td>\n",
       "      <td>Resignation</td>\n",
       "      <td>Higher Certificate</td>\n",
       "      <td>Commercial Assistant</td>\n",
       "      <td>Sales</td>\n",
       "    </tr>\n",
       "    <tr>\n",
       "      <th>86</th>\n",
       "      <td>87</td>\n",
       "      <td>Grayson Lowe</td>\n",
       "      <td>Male</td>\n",
       "      <td>1986-04-15</td>\n",
       "      <td>2019-05-05</td>\n",
       "      <td>NaT</td>\n",
       "      <td>NaN</td>\n",
       "      <td>Bachelor's Incompleted</td>\n",
       "      <td>Developer</td>\n",
       "      <td>Development</td>\n",
       "    </tr>\n",
       "    <tr>\n",
       "      <th>87</th>\n",
       "      <td>88</td>\n",
       "      <td>Antonio Ball</td>\n",
       "      <td>Male</td>\n",
       "      <td>1984-08-17</td>\n",
       "      <td>2019-07-25</td>\n",
       "      <td>NaT</td>\n",
       "      <td>NaN</td>\n",
       "      <td>Bachelor's Completed</td>\n",
       "      <td>Pogrammer Analyst</td>\n",
       "      <td>Development</td>\n",
       "    </tr>\n",
       "    <tr>\n",
       "      <th>88</th>\n",
       "      <td>89</td>\n",
       "      <td>Ethan Simpson</td>\n",
       "      <td>Male</td>\n",
       "      <td>1969-07-14</td>\n",
       "      <td>2019-08-04</td>\n",
       "      <td>NaT</td>\n",
       "      <td>NaN</td>\n",
       "      <td>Bachelor's Completed</td>\n",
       "      <td>Salesperson</td>\n",
       "      <td>Sales</td>\n",
       "    </tr>\n",
       "    <tr>\n",
       "      <th>89</th>\n",
       "      <td>90</td>\n",
       "      <td>Blake Barker</td>\n",
       "      <td>Male</td>\n",
       "      <td>1982-06-13</td>\n",
       "      <td>2019-10-10</td>\n",
       "      <td>NaT</td>\n",
       "      <td>NaN</td>\n",
       "      <td>Doctoral</td>\n",
       "      <td>Developer</td>\n",
       "      <td>Development</td>\n",
       "    </tr>\n",
       "  </tbody>\n",
       "</table>\n",
       "<p>90 rows × 10 columns</p>\n",
       "</div>"
      ],
      "text/plain": [
       "    ID           Employee  Gender Birth Date  Hire Date Termination Date  \\\n",
       "0    1    Harley Matthews  Female 1989-08-17 2011-10-02              NaT   \n",
       "1    2      Aliyah Thomas  Female 1988-03-27 2012-03-22       2015-05-01   \n",
       "2    3  Madeleine Bradley  Female 1981-04-18 2012-08-24       2016-06-19   \n",
       "3    4  Gabrielle Gardner  Female 2002-10-31 2012-11-12              NaT   \n",
       "4    5         Molly Owen  Female 1979-10-22 2013-09-18              NaT   \n",
       "..  ..                ...     ...        ...        ...              ...   \n",
       "85  86     Aryan Reynolds    Male 1963-11-21 2018-12-17       2019-03-17   \n",
       "86  87       Grayson Lowe    Male 1986-04-15 2019-05-05              NaT   \n",
       "87  88       Antonio Ball    Male 1984-08-17 2019-07-25              NaT   \n",
       "88  89      Ethan Simpson    Male 1969-07-14 2019-08-04              NaT   \n",
       "89  90       Blake Barker    Male 1982-06-13 2019-10-10              NaT   \n",
       "\n",
       "   Termination Reason               Education                Position  \\\n",
       "0                 NaN      Higher Certificate           Administrator   \n",
       "1    Unfair Dismissal      Higher Certificate                  Lawyer   \n",
       "2         Resignation  Bachelor's Incompleted  Administrative Analyst   \n",
       "3                 NaN    Bachelor's Completed      Accounting Analyst   \n",
       "4                 NaN    Bachelor's Completed        Database Analyst   \n",
       "..                ...                     ...                     ...   \n",
       "85        Resignation      Higher Certificate    Commercial Assistant   \n",
       "86                NaN  Bachelor's Incompleted               Developer   \n",
       "87                NaN    Bachelor's Completed       Pogrammer Analyst   \n",
       "88                NaN    Bachelor's Completed             Salesperson   \n",
       "89                NaN                Doctoral               Developer   \n",
       "\n",
       "              Department  \n",
       "0   Finance / Accounting  \n",
       "1                  Legal  \n",
       "2   Finance / Accounting  \n",
       "3   Finance / Accounting  \n",
       "4               Strategy  \n",
       "..                   ...  \n",
       "85                 Sales  \n",
       "86           Development  \n",
       "87           Development  \n",
       "88                 Sales  \n",
       "89           Development  \n",
       "\n",
       "[90 rows x 10 columns]"
      ]
     },
     "execution_count": 12,
     "metadata": {},
     "output_type": "execute_result"
    }
   ],
   "source": [
    "df_hr"
   ]
  },
  {
   "cell_type": "code",
   "execution_count": 13,
   "metadata": {},
   "outputs": [
    {
     "name": "stdout",
     "output_type": "stream",
     "text": [
      "<class 'pandas.core.frame.DataFrame'>\n",
      "RangeIndex: 90 entries, 0 to 89\n",
      "Data columns (total 10 columns):\n",
      " #   Column              Non-Null Count  Dtype         \n",
      "---  ------              --------------  -----         \n",
      " 0   ID                  90 non-null     int64         \n",
      " 1   Employee            90 non-null     object        \n",
      " 2   Gender              90 non-null     object        \n",
      " 3   Birth Date          90 non-null     datetime64[ns]\n",
      " 4   Hire Date           90 non-null     datetime64[ns]\n",
      " 5   Termination Date    26 non-null     datetime64[ns]\n",
      " 6   Termination Reason  26 non-null     object        \n",
      " 7   Education           90 non-null     object        \n",
      " 8   Position            90 non-null     object        \n",
      " 9   Department          90 non-null     object        \n",
      "dtypes: datetime64[ns](3), int64(1), object(6)\n",
      "memory usage: 7.2+ KB\n"
     ]
    }
   ],
   "source": [
    "df_hr.info()"
   ]
  },
  {
   "cell_type": "code",
   "execution_count": 14,
   "metadata": {},
   "outputs": [],
   "source": [
    "df_hr.columns = df_hr.columns.str.replace(' ','_', regex=False)"
   ]
  },
  {
   "cell_type": "code",
   "execution_count": 15,
   "metadata": {},
   "outputs": [
    {
     "data": {
      "text/html": [
       "<div>\n",
       "<style scoped>\n",
       "    .dataframe tbody tr th:only-of-type {\n",
       "        vertical-align: middle;\n",
       "    }\n",
       "\n",
       "    .dataframe tbody tr th {\n",
       "        vertical-align: top;\n",
       "    }\n",
       "\n",
       "    .dataframe thead th {\n",
       "        text-align: right;\n",
       "    }\n",
       "</style>\n",
       "<table border=\"1\" class=\"dataframe\">\n",
       "  <thead>\n",
       "    <tr style=\"text-align: right;\">\n",
       "      <th></th>\n",
       "      <th>ID</th>\n",
       "      <th>Employee</th>\n",
       "      <th>Gender</th>\n",
       "      <th>Birth_Date</th>\n",
       "      <th>Hire_Date</th>\n",
       "      <th>Termination_Date</th>\n",
       "      <th>Termination_Reason</th>\n",
       "      <th>Education</th>\n",
       "      <th>Position</th>\n",
       "      <th>Department</th>\n",
       "    </tr>\n",
       "  </thead>\n",
       "  <tbody>\n",
       "    <tr>\n",
       "      <th>0</th>\n",
       "      <td>1</td>\n",
       "      <td>Harley Matthews</td>\n",
       "      <td>Female</td>\n",
       "      <td>1989-08-17</td>\n",
       "      <td>2011-10-02</td>\n",
       "      <td>NaT</td>\n",
       "      <td>NaN</td>\n",
       "      <td>Higher Certificate</td>\n",
       "      <td>Administrator</td>\n",
       "      <td>Finance / Accounting</td>\n",
       "    </tr>\n",
       "    <tr>\n",
       "      <th>1</th>\n",
       "      <td>2</td>\n",
       "      <td>Aliyah Thomas</td>\n",
       "      <td>Female</td>\n",
       "      <td>1988-03-27</td>\n",
       "      <td>2012-03-22</td>\n",
       "      <td>2015-05-01</td>\n",
       "      <td>Unfair Dismissal</td>\n",
       "      <td>Higher Certificate</td>\n",
       "      <td>Lawyer</td>\n",
       "      <td>Legal</td>\n",
       "    </tr>\n",
       "    <tr>\n",
       "      <th>2</th>\n",
       "      <td>3</td>\n",
       "      <td>Madeleine Bradley</td>\n",
       "      <td>Female</td>\n",
       "      <td>1981-04-18</td>\n",
       "      <td>2012-08-24</td>\n",
       "      <td>2016-06-19</td>\n",
       "      <td>Resignation</td>\n",
       "      <td>Bachelor's Incompleted</td>\n",
       "      <td>Administrative Analyst</td>\n",
       "      <td>Finance / Accounting</td>\n",
       "    </tr>\n",
       "    <tr>\n",
       "      <th>3</th>\n",
       "      <td>4</td>\n",
       "      <td>Gabrielle Gardner</td>\n",
       "      <td>Female</td>\n",
       "      <td>2002-10-31</td>\n",
       "      <td>2012-11-12</td>\n",
       "      <td>NaT</td>\n",
       "      <td>NaN</td>\n",
       "      <td>Bachelor's Completed</td>\n",
       "      <td>Accounting Analyst</td>\n",
       "      <td>Finance / Accounting</td>\n",
       "    </tr>\n",
       "    <tr>\n",
       "      <th>4</th>\n",
       "      <td>5</td>\n",
       "      <td>Molly Owen</td>\n",
       "      <td>Female</td>\n",
       "      <td>1979-10-22</td>\n",
       "      <td>2013-09-18</td>\n",
       "      <td>NaT</td>\n",
       "      <td>NaN</td>\n",
       "      <td>Bachelor's Completed</td>\n",
       "      <td>Database Analyst</td>\n",
       "      <td>Strategy</td>\n",
       "    </tr>\n",
       "    <tr>\n",
       "      <th>5</th>\n",
       "      <td>6</td>\n",
       "      <td>Lilah Gill</td>\n",
       "      <td>Female</td>\n",
       "      <td>1980-10-05</td>\n",
       "      <td>2014-01-16</td>\n",
       "      <td>2017-10-17</td>\n",
       "      <td>Resignation</td>\n",
       "      <td>Bachelor's Completed</td>\n",
       "      <td>Business Intelligence Analyst</td>\n",
       "      <td>Strategy</td>\n",
       "    </tr>\n",
       "    <tr>\n",
       "      <th>6</th>\n",
       "      <td>7</td>\n",
       "      <td>Winnie May</td>\n",
       "      <td>Female</td>\n",
       "      <td>1992-11-16</td>\n",
       "      <td>2014-04-26</td>\n",
       "      <td>2017-10-07</td>\n",
       "      <td>Unfair Dismissal</td>\n",
       "      <td>Bachelor's Completed</td>\n",
       "      <td>Communication Analyst</td>\n",
       "      <td>Marketing</td>\n",
       "    </tr>\n",
       "    <tr>\n",
       "      <th>7</th>\n",
       "      <td>8</td>\n",
       "      <td>Blossom Howard</td>\n",
       "      <td>Female</td>\n",
       "      <td>1996-09-20</td>\n",
       "      <td>2014-05-08</td>\n",
       "      <td>NaT</td>\n",
       "      <td>NaN</td>\n",
       "      <td>Major's</td>\n",
       "      <td>Personnel Analyst</td>\n",
       "      <td>Finance / Accounting</td>\n",
       "    </tr>\n",
       "    <tr>\n",
       "      <th>8</th>\n",
       "      <td>9</td>\n",
       "      <td>Anayah Armstrong</td>\n",
       "      <td>Female</td>\n",
       "      <td>1975-03-01</td>\n",
       "      <td>2014-06-15</td>\n",
       "      <td>NaT</td>\n",
       "      <td>NaN</td>\n",
       "      <td>Major's</td>\n",
       "      <td>Marketing Analyst</td>\n",
       "      <td>Marketing</td>\n",
       "    </tr>\n",
       "    <tr>\n",
       "      <th>9</th>\n",
       "      <td>10</td>\n",
       "      <td>Isabel Wood</td>\n",
       "      <td>Female</td>\n",
       "      <td>1974-10-13</td>\n",
       "      <td>2014-11-30</td>\n",
       "      <td>NaT</td>\n",
       "      <td>NaN</td>\n",
       "      <td>Major's</td>\n",
       "      <td>Business Analyst</td>\n",
       "      <td>Development</td>\n",
       "    </tr>\n",
       "  </tbody>\n",
       "</table>\n",
       "</div>"
      ],
      "text/plain": [
       "   ID           Employee  Gender Birth_Date  Hire_Date Termination_Date  \\\n",
       "0   1    Harley Matthews  Female 1989-08-17 2011-10-02              NaT   \n",
       "1   2      Aliyah Thomas  Female 1988-03-27 2012-03-22       2015-05-01   \n",
       "2   3  Madeleine Bradley  Female 1981-04-18 2012-08-24       2016-06-19   \n",
       "3   4  Gabrielle Gardner  Female 2002-10-31 2012-11-12              NaT   \n",
       "4   5         Molly Owen  Female 1979-10-22 2013-09-18              NaT   \n",
       "5   6         Lilah Gill  Female 1980-10-05 2014-01-16       2017-10-17   \n",
       "6   7         Winnie May  Female 1992-11-16 2014-04-26       2017-10-07   \n",
       "7   8     Blossom Howard  Female 1996-09-20 2014-05-08              NaT   \n",
       "8   9   Anayah Armstrong  Female 1975-03-01 2014-06-15              NaT   \n",
       "9  10        Isabel Wood  Female 1974-10-13 2014-11-30              NaT   \n",
       "\n",
       "  Termination_Reason               Education                       Position  \\\n",
       "0                NaN      Higher Certificate                  Administrator   \n",
       "1   Unfair Dismissal      Higher Certificate                         Lawyer   \n",
       "2        Resignation  Bachelor's Incompleted         Administrative Analyst   \n",
       "3                NaN    Bachelor's Completed             Accounting Analyst   \n",
       "4                NaN    Bachelor's Completed               Database Analyst   \n",
       "5        Resignation    Bachelor's Completed  Business Intelligence Analyst   \n",
       "6   Unfair Dismissal    Bachelor's Completed          Communication Analyst   \n",
       "7                NaN                 Major's              Personnel Analyst   \n",
       "8                NaN                 Major's              Marketing Analyst   \n",
       "9                NaN                 Major's               Business Analyst   \n",
       "\n",
       "             Department  \n",
       "0  Finance / Accounting  \n",
       "1                 Legal  \n",
       "2  Finance / Accounting  \n",
       "3  Finance / Accounting  \n",
       "4              Strategy  \n",
       "5              Strategy  \n",
       "6             Marketing  \n",
       "7  Finance / Accounting  \n",
       "8             Marketing  \n",
       "9           Development  "
      ]
     },
     "execution_count": 15,
     "metadata": {},
     "output_type": "execute_result"
    }
   ],
   "source": [
    "df_hr.head(10)"
   ]
  },
  {
   "cell_type": "markdown",
   "metadata": {},
   "source": [
    "##### __Important Step: Merging (Joining) Tables__"
   ]
  },
  {
   "cell_type": "code",
   "execution_count": 16,
   "metadata": {},
   "outputs": [],
   "source": [
    "df = df_emp.merge(right=df_hr).merge(right=df_dep)\n",
    "df.set_index('ID', inplace=True)\n",
    "df.sort_index(inplace=True)"
   ]
  },
  {
   "cell_type": "code",
   "execution_count": 17,
   "metadata": {},
   "outputs": [
    {
     "data": {
      "text/html": [
       "<div>\n",
       "<style scoped>\n",
       "    .dataframe tbody tr th:only-of-type {\n",
       "        vertical-align: middle;\n",
       "    }\n",
       "\n",
       "    .dataframe tbody tr th {\n",
       "        vertical-align: top;\n",
       "    }\n",
       "\n",
       "    .dataframe thead th {\n",
       "        text-align: right;\n",
       "    }\n",
       "</style>\n",
       "<table border=\"1\" class=\"dataframe\">\n",
       "  <thead>\n",
       "    <tr style=\"text-align: right;\">\n",
       "      <th></th>\n",
       "      <th>Performance_Review</th>\n",
       "      <th>City</th>\n",
       "      <th>Last_Promotion_Date</th>\n",
       "      <th>Salary</th>\n",
       "      <th>Overdue_Vacation</th>\n",
       "      <th>Employee</th>\n",
       "      <th>Gender</th>\n",
       "      <th>Birth_Date</th>\n",
       "      <th>Hire_Date</th>\n",
       "      <th>Termination_Date</th>\n",
       "      <th>Termination_Reason</th>\n",
       "      <th>Education</th>\n",
       "      <th>Position</th>\n",
       "      <th>Department</th>\n",
       "      <th>Manager</th>\n",
       "    </tr>\n",
       "    <tr>\n",
       "      <th>ID</th>\n",
       "      <th></th>\n",
       "      <th></th>\n",
       "      <th></th>\n",
       "      <th></th>\n",
       "      <th></th>\n",
       "      <th></th>\n",
       "      <th></th>\n",
       "      <th></th>\n",
       "      <th></th>\n",
       "      <th></th>\n",
       "      <th></th>\n",
       "      <th></th>\n",
       "      <th></th>\n",
       "      <th></th>\n",
       "      <th></th>\n",
       "    </tr>\n",
       "  </thead>\n",
       "  <tbody>\n",
       "    <tr>\n",
       "      <th>1</th>\n",
       "      <td>10</td>\n",
       "      <td>Alabama</td>\n",
       "      <td>NaT</td>\n",
       "      <td>4539</td>\n",
       "      <td>No</td>\n",
       "      <td>Harley Matthews</td>\n",
       "      <td>Female</td>\n",
       "      <td>1989-08-17</td>\n",
       "      <td>2011-10-02</td>\n",
       "      <td>NaT</td>\n",
       "      <td>NaN</td>\n",
       "      <td>Higher Certificate</td>\n",
       "      <td>Administrator</td>\n",
       "      <td>Finance / Accounting</td>\n",
       "      <td>Phelipp</td>\n",
       "    </tr>\n",
       "    <tr>\n",
       "      <th>2</th>\n",
       "      <td>10</td>\n",
       "      <td>Arizona</td>\n",
       "      <td>NaT</td>\n",
       "      <td>3698</td>\n",
       "      <td>Yes</td>\n",
       "      <td>Aliyah Thomas</td>\n",
       "      <td>Female</td>\n",
       "      <td>1988-03-27</td>\n",
       "      <td>2012-03-22</td>\n",
       "      <td>2015-05-01</td>\n",
       "      <td>Unfair Dismissal</td>\n",
       "      <td>Higher Certificate</td>\n",
       "      <td>Lawyer</td>\n",
       "      <td>Legal</td>\n",
       "      <td>Anna</td>\n",
       "    </tr>\n",
       "    <tr>\n",
       "      <th>3</th>\n",
       "      <td>8</td>\n",
       "      <td>Colorado</td>\n",
       "      <td>NaT</td>\n",
       "      <td>4157</td>\n",
       "      <td>Yes</td>\n",
       "      <td>Madeleine Bradley</td>\n",
       "      <td>Female</td>\n",
       "      <td>1981-04-18</td>\n",
       "      <td>2012-08-24</td>\n",
       "      <td>2016-06-19</td>\n",
       "      <td>Resignation</td>\n",
       "      <td>Bachelor's Incompleted</td>\n",
       "      <td>Administrative Analyst</td>\n",
       "      <td>Finance / Accounting</td>\n",
       "      <td>Phelipp</td>\n",
       "    </tr>\n",
       "    <tr>\n",
       "      <th>4</th>\n",
       "      <td>10</td>\n",
       "      <td>Missouri</td>\n",
       "      <td>NaT</td>\n",
       "      <td>4360</td>\n",
       "      <td>Yes</td>\n",
       "      <td>Gabrielle Gardner</td>\n",
       "      <td>Female</td>\n",
       "      <td>2002-10-31</td>\n",
       "      <td>2012-11-12</td>\n",
       "      <td>NaT</td>\n",
       "      <td>NaN</td>\n",
       "      <td>Bachelor's Completed</td>\n",
       "      <td>Accounting Analyst</td>\n",
       "      <td>Finance / Accounting</td>\n",
       "      <td>Phelipp</td>\n",
       "    </tr>\n",
       "    <tr>\n",
       "      <th>5</th>\n",
       "      <td>7</td>\n",
       "      <td>New York</td>\n",
       "      <td>NaT</td>\n",
       "      <td>4144</td>\n",
       "      <td>Yes</td>\n",
       "      <td>Molly Owen</td>\n",
       "      <td>Female</td>\n",
       "      <td>1979-10-22</td>\n",
       "      <td>2013-09-18</td>\n",
       "      <td>NaT</td>\n",
       "      <td>NaN</td>\n",
       "      <td>Bachelor's Completed</td>\n",
       "      <td>Database Analyst</td>\n",
       "      <td>Strategy</td>\n",
       "      <td>Antonella</td>\n",
       "    </tr>\n",
       "    <tr>\n",
       "      <th>...</th>\n",
       "      <td>...</td>\n",
       "      <td>...</td>\n",
       "      <td>...</td>\n",
       "      <td>...</td>\n",
       "      <td>...</td>\n",
       "      <td>...</td>\n",
       "      <td>...</td>\n",
       "      <td>...</td>\n",
       "      <td>...</td>\n",
       "      <td>...</td>\n",
       "      <td>...</td>\n",
       "      <td>...</td>\n",
       "      <td>...</td>\n",
       "      <td>...</td>\n",
       "      <td>...</td>\n",
       "    </tr>\n",
       "    <tr>\n",
       "      <th>86</th>\n",
       "      <td>10</td>\n",
       "      <td>Alabama</td>\n",
       "      <td>NaT</td>\n",
       "      <td>4430</td>\n",
       "      <td>No</td>\n",
       "      <td>Aryan Reynolds</td>\n",
       "      <td>Male</td>\n",
       "      <td>1963-11-21</td>\n",
       "      <td>2018-12-17</td>\n",
       "      <td>2019-03-17</td>\n",
       "      <td>Resignation</td>\n",
       "      <td>Higher Certificate</td>\n",
       "      <td>Commercial Assistant</td>\n",
       "      <td>Sales</td>\n",
       "      <td>Gabriela</td>\n",
       "    </tr>\n",
       "    <tr>\n",
       "      <th>87</th>\n",
       "      <td>9</td>\n",
       "      <td>Arizona</td>\n",
       "      <td>NaT</td>\n",
       "      <td>4183</td>\n",
       "      <td>No</td>\n",
       "      <td>Grayson Lowe</td>\n",
       "      <td>Male</td>\n",
       "      <td>1986-04-15</td>\n",
       "      <td>2019-05-05</td>\n",
       "      <td>NaT</td>\n",
       "      <td>NaN</td>\n",
       "      <td>Bachelor's Incompleted</td>\n",
       "      <td>Developer</td>\n",
       "      <td>Development</td>\n",
       "      <td>Leyla</td>\n",
       "    </tr>\n",
       "    <tr>\n",
       "      <th>88</th>\n",
       "      <td>10</td>\n",
       "      <td>Colorado</td>\n",
       "      <td>NaT</td>\n",
       "      <td>4308</td>\n",
       "      <td>No</td>\n",
       "      <td>Antonio Ball</td>\n",
       "      <td>Male</td>\n",
       "      <td>1984-08-17</td>\n",
       "      <td>2019-07-25</td>\n",
       "      <td>NaT</td>\n",
       "      <td>NaN</td>\n",
       "      <td>Bachelor's Completed</td>\n",
       "      <td>Pogrammer Analyst</td>\n",
       "      <td>Development</td>\n",
       "      <td>Leyla</td>\n",
       "    </tr>\n",
       "    <tr>\n",
       "      <th>89</th>\n",
       "      <td>7</td>\n",
       "      <td>Maryland</td>\n",
       "      <td>NaT</td>\n",
       "      <td>3920</td>\n",
       "      <td>No</td>\n",
       "      <td>Ethan Simpson</td>\n",
       "      <td>Male</td>\n",
       "      <td>1969-07-14</td>\n",
       "      <td>2019-08-04</td>\n",
       "      <td>NaT</td>\n",
       "      <td>NaN</td>\n",
       "      <td>Bachelor's Completed</td>\n",
       "      <td>Salesperson</td>\n",
       "      <td>Sales</td>\n",
       "      <td>Gabriela</td>\n",
       "    </tr>\n",
       "    <tr>\n",
       "      <th>90</th>\n",
       "      <td>7</td>\n",
       "      <td>Hawaii</td>\n",
       "      <td>NaT</td>\n",
       "      <td>4001</td>\n",
       "      <td>Yes</td>\n",
       "      <td>Blake Barker</td>\n",
       "      <td>Male</td>\n",
       "      <td>1982-06-13</td>\n",
       "      <td>2019-10-10</td>\n",
       "      <td>NaT</td>\n",
       "      <td>NaN</td>\n",
       "      <td>Doctoral</td>\n",
       "      <td>Developer</td>\n",
       "      <td>Development</td>\n",
       "      <td>Leyla</td>\n",
       "    </tr>\n",
       "  </tbody>\n",
       "</table>\n",
       "<p>90 rows × 15 columns</p>\n",
       "</div>"
      ],
      "text/plain": [
       "    Performance_Review       City Last_Promotion_Date  Salary  \\\n",
       "ID                                                              \n",
       "1                   10    Alabama                 NaT    4539   \n",
       "2                   10    Arizona                 NaT    3698   \n",
       "3                    8   Colorado                 NaT    4157   \n",
       "4                   10   Missouri                 NaT    4360   \n",
       "5                    7   New York                 NaT    4144   \n",
       "..                 ...        ...                 ...     ...   \n",
       "86                  10    Alabama                 NaT    4430   \n",
       "87                   9    Arizona                 NaT    4183   \n",
       "88                  10   Colorado                 NaT    4308   \n",
       "89                   7   Maryland                 NaT    3920   \n",
       "90                   7     Hawaii                 NaT    4001   \n",
       "\n",
       "   Overdue_Vacation           Employee  Gender Birth_Date  Hire_Date  \\\n",
       "ID                                                                     \n",
       "1                No    Harley Matthews  Female 1989-08-17 2011-10-02   \n",
       "2               Yes      Aliyah Thomas  Female 1988-03-27 2012-03-22   \n",
       "3               Yes  Madeleine Bradley  Female 1981-04-18 2012-08-24   \n",
       "4               Yes  Gabrielle Gardner  Female 2002-10-31 2012-11-12   \n",
       "5               Yes         Molly Owen  Female 1979-10-22 2013-09-18   \n",
       "..              ...                ...     ...        ...        ...   \n",
       "86               No     Aryan Reynolds    Male 1963-11-21 2018-12-17   \n",
       "87               No       Grayson Lowe    Male 1986-04-15 2019-05-05   \n",
       "88               No       Antonio Ball    Male 1984-08-17 2019-07-25   \n",
       "89               No      Ethan Simpson    Male 1969-07-14 2019-08-04   \n",
       "90              Yes       Blake Barker    Male 1982-06-13 2019-10-10   \n",
       "\n",
       "   Termination_Date Termination_Reason               Education  \\\n",
       "ID                                                               \n",
       "1               NaT                NaN      Higher Certificate   \n",
       "2        2015-05-01   Unfair Dismissal      Higher Certificate   \n",
       "3        2016-06-19        Resignation  Bachelor's Incompleted   \n",
       "4               NaT                NaN    Bachelor's Completed   \n",
       "5               NaT                NaN    Bachelor's Completed   \n",
       "..              ...                ...                     ...   \n",
       "86       2019-03-17        Resignation      Higher Certificate   \n",
       "87              NaT                NaN  Bachelor's Incompleted   \n",
       "88              NaT                NaN    Bachelor's Completed   \n",
       "89              NaT                NaN    Bachelor's Completed   \n",
       "90              NaT                NaN                Doctoral   \n",
       "\n",
       "                  Position            Department    Manager  \n",
       "ID                                                           \n",
       "1            Administrator  Finance / Accounting    Phelipp  \n",
       "2                   Lawyer                 Legal       Anna  \n",
       "3   Administrative Analyst  Finance / Accounting    Phelipp  \n",
       "4       Accounting Analyst  Finance / Accounting    Phelipp  \n",
       "5         Database Analyst              Strategy  Antonella  \n",
       "..                     ...                   ...        ...  \n",
       "86    Commercial Assistant                 Sales   Gabriela  \n",
       "87               Developer           Development      Leyla  \n",
       "88       Pogrammer Analyst           Development      Leyla  \n",
       "89             Salesperson                 Sales   Gabriela  \n",
       "90               Developer           Development      Leyla  \n",
       "\n",
       "[90 rows x 15 columns]"
      ]
     },
     "execution_count": 17,
     "metadata": {},
     "output_type": "execute_result"
    }
   ],
   "source": [
    "df"
   ]
  },
  {
   "cell_type": "markdown",
   "metadata": {},
   "source": [
    "### __Data Cleaning and Preprocessing__"
   ]
  },
  {
   "cell_type": "code",
   "execution_count": 18,
   "metadata": {},
   "outputs": [
    {
     "data": {
      "text/plain": [
       "Index(['Performance_Review', 'City', 'Last_Promotion_Date', 'Salary',\n",
       "       'Overdue_Vacation', 'Employee', 'Gender', 'Birth_Date', 'Hire_Date',\n",
       "       'Termination_Date', 'Termination_Reason', 'Education', 'Position',\n",
       "       'Department', 'Manager'],\n",
       "      dtype='object')"
      ]
     },
     "execution_count": 18,
     "metadata": {},
     "output_type": "execute_result"
    }
   ],
   "source": [
    "df.columns"
   ]
  },
  {
   "cell_type": "markdown",
   "metadata": {},
   "source": [
    "##### Firstly, we are going to rearrange the order of the columns"
   ]
  },
  {
   "cell_type": "code",
   "execution_count": 19,
   "metadata": {},
   "outputs": [],
   "source": [
    "df = df[['Employee', 'Gender', 'Birth_Date', 'Education',\n",
    "         'City', 'Position', 'Performance_Review', 'Salary', 'Hire_Date', 'Last_Promotion_Date',\n",
    "         'Termination_Date', 'Termination_Reason', 'Overdue_Vacation', 'Department', 'Manager']].copy()"
   ]
  },
  {
   "cell_type": "code",
   "execution_count": 20,
   "metadata": {},
   "outputs": [],
   "source": [
    "df['Department'] = df['Department'].replace('Technology and Equipment', 'Technology')"
   ]
  },
  {
   "cell_type": "code",
   "execution_count": 21,
   "metadata": {},
   "outputs": [
    {
     "data": {
      "text/html": [
       "<div>\n",
       "<style scoped>\n",
       "    .dataframe tbody tr th:only-of-type {\n",
       "        vertical-align: middle;\n",
       "    }\n",
       "\n",
       "    .dataframe tbody tr th {\n",
       "        vertical-align: top;\n",
       "    }\n",
       "\n",
       "    .dataframe thead th {\n",
       "        text-align: right;\n",
       "    }\n",
       "</style>\n",
       "<table border=\"1\" class=\"dataframe\">\n",
       "  <thead>\n",
       "    <tr style=\"text-align: right;\">\n",
       "      <th></th>\n",
       "      <th>Employee</th>\n",
       "      <th>Gender</th>\n",
       "      <th>Birth_Date</th>\n",
       "      <th>Education</th>\n",
       "      <th>City</th>\n",
       "      <th>Position</th>\n",
       "      <th>Performance_Review</th>\n",
       "      <th>Salary</th>\n",
       "      <th>Hire_Date</th>\n",
       "      <th>Last_Promotion_Date</th>\n",
       "      <th>Termination_Date</th>\n",
       "      <th>Termination_Reason</th>\n",
       "      <th>Overdue_Vacation</th>\n",
       "      <th>Department</th>\n",
       "      <th>Manager</th>\n",
       "    </tr>\n",
       "    <tr>\n",
       "      <th>ID</th>\n",
       "      <th></th>\n",
       "      <th></th>\n",
       "      <th></th>\n",
       "      <th></th>\n",
       "      <th></th>\n",
       "      <th></th>\n",
       "      <th></th>\n",
       "      <th></th>\n",
       "      <th></th>\n",
       "      <th></th>\n",
       "      <th></th>\n",
       "      <th></th>\n",
       "      <th></th>\n",
       "      <th></th>\n",
       "      <th></th>\n",
       "    </tr>\n",
       "  </thead>\n",
       "  <tbody>\n",
       "    <tr>\n",
       "      <th>1</th>\n",
       "      <td>Harley Matthews</td>\n",
       "      <td>Female</td>\n",
       "      <td>1989-08-17</td>\n",
       "      <td>Higher Certificate</td>\n",
       "      <td>Alabama</td>\n",
       "      <td>Administrator</td>\n",
       "      <td>10</td>\n",
       "      <td>4539</td>\n",
       "      <td>2011-10-02</td>\n",
       "      <td>NaT</td>\n",
       "      <td>NaT</td>\n",
       "      <td>NaN</td>\n",
       "      <td>No</td>\n",
       "      <td>Finance / Accounting</td>\n",
       "      <td>Phelipp</td>\n",
       "    </tr>\n",
       "    <tr>\n",
       "      <th>2</th>\n",
       "      <td>Aliyah Thomas</td>\n",
       "      <td>Female</td>\n",
       "      <td>1988-03-27</td>\n",
       "      <td>Higher Certificate</td>\n",
       "      <td>Arizona</td>\n",
       "      <td>Lawyer</td>\n",
       "      <td>10</td>\n",
       "      <td>3698</td>\n",
       "      <td>2012-03-22</td>\n",
       "      <td>NaT</td>\n",
       "      <td>2015-05-01</td>\n",
       "      <td>Unfair Dismissal</td>\n",
       "      <td>Yes</td>\n",
       "      <td>Legal</td>\n",
       "      <td>Anna</td>\n",
       "    </tr>\n",
       "    <tr>\n",
       "      <th>3</th>\n",
       "      <td>Madeleine Bradley</td>\n",
       "      <td>Female</td>\n",
       "      <td>1981-04-18</td>\n",
       "      <td>Bachelor's Incompleted</td>\n",
       "      <td>Colorado</td>\n",
       "      <td>Administrative Analyst</td>\n",
       "      <td>8</td>\n",
       "      <td>4157</td>\n",
       "      <td>2012-08-24</td>\n",
       "      <td>NaT</td>\n",
       "      <td>2016-06-19</td>\n",
       "      <td>Resignation</td>\n",
       "      <td>Yes</td>\n",
       "      <td>Finance / Accounting</td>\n",
       "      <td>Phelipp</td>\n",
       "    </tr>\n",
       "    <tr>\n",
       "      <th>4</th>\n",
       "      <td>Gabrielle Gardner</td>\n",
       "      <td>Female</td>\n",
       "      <td>2002-10-31</td>\n",
       "      <td>Bachelor's Completed</td>\n",
       "      <td>Missouri</td>\n",
       "      <td>Accounting Analyst</td>\n",
       "      <td>10</td>\n",
       "      <td>4360</td>\n",
       "      <td>2012-11-12</td>\n",
       "      <td>NaT</td>\n",
       "      <td>NaT</td>\n",
       "      <td>NaN</td>\n",
       "      <td>Yes</td>\n",
       "      <td>Finance / Accounting</td>\n",
       "      <td>Phelipp</td>\n",
       "    </tr>\n",
       "    <tr>\n",
       "      <th>5</th>\n",
       "      <td>Molly Owen</td>\n",
       "      <td>Female</td>\n",
       "      <td>1979-10-22</td>\n",
       "      <td>Bachelor's Completed</td>\n",
       "      <td>New York</td>\n",
       "      <td>Database Analyst</td>\n",
       "      <td>7</td>\n",
       "      <td>4144</td>\n",
       "      <td>2013-09-18</td>\n",
       "      <td>NaT</td>\n",
       "      <td>NaT</td>\n",
       "      <td>NaN</td>\n",
       "      <td>Yes</td>\n",
       "      <td>Strategy</td>\n",
       "      <td>Antonella</td>\n",
       "    </tr>\n",
       "  </tbody>\n",
       "</table>\n",
       "</div>"
      ],
      "text/plain": [
       "             Employee  Gender Birth_Date               Education      City  \\\n",
       "ID                                                                           \n",
       "1     Harley Matthews  Female 1989-08-17      Higher Certificate   Alabama   \n",
       "2       Aliyah Thomas  Female 1988-03-27      Higher Certificate   Arizona   \n",
       "3   Madeleine Bradley  Female 1981-04-18  Bachelor's Incompleted  Colorado   \n",
       "4   Gabrielle Gardner  Female 2002-10-31    Bachelor's Completed  Missouri   \n",
       "5          Molly Owen  Female 1979-10-22    Bachelor's Completed  New York   \n",
       "\n",
       "                  Position  Performance_Review  Salary  Hire_Date  \\\n",
       "ID                                                                  \n",
       "1            Administrator                  10    4539 2011-10-02   \n",
       "2                   Lawyer                  10    3698 2012-03-22   \n",
       "3   Administrative Analyst                   8    4157 2012-08-24   \n",
       "4       Accounting Analyst                  10    4360 2012-11-12   \n",
       "5         Database Analyst                   7    4144 2013-09-18   \n",
       "\n",
       "   Last_Promotion_Date Termination_Date Termination_Reason Overdue_Vacation  \\\n",
       "ID                                                                            \n",
       "1                  NaT              NaT                NaN               No   \n",
       "2                  NaT       2015-05-01   Unfair Dismissal              Yes   \n",
       "3                  NaT       2016-06-19        Resignation              Yes   \n",
       "4                  NaT              NaT                NaN              Yes   \n",
       "5                  NaT              NaT                NaN              Yes   \n",
       "\n",
       "              Department    Manager  \n",
       "ID                                   \n",
       "1   Finance / Accounting    Phelipp  \n",
       "2                  Legal       Anna  \n",
       "3   Finance / Accounting    Phelipp  \n",
       "4   Finance / Accounting    Phelipp  \n",
       "5               Strategy  Antonella  "
      ]
     },
     "execution_count": 21,
     "metadata": {},
     "output_type": "execute_result"
    }
   ],
   "source": [
    "df.head()"
   ]
  },
  {
   "cell_type": "markdown",
   "metadata": {},
   "source": [
    "### __Gender Column__"
   ]
  },
  {
   "cell_type": "code",
   "execution_count": 28,
   "metadata": {},
   "outputs": [
    {
     "data": {
      "text/plain": [
       "Gender\n",
       "Male     62.2\n",
       "Female   37.8\n",
       "Name: proportion, dtype: float64"
      ]
     },
     "execution_count": 28,
     "metadata": {},
     "output_type": "execute_result"
    }
   ],
   "source": [
    "gender = df['Gender'].value_counts(normalize=1)*100\n",
    "gender"
   ]
  },
  {
   "cell_type": "code",
   "execution_count": 50,
   "id": "01HWYDFWQ7MERB7G85T8FH753M",
   "metadata": {},
   "outputs": [
    {
     "data": {
      "application/vnd.plotly.v1+json": {
       "config": {
        "linkText": "Export to plot.ly",
        "plotlyServerURL": "https://plot.ly",
        "showLink": false
       },
       "data": [
        {
         "alignmentgroup": "True",
         "hovertemplate": "Gender: %{x}<br>Percentange: %{y:0.1f}%",
         "legendgroup": "Male",
         "marker": {
          "color": "red",
          "line": {
           "color": "#666",
           "width": 2
          },
          "pattern": {
           "shape": ""
          }
         },
         "name": "Male",
         "offsetgroup": "Male",
         "orientation": "v",
         "showlegend": true,
         "text": [
          "62%"
         ],
         "textfont": {
          "color": "#222",
          "family": "arial",
          "size": 16
         },
         "textposition": "auto",
         "type": "bar",
         "x": [
          "Male"
         ],
         "xaxis": "x",
         "y": [
          62.22222222222222
         ],
         "yaxis": "y"
        },
        {
         "alignmentgroup": "True",
         "hovertemplate": "Gender: %{x}<br>Percentange: %{y:0.1f}%",
         "legendgroup": "Female",
         "marker": {
          "color": "lightgrey",
          "line": {
           "color": "#666",
           "width": 2
          },
          "pattern": {
           "shape": ""
          }
         },
         "name": "Female",
         "offsetgroup": "Female",
         "orientation": "v",
         "showlegend": true,
         "text": [
          "38%"
         ],
         "textfont": {
          "color": "#222",
          "family": "arial",
          "size": 16
         },
         "textposition": "auto",
         "type": "bar",
         "x": [
          "Female"
         ],
         "xaxis": "x",
         "y": [
          37.77777777777778
         ],
         "yaxis": "y"
        }
       ],
       "layout": {
        "barmode": "relative",
        "hoverlabel": {
         "bgcolor": "#111",
         "font": {
          "family": "arial",
          "size": 16
         }
        },
        "legend": {
         "title": {
          "text": "Gender"
         },
         "tracegroupgap": 0
        },
        "showlegend": false,
        "template": {
         "data": {
          "bar": [
           {
            "error_x": {
             "color": "#2a3f5f"
            },
            "error_y": {
             "color": "#2a3f5f"
            },
            "marker": {
             "line": {
              "color": "white",
              "width": 0.5
             },
             "pattern": {
              "fillmode": "overlay",
              "size": 10,
              "solidity": 0.2
             }
            },
            "type": "bar"
           }
          ],
          "barpolar": [
           {
            "marker": {
             "line": {
              "color": "white",
              "width": 0.5
             },
             "pattern": {
              "fillmode": "overlay",
              "size": 10,
              "solidity": 0.2
             }
            },
            "type": "barpolar"
           }
          ],
          "carpet": [
           {
            "aaxis": {
             "endlinecolor": "#2a3f5f",
             "gridcolor": "#C8D4E3",
             "linecolor": "#C8D4E3",
             "minorgridcolor": "#C8D4E3",
             "startlinecolor": "#2a3f5f"
            },
            "baxis": {
             "endlinecolor": "#2a3f5f",
             "gridcolor": "#C8D4E3",
             "linecolor": "#C8D4E3",
             "minorgridcolor": "#C8D4E3",
             "startlinecolor": "#2a3f5f"
            },
            "type": "carpet"
           }
          ],
          "choropleth": [
           {
            "colorbar": {
             "outlinewidth": 0,
             "ticks": ""
            },
            "type": "choropleth"
           }
          ],
          "contour": [
           {
            "colorbar": {
             "outlinewidth": 0,
             "ticks": ""
            },
            "colorscale": [
             [
              0,
              "#0d0887"
             ],
             [
              0.1111111111111111,
              "#46039f"
             ],
             [
              0.2222222222222222,
              "#7201a8"
             ],
             [
              0.3333333333333333,
              "#9c179e"
             ],
             [
              0.4444444444444444,
              "#bd3786"
             ],
             [
              0.5555555555555556,
              "#d8576b"
             ],
             [
              0.6666666666666666,
              "#ed7953"
             ],
             [
              0.7777777777777778,
              "#fb9f3a"
             ],
             [
              0.8888888888888888,
              "#fdca26"
             ],
             [
              1,
              "#f0f921"
             ]
            ],
            "type": "contour"
           }
          ],
          "contourcarpet": [
           {
            "colorbar": {
             "outlinewidth": 0,
             "ticks": ""
            },
            "type": "contourcarpet"
           }
          ],
          "heatmap": [
           {
            "colorbar": {
             "outlinewidth": 0,
             "ticks": ""
            },
            "colorscale": [
             [
              0,
              "#0d0887"
             ],
             [
              0.1111111111111111,
              "#46039f"
             ],
             [
              0.2222222222222222,
              "#7201a8"
             ],
             [
              0.3333333333333333,
              "#9c179e"
             ],
             [
              0.4444444444444444,
              "#bd3786"
             ],
             [
              0.5555555555555556,
              "#d8576b"
             ],
             [
              0.6666666666666666,
              "#ed7953"
             ],
             [
              0.7777777777777778,
              "#fb9f3a"
             ],
             [
              0.8888888888888888,
              "#fdca26"
             ],
             [
              1,
              "#f0f921"
             ]
            ],
            "type": "heatmap"
           }
          ],
          "heatmapgl": [
           {
            "colorbar": {
             "outlinewidth": 0,
             "ticks": ""
            },
            "colorscale": [
             [
              0,
              "#0d0887"
             ],
             [
              0.1111111111111111,
              "#46039f"
             ],
             [
              0.2222222222222222,
              "#7201a8"
             ],
             [
              0.3333333333333333,
              "#9c179e"
             ],
             [
              0.4444444444444444,
              "#bd3786"
             ],
             [
              0.5555555555555556,
              "#d8576b"
             ],
             [
              0.6666666666666666,
              "#ed7953"
             ],
             [
              0.7777777777777778,
              "#fb9f3a"
             ],
             [
              0.8888888888888888,
              "#fdca26"
             ],
             [
              1,
              "#f0f921"
             ]
            ],
            "type": "heatmapgl"
           }
          ],
          "histogram": [
           {
            "marker": {
             "pattern": {
              "fillmode": "overlay",
              "size": 10,
              "solidity": 0.2
             }
            },
            "type": "histogram"
           }
          ],
          "histogram2d": [
           {
            "colorbar": {
             "outlinewidth": 0,
             "ticks": ""
            },
            "colorscale": [
             [
              0,
              "#0d0887"
             ],
             [
              0.1111111111111111,
              "#46039f"
             ],
             [
              0.2222222222222222,
              "#7201a8"
             ],
             [
              0.3333333333333333,
              "#9c179e"
             ],
             [
              0.4444444444444444,
              "#bd3786"
             ],
             [
              0.5555555555555556,
              "#d8576b"
             ],
             [
              0.6666666666666666,
              "#ed7953"
             ],
             [
              0.7777777777777778,
              "#fb9f3a"
             ],
             [
              0.8888888888888888,
              "#fdca26"
             ],
             [
              1,
              "#f0f921"
             ]
            ],
            "type": "histogram2d"
           }
          ],
          "histogram2dcontour": [
           {
            "colorbar": {
             "outlinewidth": 0,
             "ticks": ""
            },
            "colorscale": [
             [
              0,
              "#0d0887"
             ],
             [
              0.1111111111111111,
              "#46039f"
             ],
             [
              0.2222222222222222,
              "#7201a8"
             ],
             [
              0.3333333333333333,
              "#9c179e"
             ],
             [
              0.4444444444444444,
              "#bd3786"
             ],
             [
              0.5555555555555556,
              "#d8576b"
             ],
             [
              0.6666666666666666,
              "#ed7953"
             ],
             [
              0.7777777777777778,
              "#fb9f3a"
             ],
             [
              0.8888888888888888,
              "#fdca26"
             ],
             [
              1,
              "#f0f921"
             ]
            ],
            "type": "histogram2dcontour"
           }
          ],
          "mesh3d": [
           {
            "colorbar": {
             "outlinewidth": 0,
             "ticks": ""
            },
            "type": "mesh3d"
           }
          ],
          "parcoords": [
           {
            "line": {
             "colorbar": {
              "outlinewidth": 0,
              "ticks": ""
             }
            },
            "type": "parcoords"
           }
          ],
          "pie": [
           {
            "automargin": true,
            "type": "pie"
           }
          ],
          "scatter": [
           {
            "fillpattern": {
             "fillmode": "overlay",
             "size": 10,
             "solidity": 0.2
            },
            "type": "scatter"
           }
          ],
          "scatter3d": [
           {
            "line": {
             "colorbar": {
              "outlinewidth": 0,
              "ticks": ""
             }
            },
            "marker": {
             "colorbar": {
              "outlinewidth": 0,
              "ticks": ""
             }
            },
            "type": "scatter3d"
           }
          ],
          "scattercarpet": [
           {
            "marker": {
             "colorbar": {
              "outlinewidth": 0,
              "ticks": ""
             }
            },
            "type": "scattercarpet"
           }
          ],
          "scattergeo": [
           {
            "marker": {
             "colorbar": {
              "outlinewidth": 0,
              "ticks": ""
             }
            },
            "type": "scattergeo"
           }
          ],
          "scattergl": [
           {
            "marker": {
             "colorbar": {
              "outlinewidth": 0,
              "ticks": ""
             }
            },
            "type": "scattergl"
           }
          ],
          "scattermapbox": [
           {
            "marker": {
             "colorbar": {
              "outlinewidth": 0,
              "ticks": ""
             }
            },
            "type": "scattermapbox"
           }
          ],
          "scatterpolar": [
           {
            "marker": {
             "colorbar": {
              "outlinewidth": 0,
              "ticks": ""
             }
            },
            "type": "scatterpolar"
           }
          ],
          "scatterpolargl": [
           {
            "marker": {
             "colorbar": {
              "outlinewidth": 0,
              "ticks": ""
             }
            },
            "type": "scatterpolargl"
           }
          ],
          "scatterternary": [
           {
            "marker": {
             "colorbar": {
              "outlinewidth": 0,
              "ticks": ""
             }
            },
            "type": "scatterternary"
           }
          ],
          "surface": [
           {
            "colorbar": {
             "outlinewidth": 0,
             "ticks": ""
            },
            "colorscale": [
             [
              0,
              "#0d0887"
             ],
             [
              0.1111111111111111,
              "#46039f"
             ],
             [
              0.2222222222222222,
              "#7201a8"
             ],
             [
              0.3333333333333333,
              "#9c179e"
             ],
             [
              0.4444444444444444,
              "#bd3786"
             ],
             [
              0.5555555555555556,
              "#d8576b"
             ],
             [
              0.6666666666666666,
              "#ed7953"
             ],
             [
              0.7777777777777778,
              "#fb9f3a"
             ],
             [
              0.8888888888888888,
              "#fdca26"
             ],
             [
              1,
              "#f0f921"
             ]
            ],
            "type": "surface"
           }
          ],
          "table": [
           {
            "cells": {
             "fill": {
              "color": "#EBF0F8"
             },
             "line": {
              "color": "white"
             }
            },
            "header": {
             "fill": {
              "color": "#C8D4E3"
             },
             "line": {
              "color": "white"
             }
            },
            "type": "table"
           }
          ]
         },
         "layout": {
          "annotationdefaults": {
           "arrowcolor": "#2a3f5f",
           "arrowhead": 0,
           "arrowwidth": 1
          },
          "autotypenumbers": "strict",
          "coloraxis": {
           "colorbar": {
            "outlinewidth": 0,
            "ticks": ""
           }
          },
          "colorscale": {
           "diverging": [
            [
             0,
             "#8e0152"
            ],
            [
             0.1,
             "#c51b7d"
            ],
            [
             0.2,
             "#de77ae"
            ],
            [
             0.3,
             "#f1b6da"
            ],
            [
             0.4,
             "#fde0ef"
            ],
            [
             0.5,
             "#f7f7f7"
            ],
            [
             0.6,
             "#e6f5d0"
            ],
            [
             0.7,
             "#b8e186"
            ],
            [
             0.8,
             "#7fbc41"
            ],
            [
             0.9,
             "#4d9221"
            ],
            [
             1,
             "#276419"
            ]
           ],
           "sequential": [
            [
             0,
             "#0d0887"
            ],
            [
             0.1111111111111111,
             "#46039f"
            ],
            [
             0.2222222222222222,
             "#7201a8"
            ],
            [
             0.3333333333333333,
             "#9c179e"
            ],
            [
             0.4444444444444444,
             "#bd3786"
            ],
            [
             0.5555555555555556,
             "#d8576b"
            ],
            [
             0.6666666666666666,
             "#ed7953"
            ],
            [
             0.7777777777777778,
             "#fb9f3a"
            ],
            [
             0.8888888888888888,
             "#fdca26"
            ],
            [
             1,
             "#f0f921"
            ]
           ],
           "sequentialminus": [
            [
             0,
             "#0d0887"
            ],
            [
             0.1111111111111111,
             "#46039f"
            ],
            [
             0.2222222222222222,
             "#7201a8"
            ],
            [
             0.3333333333333333,
             "#9c179e"
            ],
            [
             0.4444444444444444,
             "#bd3786"
            ],
            [
             0.5555555555555556,
             "#d8576b"
            ],
            [
             0.6666666666666666,
             "#ed7953"
            ],
            [
             0.7777777777777778,
             "#fb9f3a"
            ],
            [
             0.8888888888888888,
             "#fdca26"
            ],
            [
             1,
             "#f0f921"
            ]
           ]
          },
          "colorway": [
           "#636efa",
           "#EF553B",
           "#00cc96",
           "#ab63fa",
           "#FFA15A",
           "#19d3f3",
           "#FF6692",
           "#B6E880",
           "#FF97FF",
           "#FECB52"
          ],
          "font": {
           "color": "#2a3f5f"
          },
          "geo": {
           "bgcolor": "white",
           "lakecolor": "white",
           "landcolor": "white",
           "showlakes": true,
           "showland": true,
           "subunitcolor": "#C8D4E3"
          },
          "hoverlabel": {
           "align": "left"
          },
          "hovermode": "closest",
          "mapbox": {
           "style": "light"
          },
          "paper_bgcolor": "white",
          "plot_bgcolor": "white",
          "polar": {
           "angularaxis": {
            "gridcolor": "#EBF0F8",
            "linecolor": "#EBF0F8",
            "ticks": ""
           },
           "bgcolor": "white",
           "radialaxis": {
            "gridcolor": "#EBF0F8",
            "linecolor": "#EBF0F8",
            "ticks": ""
           }
          },
          "scene": {
           "xaxis": {
            "backgroundcolor": "white",
            "gridcolor": "#DFE8F3",
            "gridwidth": 2,
            "linecolor": "#EBF0F8",
            "showbackground": true,
            "ticks": "",
            "zerolinecolor": "#EBF0F8"
           },
           "yaxis": {
            "backgroundcolor": "white",
            "gridcolor": "#DFE8F3",
            "gridwidth": 2,
            "linecolor": "#EBF0F8",
            "showbackground": true,
            "ticks": "",
            "zerolinecolor": "#EBF0F8"
           },
           "zaxis": {
            "backgroundcolor": "white",
            "gridcolor": "#DFE8F3",
            "gridwidth": 2,
            "linecolor": "#EBF0F8",
            "showbackground": true,
            "ticks": "",
            "zerolinecolor": "#EBF0F8"
           }
          },
          "shapedefaults": {
           "line": {
            "color": "#2a3f5f"
           }
          },
          "ternary": {
           "aaxis": {
            "gridcolor": "#DFE8F3",
            "linecolor": "#A2B1C6",
            "ticks": ""
           },
           "baxis": {
            "gridcolor": "#DFE8F3",
            "linecolor": "#A2B1C6",
            "ticks": ""
           },
           "bgcolor": "white",
           "caxis": {
            "gridcolor": "#DFE8F3",
            "linecolor": "#A2B1C6",
            "ticks": ""
           }
          },
          "title": {
           "x": 0.05
          },
          "xaxis": {
           "automargin": true,
           "gridcolor": "#EBF0F8",
           "linecolor": "#EBF0F8",
           "ticks": "",
           "title": {
            "standoff": 15
           },
           "zerolinecolor": "#EBF0F8",
           "zerolinewidth": 2
          },
          "yaxis": {
           "automargin": true,
           "gridcolor": "#EBF0F8",
           "linecolor": "#EBF0F8",
           "ticks": "",
           "title": {
            "standoff": 15
           },
           "zerolinecolor": "#EBF0F8",
           "zerolinewidth": 2
          }
         }
        },
        "title": {
         "font": {
          "family": "tahoma",
          "size": 28
         },
         "text": "Gender Frequency (PCT)"
        },
        "xaxis": {
         "anchor": "y",
         "categoryarray": [
          "Male",
          "Female"
         ],
         "categoryorder": "array",
         "domain": [
          0,
          1
         ],
         "title": {
          "text": "Gender"
         }
        },
        "yaxis": {
         "anchor": "x",
         "domain": [
          0,
          1
         ],
         "title": {
          "text": "Frequency in PCT (%)"
         }
        }
       }
      }
     },
     "metadata": {},
     "output_type": "display_data"
    }
   ],
   "source": [
    "fig = px.bar(\n",
    "    data_frame=gender,\n",
    "    x=gender.index,\n",
    "    y=gender,\n",
    "    color= gender.index,\n",
    "    title= 'Gender Frequency (PCT)',\n",
    "    color_discrete_sequence= ['red', 'lightgrey'],\n",
    "    labels= {'index' : 'Gender', 'y': 'Frequency in PCT (%)'},\n",
    "    template= 'plotly_white',\n",
    "    text=gender.apply(lambda x: f'{x:0.0f}%')\n",
    ")\n",
    "\n",
    "custom_layout()\n",
    "\n",
    "fig.update_traces(\n",
    "    textfont={\n",
    "        'size': 16,\n",
    "        'family': 'arial',\n",
    "        'color': '#222'\n",
    "    },\n",
    "    hovertemplate = 'Gender: %{x}<br>Percentange: %{y:0.1f}%',\n",
    "    marker = dict(line=dict(color='#666', width=2))\n",
    ")\n",
    "\n",
    "iplot(fig)"
   ]
  },
  {
   "cell_type": "markdown",
   "metadata": {},
   "source": [
    "### __Age Column__"
   ]
  },
  {
   "cell_type": "code",
   "execution_count": 51,
   "metadata": {},
   "outputs": [
    {
     "data": {
      "text/plain": [
       "Birth_Date\n",
       "1990    6\n",
       "1991    5\n",
       "1996    5\n",
       "1975    5\n",
       "1984    4\n",
       "Name: count, dtype: int64"
      ]
     },
     "execution_count": 51,
     "metadata": {},
     "output_type": "execute_result"
    }
   ],
   "source": [
    "birth = df['Birth_Date'].dt.year.value_counts()\n",
    "birth.head()"
   ]
  },
  {
   "cell_type": "code",
   "execution_count": 68,
   "metadata": {},
   "outputs": [
    {
     "name": "stdout",
     "output_type": "stream",
     "text": [
      "Average Age: 42.82\n",
      "Median Age: 43.0\n"
     ]
    }
   ],
   "source": [
    "current_year = datetime.now().year\n",
    "\n",
    "age_mean = np.mean((current_year - birth.index).to_list())\n",
    "age_median = np.median((current_year - birth.index).to_list())\n",
    "print(f'Average Age: {age_mean:0.2f}')\n",
    "print(f'Median Age: {age_median}')"
   ]
  },
  {
   "cell_type": "code",
   "execution_count": 70,
   "id": "01HX5X7CG42MHKZMQ86FWZ0VSS",
   "metadata": {},
   "outputs": [
    {
     "data": {
      "application/vnd.plotly.v1+json": {
       "config": {
        "plotlyServerURL": "https://plot.ly"
       },
       "data": [
        {
         "alignmentgroup": "True",
         "bingroup": "x",
         "histfunc": "sum",
         "hovertemplate": "Age: %{x}<br>Frequency: %{y}",
         "legendgroup": "",
         "marker": {
          "color": "#ED1C24",
          "line": {
           "color": "#111",
           "width": 1
          },
          "pattern": {
           "shape": ""
          }
         },
         "name": "",
         "nbinsx": 15,
         "offsetgroup": "",
         "orientation": "v",
         "showlegend": false,
         "textfont": {
          "color": "#fff",
          "family": "tahoma",
          "size": 20
         },
         "type": "histogram",
         "x": [
          34,
          33,
          28,
          49,
          40,
          38,
          41,
          32,
          44,
          45,
          55,
          42,
          29,
          36,
          37,
          56,
          31,
          54,
          35,
          57,
          30,
          50,
          43,
          59,
          48,
          53,
          24,
          60,
          52,
          51,
          63,
          46,
          39,
          25,
          23,
          58,
          47,
          22,
          61
         ],
         "xaxis": "x",
         "y": [
          6,
          5,
          5,
          5,
          4,
          4,
          4,
          4,
          4,
          4,
          3,
          3,
          3,
          2,
          2,
          2,
          2,
          2,
          2,
          2,
          2,
          2,
          2,
          1,
          1,
          1,
          1,
          1,
          1,
          1,
          1,
          1,
          1,
          1,
          1,
          1,
          1,
          1,
          1
         ],
         "yaxis": "y"
        }
       ],
       "layout": {
        "barmode": "relative",
        "hoverlabel": {
         "bgcolor": "#111",
         "font": {
          "family": "arial",
          "size": 16
         }
        },
        "legend": {
         "tracegroupgap": 0
        },
        "showlegend": false,
        "template": {
         "data": {
          "bar": [
           {
            "error_x": {
             "color": "#2a3f5f"
            },
            "error_y": {
             "color": "#2a3f5f"
            },
            "marker": {
             "line": {
              "color": "white",
              "width": 0.5
             },
             "pattern": {
              "fillmode": "overlay",
              "size": 10,
              "solidity": 0.2
             }
            },
            "type": "bar"
           }
          ],
          "barpolar": [
           {
            "marker": {
             "line": {
              "color": "white",
              "width": 0.5
             },
             "pattern": {
              "fillmode": "overlay",
              "size": 10,
              "solidity": 0.2
             }
            },
            "type": "barpolar"
           }
          ],
          "carpet": [
           {
            "aaxis": {
             "endlinecolor": "#2a3f5f",
             "gridcolor": "#C8D4E3",
             "linecolor": "#C8D4E3",
             "minorgridcolor": "#C8D4E3",
             "startlinecolor": "#2a3f5f"
            },
            "baxis": {
             "endlinecolor": "#2a3f5f",
             "gridcolor": "#C8D4E3",
             "linecolor": "#C8D4E3",
             "minorgridcolor": "#C8D4E3",
             "startlinecolor": "#2a3f5f"
            },
            "type": "carpet"
           }
          ],
          "choropleth": [
           {
            "colorbar": {
             "outlinewidth": 0,
             "ticks": ""
            },
            "type": "choropleth"
           }
          ],
          "contour": [
           {
            "colorbar": {
             "outlinewidth": 0,
             "ticks": ""
            },
            "colorscale": [
             [
              0,
              "#0d0887"
             ],
             [
              0.1111111111111111,
              "#46039f"
             ],
             [
              0.2222222222222222,
              "#7201a8"
             ],
             [
              0.3333333333333333,
              "#9c179e"
             ],
             [
              0.4444444444444444,
              "#bd3786"
             ],
             [
              0.5555555555555556,
              "#d8576b"
             ],
             [
              0.6666666666666666,
              "#ed7953"
             ],
             [
              0.7777777777777778,
              "#fb9f3a"
             ],
             [
              0.8888888888888888,
              "#fdca26"
             ],
             [
              1,
              "#f0f921"
             ]
            ],
            "type": "contour"
           }
          ],
          "contourcarpet": [
           {
            "colorbar": {
             "outlinewidth": 0,
             "ticks": ""
            },
            "type": "contourcarpet"
           }
          ],
          "heatmap": [
           {
            "colorbar": {
             "outlinewidth": 0,
             "ticks": ""
            },
            "colorscale": [
             [
              0,
              "#0d0887"
             ],
             [
              0.1111111111111111,
              "#46039f"
             ],
             [
              0.2222222222222222,
              "#7201a8"
             ],
             [
              0.3333333333333333,
              "#9c179e"
             ],
             [
              0.4444444444444444,
              "#bd3786"
             ],
             [
              0.5555555555555556,
              "#d8576b"
             ],
             [
              0.6666666666666666,
              "#ed7953"
             ],
             [
              0.7777777777777778,
              "#fb9f3a"
             ],
             [
              0.8888888888888888,
              "#fdca26"
             ],
             [
              1,
              "#f0f921"
             ]
            ],
            "type": "heatmap"
           }
          ],
          "heatmapgl": [
           {
            "colorbar": {
             "outlinewidth": 0,
             "ticks": ""
            },
            "colorscale": [
             [
              0,
              "#0d0887"
             ],
             [
              0.1111111111111111,
              "#46039f"
             ],
             [
              0.2222222222222222,
              "#7201a8"
             ],
             [
              0.3333333333333333,
              "#9c179e"
             ],
             [
              0.4444444444444444,
              "#bd3786"
             ],
             [
              0.5555555555555556,
              "#d8576b"
             ],
             [
              0.6666666666666666,
              "#ed7953"
             ],
             [
              0.7777777777777778,
              "#fb9f3a"
             ],
             [
              0.8888888888888888,
              "#fdca26"
             ],
             [
              1,
              "#f0f921"
             ]
            ],
            "type": "heatmapgl"
           }
          ],
          "histogram": [
           {
            "marker": {
             "pattern": {
              "fillmode": "overlay",
              "size": 10,
              "solidity": 0.2
             }
            },
            "type": "histogram"
           }
          ],
          "histogram2d": [
           {
            "colorbar": {
             "outlinewidth": 0,
             "ticks": ""
            },
            "colorscale": [
             [
              0,
              "#0d0887"
             ],
             [
              0.1111111111111111,
              "#46039f"
             ],
             [
              0.2222222222222222,
              "#7201a8"
             ],
             [
              0.3333333333333333,
              "#9c179e"
             ],
             [
              0.4444444444444444,
              "#bd3786"
             ],
             [
              0.5555555555555556,
              "#d8576b"
             ],
             [
              0.6666666666666666,
              "#ed7953"
             ],
             [
              0.7777777777777778,
              "#fb9f3a"
             ],
             [
              0.8888888888888888,
              "#fdca26"
             ],
             [
              1,
              "#f0f921"
             ]
            ],
            "type": "histogram2d"
           }
          ],
          "histogram2dcontour": [
           {
            "colorbar": {
             "outlinewidth": 0,
             "ticks": ""
            },
            "colorscale": [
             [
              0,
              "#0d0887"
             ],
             [
              0.1111111111111111,
              "#46039f"
             ],
             [
              0.2222222222222222,
              "#7201a8"
             ],
             [
              0.3333333333333333,
              "#9c179e"
             ],
             [
              0.4444444444444444,
              "#bd3786"
             ],
             [
              0.5555555555555556,
              "#d8576b"
             ],
             [
              0.6666666666666666,
              "#ed7953"
             ],
             [
              0.7777777777777778,
              "#fb9f3a"
             ],
             [
              0.8888888888888888,
              "#fdca26"
             ],
             [
              1,
              "#f0f921"
             ]
            ],
            "type": "histogram2dcontour"
           }
          ],
          "mesh3d": [
           {
            "colorbar": {
             "outlinewidth": 0,
             "ticks": ""
            },
            "type": "mesh3d"
           }
          ],
          "parcoords": [
           {
            "line": {
             "colorbar": {
              "outlinewidth": 0,
              "ticks": ""
             }
            },
            "type": "parcoords"
           }
          ],
          "pie": [
           {
            "automargin": true,
            "type": "pie"
           }
          ],
          "scatter": [
           {
            "fillpattern": {
             "fillmode": "overlay",
             "size": 10,
             "solidity": 0.2
            },
            "type": "scatter"
           }
          ],
          "scatter3d": [
           {
            "line": {
             "colorbar": {
              "outlinewidth": 0,
              "ticks": ""
             }
            },
            "marker": {
             "colorbar": {
              "outlinewidth": 0,
              "ticks": ""
             }
            },
            "type": "scatter3d"
           }
          ],
          "scattercarpet": [
           {
            "marker": {
             "colorbar": {
              "outlinewidth": 0,
              "ticks": ""
             }
            },
            "type": "scattercarpet"
           }
          ],
          "scattergeo": [
           {
            "marker": {
             "colorbar": {
              "outlinewidth": 0,
              "ticks": ""
             }
            },
            "type": "scattergeo"
           }
          ],
          "scattergl": [
           {
            "marker": {
             "colorbar": {
              "outlinewidth": 0,
              "ticks": ""
             }
            },
            "type": "scattergl"
           }
          ],
          "scattermapbox": [
           {
            "marker": {
             "colorbar": {
              "outlinewidth": 0,
              "ticks": ""
             }
            },
            "type": "scattermapbox"
           }
          ],
          "scatterpolar": [
           {
            "marker": {
             "colorbar": {
              "outlinewidth": 0,
              "ticks": ""
             }
            },
            "type": "scatterpolar"
           }
          ],
          "scatterpolargl": [
           {
            "marker": {
             "colorbar": {
              "outlinewidth": 0,
              "ticks": ""
             }
            },
            "type": "scatterpolargl"
           }
          ],
          "scatterternary": [
           {
            "marker": {
             "colorbar": {
              "outlinewidth": 0,
              "ticks": ""
             }
            },
            "type": "scatterternary"
           }
          ],
          "surface": [
           {
            "colorbar": {
             "outlinewidth": 0,
             "ticks": ""
            },
            "colorscale": [
             [
              0,
              "#0d0887"
             ],
             [
              0.1111111111111111,
              "#46039f"
             ],
             [
              0.2222222222222222,
              "#7201a8"
             ],
             [
              0.3333333333333333,
              "#9c179e"
             ],
             [
              0.4444444444444444,
              "#bd3786"
             ],
             [
              0.5555555555555556,
              "#d8576b"
             ],
             [
              0.6666666666666666,
              "#ed7953"
             ],
             [
              0.7777777777777778,
              "#fb9f3a"
             ],
             [
              0.8888888888888888,
              "#fdca26"
             ],
             [
              1,
              "#f0f921"
             ]
            ],
            "type": "surface"
           }
          ],
          "table": [
           {
            "cells": {
             "fill": {
              "color": "#EBF0F8"
             },
             "line": {
              "color": "white"
             }
            },
            "header": {
             "fill": {
              "color": "#C8D4E3"
             },
             "line": {
              "color": "white"
             }
            },
            "type": "table"
           }
          ]
         },
         "layout": {
          "annotationdefaults": {
           "arrowcolor": "#2a3f5f",
           "arrowhead": 0,
           "arrowwidth": 1
          },
          "autotypenumbers": "strict",
          "coloraxis": {
           "colorbar": {
            "outlinewidth": 0,
            "ticks": ""
           }
          },
          "colorscale": {
           "diverging": [
            [
             0,
             "#8e0152"
            ],
            [
             0.1,
             "#c51b7d"
            ],
            [
             0.2,
             "#de77ae"
            ],
            [
             0.3,
             "#f1b6da"
            ],
            [
             0.4,
             "#fde0ef"
            ],
            [
             0.5,
             "#f7f7f7"
            ],
            [
             0.6,
             "#e6f5d0"
            ],
            [
             0.7,
             "#b8e186"
            ],
            [
             0.8,
             "#7fbc41"
            ],
            [
             0.9,
             "#4d9221"
            ],
            [
             1,
             "#276419"
            ]
           ],
           "sequential": [
            [
             0,
             "#0d0887"
            ],
            [
             0.1111111111111111,
             "#46039f"
            ],
            [
             0.2222222222222222,
             "#7201a8"
            ],
            [
             0.3333333333333333,
             "#9c179e"
            ],
            [
             0.4444444444444444,
             "#bd3786"
            ],
            [
             0.5555555555555556,
             "#d8576b"
            ],
            [
             0.6666666666666666,
             "#ed7953"
            ],
            [
             0.7777777777777778,
             "#fb9f3a"
            ],
            [
             0.8888888888888888,
             "#fdca26"
            ],
            [
             1,
             "#f0f921"
            ]
           ],
           "sequentialminus": [
            [
             0,
             "#0d0887"
            ],
            [
             0.1111111111111111,
             "#46039f"
            ],
            [
             0.2222222222222222,
             "#7201a8"
            ],
            [
             0.3333333333333333,
             "#9c179e"
            ],
            [
             0.4444444444444444,
             "#bd3786"
            ],
            [
             0.5555555555555556,
             "#d8576b"
            ],
            [
             0.6666666666666666,
             "#ed7953"
            ],
            [
             0.7777777777777778,
             "#fb9f3a"
            ],
            [
             0.8888888888888888,
             "#fdca26"
            ],
            [
             1,
             "#f0f921"
            ]
           ]
          },
          "colorway": [
           "#636efa",
           "#EF553B",
           "#00cc96",
           "#ab63fa",
           "#FFA15A",
           "#19d3f3",
           "#FF6692",
           "#B6E880",
           "#FF97FF",
           "#FECB52"
          ],
          "font": {
           "color": "#2a3f5f"
          },
          "geo": {
           "bgcolor": "white",
           "lakecolor": "white",
           "landcolor": "white",
           "showlakes": true,
           "showland": true,
           "subunitcolor": "#C8D4E3"
          },
          "hoverlabel": {
           "align": "left"
          },
          "hovermode": "closest",
          "mapbox": {
           "style": "light"
          },
          "paper_bgcolor": "white",
          "plot_bgcolor": "white",
          "polar": {
           "angularaxis": {
            "gridcolor": "#EBF0F8",
            "linecolor": "#EBF0F8",
            "ticks": ""
           },
           "bgcolor": "white",
           "radialaxis": {
            "gridcolor": "#EBF0F8",
            "linecolor": "#EBF0F8",
            "ticks": ""
           }
          },
          "scene": {
           "xaxis": {
            "backgroundcolor": "white",
            "gridcolor": "#DFE8F3",
            "gridwidth": 2,
            "linecolor": "#EBF0F8",
            "showbackground": true,
            "ticks": "",
            "zerolinecolor": "#EBF0F8"
           },
           "yaxis": {
            "backgroundcolor": "white",
            "gridcolor": "#DFE8F3",
            "gridwidth": 2,
            "linecolor": "#EBF0F8",
            "showbackground": true,
            "ticks": "",
            "zerolinecolor": "#EBF0F8"
           },
           "zaxis": {
            "backgroundcolor": "white",
            "gridcolor": "#DFE8F3",
            "gridwidth": 2,
            "linecolor": "#EBF0F8",
            "showbackground": true,
            "ticks": "",
            "zerolinecolor": "#EBF0F8"
           }
          },
          "shapedefaults": {
           "line": {
            "color": "#2a3f5f"
           }
          },
          "ternary": {
           "aaxis": {
            "gridcolor": "#DFE8F3",
            "linecolor": "#A2B1C6",
            "ticks": ""
           },
           "baxis": {
            "gridcolor": "#DFE8F3",
            "linecolor": "#A2B1C6",
            "ticks": ""
           },
           "bgcolor": "white",
           "caxis": {
            "gridcolor": "#DFE8F3",
            "linecolor": "#A2B1C6",
            "ticks": ""
           }
          },
          "title": {
           "x": 0.05
          },
          "xaxis": {
           "automargin": true,
           "gridcolor": "#EBF0F8",
           "linecolor": "#EBF0F8",
           "ticks": "",
           "title": {
            "standoff": 15
           },
           "zerolinecolor": "#EBF0F8",
           "zerolinewidth": 2
          },
          "yaxis": {
           "automargin": true,
           "gridcolor": "#EBF0F8",
           "linecolor": "#EBF0F8",
           "ticks": "",
           "title": {
            "standoff": 15
           },
           "zerolinecolor": "#EBF0F8",
           "zerolinewidth": 2
          }
         }
        },
        "title": {
         "font": {
          "family": "tahoma",
          "size": 28
         },
         "text": "The Distribution of Age of Our Employees"
        },
        "xaxis": {
         "anchor": "y",
         "domain": [
          0,
          1
         ],
         "title": {
          "text": "Age"
         }
        },
        "yaxis": {
         "anchor": "x",
         "domain": [
          0,
          1
         ],
         "title": {
          "text": "sum of y"
         }
        }
       }
      }
     },
     "metadata": {},
     "output_type": "display_data"
    }
   ],
   "source": [
    "fig = px.histogram(\n",
    "    data_frame= birth, \n",
    "    x= (current_year - birth.index),\n",
    "    y= birth,\n",
    "    nbins= 15,\n",
    "    color_discrete_sequence=['#ED1C24'],\n",
    "    labels={'x': 'Age', 'sum of y':'Frequency'},\n",
    "    title= 'The Distribution of Age of Our Employees',\n",
    "    template= 'plotly_white'\n",
    "    )\n",
    "\n",
    "custom_layout()\n",
    "\n",
    "fig.update_traces(\n",
    "    textfont = {\n",
    "        'size': 20,\n",
    "        'family': 'tahoma',\n",
    "        'color': '#fff'\n",
    "    },\n",
    "    hovertemplate = 'Age: %{x}<br>Frequency: %{y}',\n",
    "    marker = dict(line=dict(color='#111', width=1))\n",
    ")"
   ]
  },
  {
   "cell_type": "code",
   "execution_count": 69,
   "id": "01HX5XRK9VWZKMJW5255BNE05H",
   "metadata": {},
   "outputs": [],
   "source": [
    "custom_layout()"
   ]
  }
 ],
 "metadata": {
  "kernelspec": {
   "display_name": "Python 3",
   "language": "python",
   "name": "python3"
  },
  "language_info": {
   "codemirror_mode": {
    "name": "ipython",
    "version": 3
   },
   "file_extension": ".py",
   "mimetype": "text/x-python",
   "name": "python",
   "nbconvert_exporter": "python",
   "pygments_lexer": "ipython3",
   "version": "3.11.7"
  }
 },
 "nbformat": 4,
 "nbformat_minor": 2
}
